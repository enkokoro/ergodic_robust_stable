{
 "cells": [
  {
   "cell_type": "markdown",
   "metadata": {},
   "source": [
    "# Outline\n",
    "0. Create ground truth distribution and get samples\n",
    "1. Parameterized models and maximum likelihood estimation\n",
    "2. Calculate fourier coefficients"
   ]
  },
  {
   "cell_type": "markdown",
   "metadata": {},
   "source": [
    "# 0. Ground Truth Distribution"
   ]
  },
  {
   "cell_type": "code",
   "execution_count": 1,
   "metadata": {},
   "outputs": [],
   "source": [
    "from enum import Enum\n",
    "class SamplingType(Enum):\n",
    "    # RANDOM = 1\n",
    "    # GRID = 2\n",
    "    SAMPLING = 3\n",
    "\n",
    "\n",
    "def gaussian_casadi_normalized(x, center, std, n=2):\n",
    "    return casadi.exp(-1/2 * casadi.sum2((x - center)**2)/std)/(2*np.pi*std) # casadi.sqrt((2*np.pi*std)**n)\n",
    "\n",
    "def gaussian_normalized(x, center, std, n=2):\n",
    "    return np.exp(-1/2 * np.sum((x - center)**2)/std)/np.sqrt((2*np.pi*std)**n)\n",
    "\n",
    "\n",
    "def gaussian_modes(n, num_modes, gaussian=gaussian_casadi_normalized):\n",
    "    num_params = (n+1)*num_modes\n",
    "    def model(x, params):\n",
    "        total = 0\n",
    "        for i in range(num_modes):\n",
    "            center = params[i,:-1]\n",
    "            std = params[i,-1]\n",
    "            total += gaussian(x, center, std) \n",
    "        return total\n",
    "    \n",
    "    return (num_modes, n+1), model, f\"{n}_mode_gaussian\""
   ]
  },
  {
   "cell_type": "code",
   "execution_count": 2,
   "metadata": {},
   "outputs": [],
   "source": [
    "U_shape = (1,1)\n",
    "\n",
    "from probability_distribution import *\n",
    "\n",
    "x = np.array([0.5,0.5])\n",
    "# params = np.array([[0.35, 0.75, 0.01], [0.7, 0.4, 0.01]]) # twin peaks\n",
    "params = np.array([[0.25, 0.75, 0.025], [0.5, 0.5, 0.025]])\n",
    "# _,model,_ = gaussian_modes(2,2,gaussian=gaussian_normalized)\n",
    "# mu_unnorm = lambda x: model(x, params)\n",
    "mu_unnorm = mu_gaussians([(np.array([0.25, 0.75]), 0.025), (np.array([0.6, 0.4]), 0.025)], U_shape) # paper peaks\n",
    "# mu_unnorm = mu_gaussians([(np.array([0.25, 0.75]), 0.025), (np.array([0.5, 0.5]), 0.025)], U_shape) # close peaks\n",
    "total = mu_total(mu_unnorm, U_shape)\n",
    "mu = lambda x: mu_unnorm(x)/total"
   ]
  },
  {
   "cell_type": "code",
   "execution_count": 3,
   "metadata": {},
   "outputs": [],
   "source": [
    "ground_truth = mu\n",
    "distribution_name = \"paper_peaks\"#\"close_peaks\"#\"twin_peaks\"\n",
    "s_type = SamplingType.SAMPLING    \n",
    "K = 5\n",
    "mu_display2D(ground_truth, U_shape, f\"maximum_likelihood_estimation/{distribution_name}_ground_truth\")"
   ]
  },
  {
   "cell_type": "code",
   "execution_count": 4,
   "metadata": {},
   "outputs": [],
   "source": [
    "from fourier_functions import *\n",
    "\n",
    "ff = Fourier_Functions(ground_truth, U_shape, K, compute_mu=True)\n",
    "ground_truth_mu_k = {k: ff[k]['mu_k'] for k in ff}\n"
   ]
  },
  {
   "cell_type": "code",
   "execution_count": 5,
   "metadata": {},
   "outputs": [],
   "source": [
    "resolution = 500\n",
    "alpha = 100 # approx how many points?\n",
    "import random \n",
    "\n",
    "sample_x = []\n",
    "sample_y = []\n",
    "sample_points = []\n",
    "for x in np.linspace(0, 1, resolution+1):\n",
    "    for y in np.linspace(0, 1, resolution+1):\n",
    "        point = np.array([x,y])\n",
    "        if random.random() < ground_truth(point)*(1/resolution)**2*alpha:\n",
    "            sample_x.append(x)\n",
    "            sample_y.append(y)\n",
    "            sample_points.append(point)\n",
    "\n",
    "sample_values = [ground_truth(x) for x in sample_points]"
   ]
  },
  {
   "cell_type": "code",
   "execution_count": 6,
   "metadata": {},
   "outputs": [],
   "source": [
    "import matplotlib.pyplot as plt\n",
    "fig = plt.figure()\n",
    "ax = fig.add_subplot(111)\n",
    "\n",
    "assert len(U_shape) == 2\n",
    "X,Y = np.meshgrid(*[np.linspace(0,U_shape[i]) for i in range(2)])\n",
    "_s = np.stack([X.ravel(), Y.ravel()]).T\n",
    "\n",
    "plt.title(\"Ground Truth and Sampling\")\n",
    "ax.contourf(X,Y, np.array(list(map(mu, _s))).reshape(X.shape), cmap='binary')\n",
    "ax.scatter(sample_x, sample_y)\n",
    "ax.set_aspect('equal')\n",
    "plt.axis('off')\n",
    "plt.savefig(f\"maximum_likelihood_estimation/{distribution_name}_ground_truth_sampling.pdf\")\n",
    "plt.close(\"all\")"
   ]
  },
  {
   "cell_type": "markdown",
   "metadata": {},
   "source": [
    "# 1. Parameterized models and maximum likelihood estimation"
   ]
  },
  {
   "cell_type": "code",
   "execution_count": 7,
   "metadata": {},
   "outputs": [],
   "source": [
    "# model(x, args*)\n",
    "# models = [gaussian_modes(2,num_modes,gaussian=gaussian_casadi_normalized) for num_modes in range(1, 6)]\n"
   ]
  },
  {
   "cell_type": "code",
   "execution_count": 8,
   "metadata": {},
   "outputs": [],
   "source": [
    "# import casadi\n",
    "# import pickle\n",
    "# from fourier_functions import *\n",
    "\n",
    "# full_models = []\n",
    "\n",
    "\n",
    "# def pdf_likelihood(params, model, sample_points):\n",
    "#     # integral = 0\n",
    "#     # for x in np.linspace(0, 1, resolution+1):\n",
    "#     #     for y in np.linspace(0, 1, resolution+1):\n",
    "#     #         integral += model(casadi.DM([[x,y]]), params)/resolution**2\n",
    "#     l = 1\n",
    "#     for x in sample_points:\n",
    "#         l *= model(casadi.DM(x.reshape((1,2))), params)# /integral\n",
    "#     return l\n",
    "\n",
    "# def function_distance(params, model, sample_points, sample_values):\n",
    "#     l = 0 \n",
    "#     for i, x in enumerate(sample_points):\n",
    "#         l += abs(sample_values[i] - model(x, params))\n",
    "#     return l\n",
    "\n",
    "# for num_args, model, model_name in models:\n",
    "#     print(f\"Model: {model_name}\")\n",
    "#     c_opti = casadi.Opti()\n",
    "#     params = c_opti.variable(num_args[0],num_args[1])\n",
    "#     num_modes, _ = num_args\n",
    "#     for i in range(num_modes):\n",
    "#         c_opti.subject_to( params[i,-1] > 1e-5 )\n",
    "#         c_opti.subject_to( params[i,:-1] >= 0 )\n",
    "#         c_opti.subject_to( params[i,:-1] <= np.array(U_shape).reshape(1,-1) )\n",
    "#     c_opti.minimize(-pdf_likelihood(params, model, sample_points))\n",
    "#     # c_opti.minimize(function_distance(params, model, sample_points, sample_values))\n",
    "\n",
    "#     p_opts = {}\n",
    "#     s_opts = {'print_level': 0}\n",
    "#     c_opti.solver('ipopt', p_opts, s_opts)\n",
    "#     params_sol = c_opti.solve() \n",
    "    \n",
    "#     mu = lambda x: model(x, params_sol)\n",
    "#     mu_display2D(mu, U_shape, f\"maximum_likelihood_estimation/{distribution_name}_{model_name}\")\n",
    "#     ff = Fourier_Functions(mu, U_shape, K, compute_mu=True)\n",
    "#     mu_k = {k: ff[k]['mu_k'] for k in ff}\n",
    "#     full_models.append((params_sol, mu, mu_k))\n",
    "\n",
    "#     with open(f'maximum_likelihood_estimation/{distribution_name}_{model_name}_{K}.pkl', 'wb') as handle:\n",
    "#         pickle.dump(mu_k, handle, protocol=pickle.HIGHEST_PROTOCOL)\n"
   ]
  },
  {
   "cell_type": "code",
   "execution_count": 9,
   "metadata": {},
   "outputs": [],
   "source": [
    "# plt.figure()\n",
    "# cmap = plt.get_cmap('viridis')\n",
    "# colors = cmap(np.linspace(0, 1, len(ff)))\n",
    "# ks = [k for k in ff]\n",
    "\n",
    "# for i, (k, color) in enumerate(zip(ks, colors), 1):\n",
    "#     plt.plot(perturbation_amts, [abs(perturbation[p_amt][\"c_k\"][k]-agent1.c_k[k]) for p_amt in perturbation_amts], \"o\", label=str(k), color=color)\n",
    "#     plt.plot(perturbation_amts, [min([p_amt/ff[k][\"h_k\"]*2*max(k), 2/ff[k][\"h_k\"]]) for p_amt in perturbation_amts], \"-\", color=color)\n",
    "# plt.xlabel(\"Maximum Perturbation Amount\")\n",
    "# plt.ylabel(\"c_k perturbation amount\")\n",
    "# plt.savefig(f\"perturbations/{distribution_name}_trajectory_perturbation_vs_c_k_perturbation.pdf\")\n",
    "# plt.close()\n",
    "\n",
    "# plt.figure()\n",
    "# for i, (k, color) in enumerate(zip(ks, colors), 1):\n",
    "#     plt.plot(perturbation_amts, [abs(perturbation[p_amt][\"c_k\"][k]-agent1.c_k[k]) for p_amt in perturbation_amts], \"o-\", label=str(k), color=color)\n",
    "# plt.xlabel(\"Maximum Perturbation Amount\")\n",
    "# plt.ylabel(\"c_k perturbation amount\")\n",
    "# plt.savefig(f\"perturbations/{distribution_name}_trajectory_perturbation_vs_c_k_perturbation_alone.pdf\")\n",
    "# plt.close()"
   ]
  },
  {
   "cell_type": "markdown",
   "metadata": {},
   "source": [
    "---------------------------------------------------------------------------------------------------"
   ]
  },
  {
   "cell_type": "code",
   "execution_count": 10,
   "metadata": {},
   "outputs": [
    {
     "name": "stdout",
     "output_type": "stream",
     "text": [
      "[[0.40261404]\n",
      " [0.59038596]]\n",
      "[[ 0.04305138 -0.02832764]\n",
      " [-0.02832764  0.03721606]]\n",
      "[[46.53476489 35.42073061]\n",
      " [35.42073061 53.83121264]]\n",
      "0.0007997474929047625\n"
     ]
    }
   ],
   "source": [
    "mean = np.mean(sample_points,axis=0).reshape(2,1)\n",
    "cov = (1/len(sample_points))*sum([(x.reshape(2,1)-mean)@(x.reshape(2,1)-mean).T for x in sample_points])\n",
    "print(mean)\n",
    "print(cov)\n",
    "print(np.linalg.inv(cov))\n",
    "print(np.linalg.det(cov))"
   ]
  },
  {
   "cell_type": "code",
   "execution_count": 11,
   "metadata": {},
   "outputs": [],
   "source": [
    "def one_mode(samples):\n",
    "    mean = np.mean(np.array(samples),axis=0)\n",
    "    std = np.sqrt(np.mean(np.array([np.linalg.norm(x-mean)**2 for x in samples])))\n",
    "    def res(x):\n",
    "        return np.exp(-1/2 * np.sum((x - mean)**2)/std)/np.sqrt((2*np.pi*std)**2)\n",
    "    return res\n",
    "\n",
    "def multivariate_gaussian(samples):\n",
    "    mean = np.mean(samples,axis=0).reshape(2,1)\n",
    "    cov = (1/len(samples))*sum([(x.reshape(2,1)-mean)@(x.reshape(2,1)-mean).T for x in samples])\n",
    "    invcov = np.linalg.inv(cov)\n",
    "    def res(x):\n",
    "        return np.exp(-1/2 * np.sum((x.reshape(2,1) - mean).T@invcov@(x.reshape(2,1) - mean)))\n",
    "    return res\n",
    "\n",
    "\n",
    "wrong_model = mu_normalize(multivariate_gaussian(sample_points), U_shape)\n",
    "wrong_model_name = \"unimodal\"\n",
    "mu_display2D(wrong_model, U_shape, f\"maximum_likelihood_estimation/{distribution_name}_{wrong_model_name}\")\n",
    "\n",
    "\n"
   ]
  },
  {
   "cell_type": "code",
   "execution_count": 12,
   "metadata": {},
   "outputs": [],
   "source": [
    "ff = Fourier_Functions(wrong_model, U_shape, K, compute_mu=True)\n",
    "model_mu_k = {k: ff[k]['mu_k'] for k in ff}"
   ]
  },
  {
   "cell_type": "code",
   "execution_count": 13,
   "metadata": {},
   "outputs": [],
   "source": [
    "import pickle\n",
    "with open(f'maximum_likelihood_estimation/{distribution_name}_{wrong_model_name}_{K}.pkl', 'wb') as handle:\n",
    "    pickle.dump(model_mu_k, handle, protocol=pickle.HIGHEST_PROTOCOL)\n",
    "\n",
    "fig = plt.figure()\n",
    "ax = fig.add_subplot(111)\n",
    "\n",
    "assert len(U_shape) == 2\n",
    "X,Y = np.meshgrid(*[np.linspace(0,U_shape[i]) for i in range(2)])\n",
    "_s = np.stack([X.ravel(), Y.ravel()]).T\n",
    "\n",
    "plt.title(\"Unimodal with Sampling\")\n",
    "ax.contourf(X,Y, np.array(list(map(wrong_model, _s))).reshape(X.shape), cmap='binary')\n",
    "ax.scatter(sample_x, sample_y)\n",
    "ax.set_aspect('equal')\n",
    "plt.axis('off')\n",
    "plt.savefig(f\"maximum_likelihood_estimation/{distribution_name}_{wrong_model_name}_sampling.pdf\")\n",
    "plt.close(\"all\")"
   ]
  },
  {
   "cell_type": "code",
   "execution_count": 14,
   "metadata": {},
   "outputs": [
    {
     "data": {
      "image/png": "[encoded data removed]",
      "text/plain": [
       "<Figure size 432x288 with 1 Axes>"
      ]
     },
     "metadata": {
      "needs_background": "light"
     },
     "output_type": "display_data"
    }
   ],
   "source": [
    "from mpl_toolkits import mplot3d\n",
    "\n",
    "fig = plt.figure()\n",
    "ax = plt.axes(projection='3d')\n",
    "x = []\n",
    "y = []\n",
    "z = []\n",
    "\n",
    "inf_norm = np.max(np.array(list(map(lambda x: abs(wrong_model(x)-ground_truth(x)), _s))).reshape(X.shape))\n",
    "fourier_diff_bound = []\n",
    "z_bound = []\n",
    "for k in model_mu_k:\n",
    "    x.append(k[0])\n",
    "    y.append(k[1])\n",
    "    z.append(abs(model_mu_k[k]-ground_truth_mu_k[k]))\n",
    "    fourier_diff_bound.append(2/ff[k][\"h_k\"])\n",
    "    z_bound.append(inf_norm*1/ff[k][\"h_k\"])\n",
    "ax.plot_trisurf(x, y, z, cmap='viridis', edgecolor='none')\n",
    "plt.savefig(f\"maximum_likelihood_estimation/{distribution_name}_{wrong_model_name}_error_alone.pdf\")\n",
    "ax.plot_trisurf(x, y, fourier_diff_bound, cmap='magma', edgecolor='none', alpha=0.5)\n",
    "plt.savefig(f\"maximum_likelihood_estimation/{distribution_name}_{wrong_model_name}_fourier_bound_error.pdf\")\n",
    "# ax.plot_trisurf(x, y, z_bound, cmap='viridis', edgecolor='none', alpha=0.25)\n",
    "# plt.savefig(f\"maximum_likelihood_estimation/{distribution_name}_{wrong_model_name}_max_error.pdf\")"
   ]
  },
  {
   "cell_type": "code",
   "execution_count": 15,
   "metadata": {},
   "outputs": [
    {
     "name": "stdout",
     "output_type": "stream",
     "text": [
      "\n",
      "******************************************************************************\n",
      "This program contains Ipopt, a library for large-scale nonlinear optimization.\n",
      " Ipopt is released as open source code under the Eclipse Public License (EPL).\n",
      "         For more information visit http://projects.coin-or.org/Ipopt\n",
      "******************************************************************************\n",
      "\n",
      "      solver  :   t_proc      (avg)   t_wall      (avg)    n_eval\n",
      "       nlp_f  |  17.66ms (840.95us)  17.88ms (851.43us)        21\n",
      "       nlp_g  | 969.00us ( 46.14us) 962.30us ( 45.82us)        21\n",
      "  nlp_grad_f  |  36.99ms (  1.68ms)  37.32ms (  1.70ms)        22\n",
      "  nlp_hess_l  |   4.46 s (223.10ms)   4.45 s (222.58ms)        20\n",
      "   nlp_jac_g  |   4.19ms (190.36us)   4.20ms (191.00us)        22\n",
      "       total  |   4.56 s (  4.56 s)   4.55 s (  4.55 s)         1\n",
      "      solver  :   t_proc      (avg)   t_wall      (avg)    n_eval\n",
      "       nlp_f  |  29.69ms (899.82us)  29.78ms (902.35us)        33\n",
      "       nlp_g  |   1.68ms ( 50.79us)   1.68ms ( 51.01us)        33\n",
      "  nlp_grad_f  |  58.30ms (  1.71ms)  58.43ms (  1.72ms)        34\n",
      "  nlp_hess_l  |   6.71 s (209.76ms)   6.72 s (210.01ms)        32\n",
      "   nlp_jac_g  |   6.65ms (195.50us)   6.67ms (196.14us)        34\n",
      "       total  |   6.87 s (  6.87 s)   6.88 s (  6.88 s)         1\n",
      "      solver  :   t_proc      (avg)   t_wall      (avg)    n_eval\n",
      "       nlp_f  |  30.23ms (  1.04ms)  30.34ms (  1.05ms)        29\n",
      "       nlp_g  |   1.93ms ( 66.41us)   1.92ms ( 66.27us)        29\n",
      "  nlp_grad_f  |  58.35ms (  1.94ms)  58.48ms (  1.95ms)        30\n",
      "  nlp_hess_l  |   7.23 s (258.18ms)   7.23 s (258.19ms)        28\n",
      "   nlp_jac_g  |   6.18ms (206.07us)   6.21ms (206.94us)        30\n",
      "       total  |   7.38 s (  7.38 s)   7.38 s (  7.38 s)         1\n",
      "      solver  :   t_proc      (avg)   t_wall      (avg)    n_eval\n",
      "       nlp_f  |  27.39ms (  1.05ms)  27.46ms (  1.06ms)        26\n",
      "       nlp_g  |   1.52ms ( 58.42us)   1.44ms ( 55.55us)        26\n",
      "  nlp_grad_f  |  52.46ms (  2.19ms)  52.61ms (  2.19ms)        24\n",
      "  nlp_hess_l  |   5.82 s (264.58ms)   5.82 s (264.59ms)        22\n",
      "   nlp_jac_g  |   5.34ms (222.42us)   5.37ms (223.67us)        24\n",
      "       total  |   5.96 s (  5.96 s)   5.96 s (  5.96 s)         1\n"
     ]
    }
   ],
   "source": [
    "from ergodic_agents import *\n",
    "from mm_agent import *\n",
    "from casadi_agent import *\n",
    "all_k = list(np.ndindex(*[K]*len(U_shape)))\n",
    "agent1 = CasadiAgent(0, np.array([0.2, 0.3]), 0.5, all_k, U_shape, ff, eps=1e-5)\n",
    "agent1.time_horizon = 30\n",
    "system1 = AgentSystem([agent1], wrong_model, U_shape, ff, K)\n",
    "t = 0\n",
    "delta_t = 0.1\n",
    "for i in range(100):\n",
    "    t = i * delta_t\n",
    "    system1.evolve(t, delta_t)\n",
    "system1.visualize_trajectory(f\"maximum_likelihood_estimation/{distribution_name}_{wrong_model_name}_trajectory.pdf\", \"\")\n"
   ]
  },
  {
   "cell_type": "code",
   "execution_count": 18,
   "metadata": {},
   "outputs": [
    {
     "name": "stdout",
     "output_type": "stream",
     "text": [
      "Ergodicity wrt to unimodal:  0.000442864318044466\n",
      "Ergodicity wrt to ground truth:  0.0010038335885898565\n",
      "Difference:  0.0005609692705453905\n"
     ]
    }
   ],
   "source": [
    "def ergodic_metric(lambda_k, c_k, mu_k):\n",
    "    return sum([lambda_k[k]*(mu_k[k] - c_k[k])**2 for k in lambda_k])\n",
    "\n",
    "_lambda_k = {k: ff[k]['lambda_k'] for k in ff}\n",
    "\n",
    "print(\"Ergodicity wrt to unimodal: \", system1.e_log[-1])\n",
    "print(\"Ergodicity wrt to ground truth: \", ergodic_metric(_lambda_k, system1.c_k, ground_truth_mu_k))\n",
    "print(\"Difference: \", abs(system1.e_log[-1] - ergodic_metric(_lambda_k, system1.c_k, ground_truth_mu_k)))"
   ]
  }
 ],
 "metadata": {
  "interpreter": {
   "hash": "31f2aee4e71d21fbe5cf8b01ff0e069b9275f58929596ceb00d14d90e3e16cd6"
  },
  "kernelspec": {
   "display_name": "Python 3.9.12 64-bit",
   "language": "python",
   "name": "python3"
  },
  "language_info": {
   "codemirror_mode": {
    "name": "ipython",
    "version": 3
   },
   "file_extension": ".py",
   "mimetype": "text/x-python",
   "name": "python",
   "nbconvert_exporter": "python",
   "pygments_lexer": "ipython3",
   "version": "3.9.12"
  },
  "orig_nbformat": 4
 },
 "nbformat": 4,
 "nbformat_minor": 2
}
