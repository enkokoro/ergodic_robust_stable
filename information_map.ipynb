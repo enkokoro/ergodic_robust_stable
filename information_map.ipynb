{
 "cells": [
  {
   "cell_type": "markdown",
   "metadata": {},
   "source": [
    "# Outline\n",
    "0. Create ground truth distribution and get samples\n",
    "1. Parameterized models and maximum likelihood estimation\n",
    "2. Calculate fourier coefficients"
   ]
  },
  {
   "cell_type": "markdown",
   "metadata": {},
   "source": [
    "# 0. Ground Truth Distribution"
   ]
  },
  {
   "cell_type": "code",
   "execution_count": 1,
   "metadata": {},
   "outputs": [],
   "source": [
    "from enum import Enum\n",
    "class SamplingType(Enum):\n",
    "    # RANDOM = 1\n",
    "    # GRID = 2\n",
    "    SAMPLING = 3\n",
    "\n",
    "\n",
    "def gaussian_casadi_normalized(x, center, std, n=2):\n",
    "    return casadi.exp(-1/2 * casadi.sum2((x - center)**2)/std)/(2*np.pi*std) # casadi.sqrt((2*np.pi*std)**n)\n",
    "\n",
    "def gaussian_normalized(x, center, std, n=2):\n",
    "    return np.exp(-1/2 * np.sum((x - center)**2)/std)/np.sqrt((2*np.pi*std)**n)\n",
    "\n",
    "\n",
    "def gaussian_modes(n, num_modes, gaussian=gaussian_casadi_normalized):\n",
    "    num_params = (n+1)*num_modes\n",
    "    def model(x, params):\n",
    "        total = 0\n",
    "        for i in range(num_modes):\n",
    "            center = params[i,:-1]\n",
    "            std = params[i,-1]\n",
    "            total += gaussian(x, center, std) \n",
    "        return total\n",
    "    \n",
    "    return (num_modes, n+1), model, f\"{n}_mode_gaussian\""
   ]
  },
  {
   "cell_type": "code",
   "execution_count": 2,
   "metadata": {},
   "outputs": [],
   "source": [
    "U_shape = (1,1)\n",
    "\n",
    "from probability_distribution import *\n",
    "\n",
    "x = np.array([0.5,0.5])\n",
    "params = np.array([[0.25, 0.75, 0.025], [0.6, 0.3, 0.025]])\n",
    "\n",
    "_,model,_ = gaussian_modes(2,2,gaussian=gaussian_normalized)\n",
    "mu_unnorm = lambda x: model(x, params)\n",
    "total = mu_total(mu_unnorm, U_shape)\n",
    "mu = lambda x: mu_unnorm(x)/total"
   ]
  },
  {
   "cell_type": "code",
   "execution_count": 3,
   "metadata": {},
   "outputs": [],
   "source": [
    "ground_truth = mu\n",
    "distribution_name = \"twin_peaks\"\n",
    "s_type = SamplingType.SAMPLING    \n",
    "K = 5"
   ]
  },
  {
   "cell_type": "code",
   "execution_count": 5,
   "metadata": {},
   "outputs": [],
   "source": [
    "from fourier_functions import *\n",
    "mu_display2D(ground_truth, U_shape, f\"maximum_likelihood_estimation/{distribution_name}_ground_truth\")\n",
    "ff = Fourier_Functions(ground_truth, U_shape, K, compute_mu=True)\n",
    "ground_truth_mu_k = {k: ff[k]['mu_k'] for k in ff}\n"
   ]
  },
  {
   "cell_type": "code",
   "execution_count": 6,
   "metadata": {},
   "outputs": [],
   "source": [
    "resolution = 100\n",
    "alpha = 20 # approx how many points?\n",
    "import random \n",
    "\n",
    "sample_x = []\n",
    "sample_y = []\n",
    "sample_points = []\n",
    "for x in np.linspace(0, 1, resolution+1):\n",
    "    for y in np.linspace(0, 1, resolution+1):\n",
    "        point = np.array([x,y])\n",
    "        if random.random() < ground_truth(point)*(1/resolution)**2*alpha:\n",
    "            sample_x.append(x)\n",
    "            sample_y.append(y)\n",
    "            sample_points.append(point)\n",
    "\n",
    "sample_values = [ground_truth(x) for x in sample_points]"
   ]
  },
  {
   "cell_type": "code",
   "execution_count": 7,
   "metadata": {},
   "outputs": [],
   "source": [
    "import matplotlib.pyplot as plt\n",
    "fig = plt.figure()\n",
    "ax = fig.add_subplot(111)\n",
    "\n",
    "assert len(U_shape) == 2\n",
    "X,Y = np.meshgrid(*[np.linspace(0,U_shape[i]) for i in range(2)])\n",
    "_s = np.stack([X.ravel(), Y.ravel()]).T\n",
    "\n",
    "plt.title(\"Ground Truth and Sampling\")\n",
    "ax.contourf(X,Y, np.array(list(map(mu, _s))).reshape(X.shape), cmap='binary')\n",
    "ax.scatter(sample_x, sample_y)\n",
    "ax.set_aspect('equal')\n",
    "plt.axis('off')\n",
    "plt.savefig(f\"maximum_likelihood_estimation/{distribution_name}_ground_truth_sampling.pdf\")\n",
    "plt.close(\"all\")"
   ]
  },
  {
   "cell_type": "markdown",
   "metadata": {},
   "source": [
    "# 1. Parameterized models and maximum likelihood estimation"
   ]
  },
  {
   "cell_type": "code",
   "execution_count": 39,
   "metadata": {},
   "outputs": [],
   "source": [
    "# model(x, args*)\n",
    "models = [gaussian_modes(2,num_modes,gaussian=gaussian_casadi_normalized) for num_modes in range(1, 6)]\n"
   ]
  },
  {
   "cell_type": "code",
   "execution_count": 40,
   "metadata": {},
   "outputs": [
    {
     "name": "stdout",
     "output_type": "stream",
     "text": [
      "Model: 2_mode_gaussian\n",
      "      solver  :   t_proc      (avg)   t_wall      (avg)    n_eval\n",
      "       nlp_g  |   4.00us (  4.00us)   3.00us (  3.00us)         1\n",
      "  nlp_grad_f  |   1.37ms (685.00us) 843.00us (421.50us)         2\n",
      "   nlp_jac_g  |   9.00us (  4.50us)   8.30us (  4.15us)         2\n",
      "       total  |   2.23ms (  2.23ms)   1.28ms (  1.28ms)         1\n"
     ]
    },
    {
     "name": "stderr",
     "output_type": "stream",
     "text": [
      "CasADi - 2022-05-29 18:45:58 WARNING(\"solver:nlp_grad_f failed: NaN detected for output grad_f_x, at (row 0, col 0).\") [.../casadi/core/oracle_function.cpp:265]\n",
      "CasADi - 2022-05-29 18:45:58 WARNING(\"solver:nlp_grad_f failed: NaN detected for output grad_f_x, at (row 0, col 0).\") [.../casadi/core/oracle_function.cpp:265]\n"
     ]
    },
    {
     "ename": "RuntimeError",
     "evalue": "Error in Opti::solve [OptiNode] at .../casadi/core/optistack.cpp:159:\n.../casadi/core/optistack_internal.cpp:999: Assertion \"return_success(accept_limit)\" failed:\nSolver failed. You may use opti.debug.value to investigate the latest values of variables. return_status is 'Invalid_Number_Detected'",
     "output_type": "error",
     "traceback": [
      "\u001b[0;31m---------------------------------------------------------------------------\u001b[0m",
      "\u001b[0;31mRuntimeError\u001b[0m                              Traceback (most recent call last)",
      "\u001b[0;32m<ipython-input-40-e997dcec6722>\u001b[0m in \u001b[0;36m<module>\u001b[0;34m\u001b[0m\n\u001b[1;32m     37\u001b[0m     \u001b[0ms_opts\u001b[0m \u001b[0;34m=\u001b[0m \u001b[0;34m{\u001b[0m\u001b[0;34m'print_level'\u001b[0m\u001b[0;34m:\u001b[0m \u001b[0;36m0\u001b[0m\u001b[0;34m}\u001b[0m\u001b[0;34m\u001b[0m\u001b[0;34m\u001b[0m\u001b[0m\n\u001b[1;32m     38\u001b[0m     \u001b[0mc_opti\u001b[0m\u001b[0;34m.\u001b[0m\u001b[0msolver\u001b[0m\u001b[0;34m(\u001b[0m\u001b[0;34m'ipopt'\u001b[0m\u001b[0;34m,\u001b[0m \u001b[0mp_opts\u001b[0m\u001b[0;34m,\u001b[0m \u001b[0ms_opts\u001b[0m\u001b[0;34m)\u001b[0m\u001b[0;34m\u001b[0m\u001b[0;34m\u001b[0m\u001b[0m\n\u001b[0;32m---> 39\u001b[0;31m     \u001b[0mparams_sol\u001b[0m \u001b[0;34m=\u001b[0m \u001b[0mc_opti\u001b[0m\u001b[0;34m.\u001b[0m\u001b[0msolve\u001b[0m\u001b[0;34m(\u001b[0m\u001b[0;34m)\u001b[0m\u001b[0;34m\u001b[0m\u001b[0;34m\u001b[0m\u001b[0m\n\u001b[0m\u001b[1;32m     40\u001b[0m \u001b[0;34m\u001b[0m\u001b[0m\n\u001b[1;32m     41\u001b[0m     \u001b[0mmu\u001b[0m \u001b[0;34m=\u001b[0m \u001b[0;32mlambda\u001b[0m \u001b[0mx\u001b[0m\u001b[0;34m:\u001b[0m \u001b[0mmodel\u001b[0m\u001b[0;34m(\u001b[0m\u001b[0mx\u001b[0m\u001b[0;34m,\u001b[0m \u001b[0mparams_sol\u001b[0m\u001b[0;34m)\u001b[0m\u001b[0;34m\u001b[0m\u001b[0;34m\u001b[0m\u001b[0m\n",
      "\u001b[0;32m~/.local/lib/python3.9/site-packages/casadi/casadi.py\u001b[0m in \u001b[0;36msolve\u001b[0;34m(self, *args)\u001b[0m\n\u001b[1;32m  27548\u001b[0m \u001b[0;34m\u001b[0m\u001b[0m\n\u001b[1;32m  27549\u001b[0m         \"\"\"\n\u001b[0;32m> 27550\u001b[0;31m         \u001b[0;32mreturn\u001b[0m \u001b[0m_casadi\u001b[0m\u001b[0;34m.\u001b[0m\u001b[0mOpti_solve\u001b[0m\u001b[0;34m(\u001b[0m\u001b[0mself\u001b[0m\u001b[0;34m,\u001b[0m \u001b[0;34m*\u001b[0m\u001b[0margs\u001b[0m\u001b[0;34m)\u001b[0m\u001b[0;34m\u001b[0m\u001b[0;34m\u001b[0m\u001b[0m\n\u001b[0m\u001b[1;32m  27551\u001b[0m \u001b[0;34m\u001b[0m\u001b[0m\n\u001b[1;32m  27552\u001b[0m \u001b[0;34m\u001b[0m\u001b[0m\n",
      "\u001b[0;31mRuntimeError\u001b[0m: Error in Opti::solve [OptiNode] at .../casadi/core/optistack.cpp:159:\n.../casadi/core/optistack_internal.cpp:999: Assertion \"return_success(accept_limit)\" failed:\nSolver failed. You may use opti.debug.value to investigate the latest values of variables. return_status is 'Invalid_Number_Detected'"
     ]
    }
   ],
   "source": [
    "import casadi\n",
    "import pickle\n",
    "from fourier_functions import *\n",
    "\n",
    "full_models = []\n",
    "\n",
    "\n",
    "def pdf_likelihood(params, model, sample_points):\n",
    "    # integral = 0\n",
    "    # for x in np.linspace(0, 1, resolution+1):\n",
    "    #     for y in np.linspace(0, 1, resolution+1):\n",
    "    #         integral += model(casadi.DM([[x,y]]), params)/resolution**2\n",
    "    l = 1\n",
    "    for x in sample_points:\n",
    "        l *= model(casadi.DM(x.reshape((1,2))), params)# /integral\n",
    "    return l\n",
    "\n",
    "def function_distance(params, model, sample_points, sample_values):\n",
    "    l = 0 \n",
    "    for i, x in enumerate(sample_points):\n",
    "        l += abs(sample_values[i] - model(x, params))\n",
    "    return l\n",
    "\n",
    "for num_args, model, model_name in models:\n",
    "    print(f\"Model: {model_name}\")\n",
    "    c_opti = casadi.Opti()\n",
    "    params = c_opti.variable(num_args[0],num_args[1])\n",
    "    num_modes, _ = num_args\n",
    "    for i in range(num_modes):\n",
    "        c_opti.subject_to( params[i,-1] > 1e-5 )\n",
    "        c_opti.subject_to( params[i,:-1] >= 0 )\n",
    "        c_opti.subject_to( params[i,:-1] <= np.array(U_shape).reshape(1,-1) )\n",
    "    c_opti.minimize(-pdf_likelihood(params, model, sample_points))\n",
    "    # c_opti.minimize(function_distance(params, model, sample_points, sample_values))\n",
    "\n",
    "    p_opts = {}\n",
    "    s_opts = {'print_level': 0}\n",
    "    c_opti.solver('ipopt', p_opts, s_opts)\n",
    "    params_sol = c_opti.solve() \n",
    "    \n",
    "    mu = lambda x: model(x, params_sol)\n",
    "    mu_display2D(mu, U_shape, f\"maximum_likelihood_estimation/{distribution_name}_{model_name}\")\n",
    "    ff = Fourier_Functions(mu, U_shape, K, compute_mu=True)\n",
    "    mu_k = {k: ff[k]['mu_k'] for k in ff}\n",
    "    full_models.append((params_sol, mu, mu_k))\n",
    "\n",
    "    with open(f'maximum_likelihood_estimation/{distribution_name}_{model_name}_{K}.pkl', 'wb') as handle:\n",
    "        pickle.dump(mu_k, handle, protocol=pickle.HIGHEST_PROTOCOL)\n"
   ]
  },
  {
   "cell_type": "code",
   "execution_count": null,
   "metadata": {},
   "outputs": [],
   "source": [
    "# plt.figure()\n",
    "# cmap = plt.get_cmap('viridis')\n",
    "# colors = cmap(np.linspace(0, 1, len(ff)))\n",
    "# ks = [k for k in ff]\n",
    "\n",
    "# for i, (k, color) in enumerate(zip(ks, colors), 1):\n",
    "#     plt.plot(perturbation_amts, [abs(perturbation[p_amt][\"c_k\"][k]-agent1.c_k[k]) for p_amt in perturbation_amts], \"o\", label=str(k), color=color)\n",
    "#     plt.plot(perturbation_amts, [min([p_amt/ff[k][\"h_k\"]*2*max(k), 2/ff[k][\"h_k\"]]) for p_amt in perturbation_amts], \"-\", color=color)\n",
    "# plt.xlabel(\"Maximum Perturbation Amount\")\n",
    "# plt.ylabel(\"c_k perturbation amount\")\n",
    "# plt.savefig(f\"perturbations/{distribution_name}_trajectory_perturbation_vs_c_k_perturbation.pdf\")\n",
    "# plt.close()\n",
    "\n",
    "# plt.figure()\n",
    "# for i, (k, color) in enumerate(zip(ks, colors), 1):\n",
    "#     plt.plot(perturbation_amts, [abs(perturbation[p_amt][\"c_k\"][k]-agent1.c_k[k]) for p_amt in perturbation_amts], \"o-\", label=str(k), color=color)\n",
    "# plt.xlabel(\"Maximum Perturbation Amount\")\n",
    "# plt.ylabel(\"c_k perturbation amount\")\n",
    "# plt.savefig(f\"perturbations/{distribution_name}_trajectory_perturbation_vs_c_k_perturbation_alone.pdf\")\n",
    "# plt.close()"
   ]
  },
  {
   "cell_type": "markdown",
   "metadata": {},
   "source": [
    "---------------------------------------------------------------------------------------------------"
   ]
  },
  {
   "cell_type": "code",
   "execution_count": 14,
   "metadata": {},
   "outputs": [
    {
     "data": {
      "text/plain": [
       "array([0.38736842, 0.58947368])"
      ]
     },
     "execution_count": 14,
     "metadata": {},
     "output_type": "execute_result"
    }
   ],
   "source": [
    "np.mean(np.array(sample_points),axis=0)"
   ]
  },
  {
   "cell_type": "code",
   "execution_count": 15,
   "metadata": {},
   "outputs": [],
   "source": [
    "def one_mode(samples):\n",
    "    mean = np.mean(np.array(samples),axis=0)\n",
    "    std = np.sqrt(np.mean(np.array([np.linalg.norm(x-mean)**2 for x in samples])))\n",
    "    return lambda x: gaussian_normalized(x, mean, std, n=2)\n",
    "\n",
    "model = one_mode(sample_points)\n",
    "model_name = \"unimodal\"\n",
    "mu_display2D(model, U_shape, f\"maximum_likelihood_estimation/{distribution_name}_{model_name}\")\n",
    "ff = Fourier_Functions(model, U_shape, K, compute_mu=True)\n",
    "model_mu_k = {k: ff[k]['mu_k'] for k in ff}\n",
    "\n",
    "with open(f'maximum_likelihood_estimation/{distribution_name}_{model_name}_{K}.pkl', 'wb') as handle:\n",
    "    pickle.dump(model_mu_k, handle, protocol=pickle.HIGHEST_PROTOCOL)\n",
    "\n",
    "fig = plt.figure()\n",
    "ax = fig.add_subplot(111)\n",
    "\n",
    "assert len(U_shape) == 2\n",
    "X,Y = np.meshgrid(*[np.linspace(0,U_shape[i]) for i in range(2)])\n",
    "_s = np.stack([X.ravel(), Y.ravel()]).T\n",
    "\n",
    "plt.title(\"Unimodal with Sampling\")\n",
    "ax.contourf(X,Y, np.array(list(map(model, _s))).reshape(X.shape), cmap='binary')\n",
    "ax.scatter(sample_x, sample_y)\n",
    "ax.set_aspect('equal')\n",
    "plt.axis('off')\n",
    "plt.savefig(f\"maximum_likelihood_estimation/{distribution_name}_{model_name}_sampling.pdf\")\n",
    "plt.close(\"all\")\n"
   ]
  },
  {
   "cell_type": "code",
   "execution_count": null,
   "metadata": {},
   "outputs": [],
   "source": [
    "from mpl_toolkits import mplot3d\n",
    "\n",
    "fig = plt.figure()\n",
    "ax = plt.axes(projection='3d')\n",
    "x = []\n",
    "y = []\n",
    "z = []\n",
    "for k in model_mu_k:\n",
    "    x.append(k[0])\n",
    "    y.append(k[1])\n",
    "    z.append(abs(model_mu_k[k]-ground_truth_mu_k[k]))\n",
    "ax.plot_trisurf(x, y, z, cmap='viridis', edgecolor='none')\n",
    "plt.savefig(f\"maximum_likelihood_estimation/{distribution_name}_{model_name}_error.pdf\")"
   ]
  }
 ],
 "metadata": {
  "interpreter": {
   "hash": "31f2aee4e71d21fbe5cf8b01ff0e069b9275f58929596ceb00d14d90e3e16cd6"
  },
  "kernelspec": {
   "display_name": "Python 3.9.12 64-bit",
   "language": "python",
   "name": "python3"
  },
  "language_info": {
   "codemirror_mode": {
    "name": "ipython",
    "version": 3
   },
   "file_extension": ".py",
   "mimetype": "text/x-python",
   "name": "python",
   "nbconvert_exporter": "python",
   "pygments_lexer": "ipython3",
   "version": "3.9.12"
  },
  "orig_nbformat": 4
 },
 "nbformat": 4,
 "nbformat_minor": 2
}
