{
 "cells": [
  {
   "cell_type": "code",
   "execution_count": 1,
   "metadata": {},
   "outputs": [],
   "source": [
    "import numpy as np\n",
    "\n",
    "from probability_distribution import mu_gaussians, mu_display2D\n",
    "from fourier_functions import Fourier_Functions, Fourier_Functions_Visualize2D\n"
   ]
  },
  {
   "cell_type": "code",
   "execution_count": 2,
   "metadata": {},
   "outputs": [
    {
     "name": "stdout",
     "output_type": "stream",
     "text": [
      "0.36791950647965144\n"
     ]
    },
    {
     "data": {
      "image/png": "[encoded data removed]",
      "text/plain": [
       "<Figure size 432x288 with 1 Axes>"
      ]
     },
     "metadata": {
      "needs_background": "light"
     },
     "output_type": "display_data"
    }
   ],
   "source": [
    "U_shape = (1,1)\n",
    "n = len(U_shape)\n",
    "mu = mu_gaussians([(0.2, 0.01), (0.75, 0.02), (np.array([0.2, 0.75]), 0.02)], U_shape)\n",
    "print(mu(np.array([0.2,0.3])))\n",
    "mu_display2D(mu, U_shape)\n"
   ]
  },
  {
   "cell_type": "code",
   "execution_count": 3,
   "metadata": {},
   "outputs": [
    {
     "name": "stdout",
     "output_type": "stream",
     "text": [
      "Fourier Functions (mu, U_shape= (1, 1) , K= 3 )...\n",
      "Computing constants (new_k, h_k, lambda_k)...\n",
      "Computing torch fourier functions (f_k, df_k)...\n",
      "Computing mu fourier coefficients (mu_k)... this will take a while because integration...\n",
      "Computing casadi fourier function (casadi_f_k)...\n",
      "Aggregating all constants and functions into one dict...\n",
      "Done.\n"
     ]
    }
   ],
   "source": [
    "K = 3\n",
    "ff3 = Fourier_Functions(mu, U_shape, K, printProgress=True)"
   ]
  },
  {
   "cell_type": "code",
   "execution_count": 4,
   "metadata": {},
   "outputs": [
    {
     "name": "stdout",
     "output_type": "stream",
     "text": [
      "Fourier Functions (mu, U_shape= (1, 1) , K= 5 )...\n",
      "Computing constants (new_k, h_k, lambda_k)...\n",
      "Computing torch fourier functions (f_k, df_k)...\n",
      "Computing mu fourier coefficients (mu_k)... this will take a while because integration...\n",
      "Computing casadi fourier function (casadi_f_k)...\n",
      "Aggregating all constants and functions into one dict...\n"
     ]
    },
    {
     "ename": "TypeError",
     "evalue": "'float' object is not iterable",
     "output_type": "error",
     "traceback": [
      "\u001b[0;31m---------------------------------------------------------------------------\u001b[0m",
      "\u001b[0;31mTypeError\u001b[0m                                 Traceback (most recent call last)",
      "\u001b[0;32m<ipython-input-4-1fd4263353d3>\u001b[0m in \u001b[0;36m<module>\u001b[0;34m\u001b[0m\n\u001b[1;32m      1\u001b[0m \u001b[0mK\u001b[0m \u001b[0;34m=\u001b[0m \u001b[0;36m5\u001b[0m\u001b[0;34m\u001b[0m\u001b[0;34m\u001b[0m\u001b[0m\n\u001b[0;32m----> 2\u001b[0;31m \u001b[0mff5\u001b[0m \u001b[0;34m=\u001b[0m \u001b[0mFourier_Functions\u001b[0m\u001b[0;34m(\u001b[0m\u001b[0mmu\u001b[0m\u001b[0;34m,\u001b[0m \u001b[0mU_shape\u001b[0m\u001b[0;34m,\u001b[0m \u001b[0mK\u001b[0m\u001b[0;34m,\u001b[0m \u001b[0mprintProgress\u001b[0m\u001b[0;34m=\u001b[0m\u001b[0;32mTrue\u001b[0m\u001b[0;34m)\u001b[0m\u001b[0;34m\u001b[0m\u001b[0;34m\u001b[0m\u001b[0m\n\u001b[0m",
      "\u001b[0;32m~/Research/ergodic_robust_stable/fourier_functions.py\u001b[0m in \u001b[0;36mFourier_Functions\u001b[0;34m(mu, U_shape, K, compute_mu, printProgress)\u001b[0m\n\u001b[1;32m     77\u001b[0m         \u001b[0mall\u001b[0m\u001b[0;34m[\u001b[0m\u001b[0mk\u001b[0m\u001b[0;34m]\u001b[0m\u001b[0;34m.\u001b[0m\u001b[0mupdate\u001b[0m\u001b[0;34m(\u001b[0m\u001b[0mtorch_ff\u001b[0m\u001b[0;34m[\u001b[0m\u001b[0mk\u001b[0m\u001b[0;34m]\u001b[0m\u001b[0;34m)\u001b[0m\u001b[0;34m\u001b[0m\u001b[0;34m\u001b[0m\u001b[0m\n\u001b[1;32m     78\u001b[0m         \u001b[0;32mif\u001b[0m \u001b[0mcompute_mu\u001b[0m\u001b[0;34m:\u001b[0m\u001b[0;34m\u001b[0m\u001b[0;34m\u001b[0m\u001b[0m\n\u001b[0;32m---> 79\u001b[0;31m             \u001b[0mall\u001b[0m\u001b[0;34m[\u001b[0m\u001b[0mk\u001b[0m\u001b[0;34m]\u001b[0m\u001b[0;34m.\u001b[0m\u001b[0mupdate\u001b[0m\u001b[0;34m(\u001b[0m\u001b[0mmu_fc\u001b[0m\u001b[0;34m[\u001b[0m\u001b[0mk\u001b[0m\u001b[0;34m]\u001b[0m\u001b[0;34m)\u001b[0m\u001b[0;34m\u001b[0m\u001b[0;34m\u001b[0m\u001b[0m\n\u001b[0m\u001b[1;32m     80\u001b[0m         \u001b[0mall\u001b[0m\u001b[0;34m[\u001b[0m\u001b[0mk\u001b[0m\u001b[0;34m]\u001b[0m\u001b[0;34m.\u001b[0m\u001b[0mupdate\u001b[0m\u001b[0;34m(\u001b[0m\u001b[0mcasadi_ff\u001b[0m\u001b[0;34m[\u001b[0m\u001b[0mk\u001b[0m\u001b[0;34m]\u001b[0m\u001b[0;34m)\u001b[0m\u001b[0;34m\u001b[0m\u001b[0;34m\u001b[0m\u001b[0m\n\u001b[1;32m     81\u001b[0m     \u001b[0;32mif\u001b[0m \u001b[0mprintProgress\u001b[0m\u001b[0;34m:\u001b[0m\u001b[0;34m\u001b[0m\u001b[0;34m\u001b[0m\u001b[0m\n",
      "\u001b[0;31mTypeError\u001b[0m: 'float' object is not iterable"
     ]
    }
   ],
   "source": [
    "K = 5\n",
    "ff5 = Fourier_Functions(mu, U_shape, K, printProgress=True)"
   ]
  },
  {
   "cell_type": "code",
   "execution_count": 6,
   "metadata": {},
   "outputs": [
    {
     "name": "stdout",
     "output_type": "stream",
     "text": [
      "True\n"
     ]
    }
   ],
   "source": [
    "import pickle \n",
    "mu_k5 = {}\n",
    "for k in ff5:\n",
    "    mu_k5[k] = ff5[k]['mu_k']\n",
    "\n",
    "with open('mu_k5.pkl', 'wb') as handle:\n",
    "    pickle.dump(mu_k5, handle, protocol=pickle.HIGHEST_PROTOCOL)\n",
    "\n",
    "with open('mu_k5.pkl', 'rb') as handle:\n",
    "    mu_k5_2 = pickle.load(handle)\n",
    "\n",
    "print(mu_k5 == mu_k5_2)"
   ]
  },
  {
   "cell_type": "code",
   "execution_count": 4,
   "metadata": {},
   "outputs": [
    {
     "data": {
      "image/png": "[encoded data removed]",
      "text/plain": [
       "<Figure size 432x288 with 1 Axes>"
      ]
     },
     "metadata": {
      "needs_background": "light"
     },
     "output_type": "display_data"
    }
   ],
   "source": [
    "x = np.array([0.2, 0.3])\n",
    "def fourier_coefficient2distribution(ff, k_bands, c_k=None):\n",
    "    def dist(x):\n",
    "        res = 0\n",
    "        for k in k_bands:\n",
    "            if c_k is None:\n",
    "                coeff_k = ff[k]['mu_k']\n",
    "            else:\n",
    "                coeff_k = c_k[k]\n",
    "            res += coeff_k*ff[k]['f_k'](x)\n",
    "        return res\n",
    "    return dist\n",
    "n = len(U_shape)\n",
    "all_k5 = list(np.ndindex(*[K]*n))\n",
    "c_k = {}\n",
    "for k in all_k5:\n",
    "    c_k[k] = ff5[k]['f_k'](x)\n",
    "recon5 = fourier_coefficient2distribution(ff5, list(np.ndindex(*[K]*n)), c_k)\n",
    "mu_display2D(recon5, U_shape)"
   ]
  },
  {
   "cell_type": "code",
   "execution_count": 4,
   "metadata": {},
   "outputs": [
    {
     "name": "stdout",
     "output_type": "stream",
     "text": [
      "Fourier Functions (mu, U_shape= (1, 1) , K= 10 )...\n",
      "Computing constants (new_k, h_k, lambda_k)...\n",
      "Computing torch fourier functions (f_k, df_k)...\n",
      "Computing mu fourier coefficients (mu_k)... this will take a while because integration...\n",
      "Computing casadi fourier function (casadi_f_k)...\n",
      "Aggregating all constants and functions into one dict...\n",
      "Done.\n"
     ]
    }
   ],
   "source": [
    "K = 10\n",
    "ff10 = Fourier_Functions(mu, U_shape, K, printProgress=True)"
   ]
  },
  {
   "cell_type": "code",
   "execution_count": 6,
   "metadata": {},
   "outputs": [
    {
     "name": "stdout",
     "output_type": "stream",
     "text": [
      "True\n"
     ]
    }
   ],
   "source": [
    "import pickle\n",
    "mu_k10 = {}\n",
    "for k in ff10:\n",
    "    mu_k10[k] = ff10[k]['mu_k']\n",
    "\n",
    "with open('mu_k10.pkl', 'wb') as handle:\n",
    "    pickle.dump(mu_k10, handle, protocol=pickle.HIGHEST_PROTOCOL)\n",
    "\n",
    "with open('mu_k10.pkl', 'rb') as handle:\n",
    "    mu_k10_2 = pickle.load(handle)\n",
    "\n",
    "print(mu_k10 == mu_k10_2)"
   ]
  },
  {
   "cell_type": "markdown",
   "metadata": {},
   "source": [
    "Reconstructed mu"
   ]
  },
  {
   "cell_type": "code",
   "execution_count": 6,
   "metadata": {},
   "outputs": [],
   "source": [
    "def fourier_coefficient2distribution(ff, k_bands, c_k=None):\n",
    "    def dist(x):\n",
    "        res = 0\n",
    "        for k in k_bands:\n",
    "            if c_k is None:\n",
    "                coeff_k = ff[k]['mu_k']\n",
    "            else:\n",
    "                coeff_k = c_k[k]\n",
    "            res += coeff_k*ff[k]['f_k'](x)\n",
    "        return res\n",
    "    return dist"
   ]
  },
  {
   "cell_type": "code",
   "execution_count": 7,
   "metadata": {},
   "outputs": [
    {
     "data": {
      "image/png": "[encoded data removed]",
      "text/plain": [
       "<Figure size 432x288 with 1 Axes>"
      ]
     },
     "metadata": {
      "needs_background": "light"
     },
     "output_type": "display_data"
    },
    {
     "data": {
      "image/png": "[encoded data removed]",
      "text/plain": [
       "<Figure size 432x288 with 1 Axes>"
      ]
     },
     "metadata": {
      "needs_background": "light"
     },
     "output_type": "display_data"
    },
    {
     "data": {
      "image/png": "[encoded data removed]",
      "text/plain": [
       "<Figure size 432x288 with 1 Axes>"
      ]
     },
     "metadata": {
      "needs_background": "light"
     },
     "output_type": "display_data"
    }
   ],
   "source": [
    "all_k_band3 = list(np.ndindex(*[3]*n))\n",
    "all_k_band5 = list(np.ndindex(*[5]*n))\n",
    "# all_k_band10 = list(np.ndindex(*[10]*n))\n",
    "\n",
    "recon_mu3 = fourier_coefficient2distribution(ff3, all_k_band3)\n",
    "recon_mu5 = fourier_coefficient2distribution(ff5, all_k_band5)\n",
    "# recon_mu10 = fourier_coefficient2distribution(ff10, all_k_band10)\n",
    "print(\"displaying...\")\n",
    "mu_display2D(mu, U_shape)\n",
    "mu_display2D(recon_mu3, U_shape)\n",
    "mu_display2D(recon_mu5, U_shape)\n",
    "# mu_display2D(recon_mu10, U_shape)"
   ]
  },
  {
   "cell_type": "code",
   "execution_count": 9,
   "metadata": {},
   "outputs": [
    {
     "name": "stdout",
     "output_type": "stream",
     "text": [
      "displaying...\n"
     ]
    },
    {
     "data": {
      "image/png": "[encoded data removed]",
      "text/plain": [
       "<Figure size 432x288 with 1 Axes>"
      ]
     },
     "metadata": {
      "needs_background": "light"
     },
     "output_type": "display_data"
    },
    {
     "data": {
      "image/png": "[encoded data removed]",
      "text/plain": [
       "<Figure size 432x288 with 1 Axes>"
      ]
     },
     "metadata": {
      "needs_background": "light"
     },
     "output_type": "display_data"
    }
   ],
   "source": [
    "init_pos = np.array([0.2,0.3])\n",
    "c_k = {k: ff5[k]['f_k'](init_pos) for k in all_k_band5}\n",
    "recon_c_k3 = fourier_coefficient2distribution(ff3, all_k_band3, c_k)\n",
    "recon_c_k5 = fourier_coefficient2distribution(ff5, all_k_band5, c_k)\n",
    "print(\"displaying...\")\n",
    "mu_display2D(recon_c_k3, U_shape)\n",
    "mu_display2D(recon_c_k5, U_shape)"
   ]
  }
 ],
 "metadata": {
  "interpreter": {
   "hash": "31f2aee4e71d21fbe5cf8b01ff0e069b9275f58929596ceb00d14d90e3e16cd6"
  },
  "kernelspec": {
   "display_name": "Python 3.9.2 64-bit",
   "language": "python",
   "name": "python3"
  },
  "language_info": {
   "codemirror_mode": {
    "name": "ipython",
    "version": 3
   },
   "file_extension": ".py",
   "mimetype": "text/x-python",
   "name": "python",
   "nbconvert_exporter": "python",
   "pygments_lexer": "ipython3",
   "version": "3.9.2"
  },
  "orig_nbformat": 4
 },
 "nbformat": 4,
 "nbformat_minor": 2
}
