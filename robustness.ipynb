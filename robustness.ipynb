{
 "cells": [
  {
   "cell_type": "markdown",
   "metadata": {},
   "source": [
    "# Outline\n",
    "0. Generating ergodic trajectories\n",
    "1. Trajectory/Distribution perturbation vs Fourier Coefficient\n",
    "    - induced distribution from trajectory\n",
    "    - distribution vs fourier coefficient\n",
    "2. Fourier coefficient perturbation vs ergodic metric perturbation"
   ]
  },
  {
   "cell_type": "code",
   "execution_count": 1,
   "metadata": {},
   "outputs": [],
   "source": [
    "distribution_name = \"paper_peaks\" #\"close_peaks\" #\"one_peak\"\n",
    "from enum import Enum\n",
    "class PerturbationType(Enum):\n",
    "    UNIFORM = 1\n",
    "    GAUSSIAN = 2\n",
    "p_type = PerturbationType.UNIFORM\n",
    "perturbation_type = p_type.name\n",
    "perturbation_amts = [0.001, 0.01, 0.025, 0.05, 0.075, 0.1]\n",
    "time_steps = 100\n",
    "K = 5\n",
    "system_name = \"casadi\"\n",
    "compute_mu = False"
   ]
  },
  {
   "cell_type": "code",
   "execution_count": 2,
   "metadata": {},
   "outputs": [],
   "source": [
    "import numpy as np\n",
    "from probability_distribution import *\n",
    "U_shape = (1,1)\n",
    "all_k = list(np.ndindex(*[K]*len(U_shape)))"
   ]
  },
  {
   "cell_type": "markdown",
   "metadata": {},
   "source": [
    "# 0. Generate ergodic trajectories"
   ]
  },
  {
   "cell_type": "markdown",
   "metadata": {},
   "source": [
    "## 0.a. Define probability distribution $\\mu$"
   ]
  },
  {
   "cell_type": "code",
   "execution_count": 3,
   "metadata": {},
   "outputs": [],
   "source": [
    "mu = mu_gaussians([(np.array([0.25, 0.75]), 0.025), (np.array([0.6, 0.4]), 0.025)], U_shape) # paper peaks\n",
    "# mu = mu_gaussians([(np.array([0.25, 0.75]), 0.025), (np.array([0.5, 0.5]), 0.025)], U_shape) # close peaks\n",
    "mu = mu_normalize(mu, U_shape)\n",
    "mu_display2D(mu, U_shape, title=f\"mu/{distribution_name}_original\")"
   ]
  },
  {
   "cell_type": "code",
   "execution_count": 4,
   "metadata": {},
   "outputs": [],
   "source": [
    "# defining probability distribution mu\n",
    "\n",
    "# calculating fourier coefficients of probability distribution mu\n",
    "from fourier_functions import *\n",
    "import pickle\n",
    "\n",
    "ff = Fourier_Functions(mu, U_shape, K, compute_mu=compute_mu)\n",
    "if compute_mu:\n",
    "    mu_k = {}\n",
    "    for k in ff:\n",
    "        mu_k[k] = ff[k]['mu_k']\n",
    "\n",
    "    with open(f'mu/{distribution_name}_{K}.pkl', 'wb') as handle:\n",
    "        pickle.dump(mu_k, handle, protocol=pickle.HIGHEST_PROTOCOL)\n",
    "else:\n",
    "    with open(f'mu/{distribution_name}_{K}.pkl', 'rb') as handle:\n",
    "        mu_k = pickle.load(handle)\n",
    "    for k in ff:\n",
    "        ff[k]['mu_k'] = mu_k[k]\n",
    "\n",
    "original_mu = mu \n",
    "# mu = fourier_coefficient2distribution(ff, all_k, c_k=None)\n",
    "\n",
    "if compute_mu:\n",
    "    mu_display2D(original_mu, U_shape, title=f\"mu/{distribution_name}_original\")\n",
    "    mu_display2D(mu, U_shape, title=f\"mu/{distribution_name}_fouriered\")\n"
   ]
  },
  {
   "cell_type": "code",
   "execution_count": 5,
   "metadata": {},
   "outputs": [],
   "source": [
    "# mu_display2D(original_mu, U_shape, title=f\"mu/{distribution_name}_original\")\n",
    "# mu_display2D(mu, U_shape, title=f\"mu/{distribution_name}_fouriered\")\n",
    "# mu(np.array([0.9, 0.1]))"
   ]
  },
  {
   "cell_type": "markdown",
   "metadata": {},
   "source": [
    "## 0.b. Define agent system"
   ]
  },
  {
   "cell_type": "code",
   "execution_count": 6,
   "metadata": {},
   "outputs": [],
   "source": [
    "from ergodic_agents import *\n",
    "from mm_agent import *\n",
    "from casadi_agent import * \n",
    "\n",
    "# agent1 = MMAgent1(0, np.array([0.2, 0.3]), 0.5, all_k, U_shape, ff, eps=1e-5)\n",
    "agent1 = CasadiAgent(0, np.array([0.2, 0.3]), 0.5, all_k, U_shape, ff, eps=1e-5)\n",
    "system = AgentSystem([agent1], mu, U_shape, ff, K)\n",
    "agent1.time_horizon = 30"
   ]
  },
  {
   "cell_type": "markdown",
   "metadata": {},
   "source": [
    "## 0.c. Generate Vanilla Ergodic Trajectory $x$"
   ]
  },
  {
   "cell_type": "code",
   "execution_count": 7,
   "metadata": {},
   "outputs": [
    {
     "name": "stdout",
     "output_type": "stream",
     "text": [
      "\n",
      "******************************************************************************\n",
      "This program contains Ipopt, a library for large-scale nonlinear optimization.\n",
      " Ipopt is released as open source code under the Eclipse Public License (EPL).\n",
      "         For more information visit http://projects.coin-or.org/Ipopt\n",
      "******************************************************************************\n",
      "\n",
      "      solver  :   t_proc      (avg)   t_wall      (avg)    n_eval\n",
      "       nlp_f  |  19.62ms (784.64us)  19.63ms (785.02us)        25\n",
      "       nlp_g  | 835.00us ( 33.40us) 827.80us ( 33.11us)        25\n",
      "  nlp_grad_f  |  32.17ms (  1.53ms)  32.17ms (  1.53ms)        21\n",
      "  nlp_hess_l  |   3.58 s (188.20ms)   3.56 s (187.56ms)        19\n",
      "   nlp_jac_g  |   3.70ms (176.14us)   3.64ms (173.41us)        21\n",
      "       total  |   3.67 s (  3.67 s)   3.65 s (  3.65 s)         1\n",
      "      solver  :   t_proc      (avg)   t_wall      (avg)    n_eval\n",
      "       nlp_f  |  17.95ms (780.57us)  18.01ms (782.98us)        23\n",
      "       nlp_g  | 962.00us ( 41.83us) 961.10us ( 41.79us)        23\n",
      "  nlp_grad_f  |  35.50ms (  1.48ms)  35.60ms (  1.48ms)        24\n",
      "  nlp_hess_l  |   4.12 s (187.08ms)   4.12 s (187.09ms)        22\n",
      "   nlp_jac_g  |   4.24ms (176.46us)   4.26ms (177.50us)        24\n",
      "       total  |   4.21 s (  4.21 s)   4.21 s (  4.21 s)         1\n",
      "      solver  :   t_proc      (avg)   t_wall      (avg)    n_eval\n",
      "       nlp_f  |  25.93ms (810.16us)  26.03ms (813.31us)        32\n",
      "       nlp_g  |   1.42ms ( 44.34us)   1.43ms ( 44.75us)        32\n",
      "  nlp_grad_f  |  46.28ms (  1.54ms)  46.43ms (  1.55ms)        30\n",
      "  nlp_hess_l  |   5.14 s (183.42ms)   5.14 s (183.43ms)        28\n",
      "   nlp_jac_g  |   5.41ms (180.23us)   5.42ms (180.82us)        30\n",
      "       total  |   5.27 s (  5.27 s)   5.27 s (  5.27 s)         1\n",
      "      solver  :   t_proc      (avg)   t_wall      (avg)    n_eval\n",
      "       nlp_f  |  32.44ms (831.67us)  32.56ms (834.76us)        39\n",
      "       nlp_g  |   1.63ms ( 41.77us)   1.62ms ( 41.62us)        39\n",
      "  nlp_grad_f  |  60.58ms (  1.51ms)  60.74ms (  1.52ms)        40\n",
      "  nlp_hess_l  |   6.86 s (180.59ms)   6.86 s (180.60ms)        38\n",
      "   nlp_jac_g  |   7.05ms (176.35us)   7.09ms (177.30us)        40\n",
      "       total  |   7.03 s (  7.03 s)   7.03 s (  7.03 s)         1\n"
     ]
    }
   ],
   "source": [
    "t = 0\n",
    "delta_t = 0.1\n",
    "for i in range(time_steps):\n",
    "    t = i * delta_t\n",
    "    system.evolve(t, delta_t)\n"
   ]
  },
  {
   "cell_type": "code",
   "execution_count": 8,
   "metadata": {},
   "outputs": [],
   "source": [
    "filename = f\"robustness/system={system_name}_mu={distribution_name}_K={K}_T={time_steps}\"\n",
    "description = f\"{system_name} on {distribution_name}\"\n",
    "\n",
    "system.visualize_trajectory(filename, description)\n",
    "system.visualize_ergodicity(filename)"
   ]
  },
  {
   "cell_type": "markdown",
   "metadata": {},
   "source": [
    "# 1. Trajectory/distribution perturbation vs Fourier coefficient"
   ]
  },
  {
   "cell_type": "code",
   "execution_count": 9,
   "metadata": {},
   "outputs": [],
   "source": [
    "perturbation = {p_amt:{ \"mu_k\": None, \n",
    "                        \"trajectory\": None, \n",
    "                        \"c_k\": None} for p_amt in perturbation_amts}"
   ]
  },
  {
   "cell_type": "markdown",
   "metadata": {},
   "source": [
    "## 1.a. induced distribution from trajectory"
   ]
  },
  {
   "cell_type": "code",
   "execution_count": 10,
   "metadata": {},
   "outputs": [],
   "source": [
    "for _time_steps in [time_steps//4, time_steps//2, time_steps]:\n",
    "    _filename = f\"robustness/system={system_name}_mu={distribution_name}_K={K}_T={_time_steps}\"\n",
    "    spatial_distribution = fourier_coefficient2distribution(ff, all_k, c_k=system.c_k_log[_time_steps])\n",
    "    mu_display2D(spatial_distribution, U_shape, title=f\"{_filename}_induced_spatial_distribution\")\n",
    "\n",
    "    trajectories = [agent.x_log[:_time_steps] for agent in system.agents]\n",
    "    visualize_trajectory(f\"{_filename}_induced_spatial_distribution_with\", \n",
    "                     f\"{system_name} induced spatial distribution with trajectory\", \n",
    "                     U_shape, trajectories, spatial_distribution)"
   ]
  },
  {
   "cell_type": "markdown",
   "metadata": {},
   "source": [
    "## 1.b. distribution perturbations vs Fourier coefficients"
   ]
  },
  {
   "cell_type": "code",
   "execution_count": 11,
   "metadata": {},
   "outputs": [
    {
     "data": {
      "text/plain": [
       "[array([0.2, 0.3]),\n",
       " array([0.21410599, 0.34796872]),\n",
       " array([0.22365892, 0.39704741]),\n",
       " array([0.22855217, 0.44680714]),\n",
       " array([0.22899712, 0.4968049 ]),\n",
       " array([0.2255194 , 0.54668351]),\n",
       " array([0.21886542, 0.59623844]),\n",
       " array([0.20992238, 0.64543173]),\n",
       " array([0.19979894, 0.6943956 ]),\n",
       " array([0.19038414, 0.74350039]),\n",
       " array([0.18688986, 0.79337674]),\n",
       " array([0.20978614, 0.83782311]),\n",
       " array([0.25965801, 0.84136649]),\n",
       " array([0.30660502, 0.82416646]),\n",
       " array([0.34967008, 0.79876349]),\n",
       " array([0.38969831, 0.7688023 ]),\n",
       " array([0.42730409, 0.73585156]),\n",
       " array([0.46289688, 0.70073599]),\n",
       " array([0.49669372, 0.66388868]),\n",
       " array([0.52871021, 0.62548438]),\n",
       " array([0.55871964, 0.58549229]),\n",
       " array([0.58613244, 0.5436779 ]),\n",
       " array([0.60968394, 0.49957381]),\n",
       " array([0.62671598, 0.45256742]),\n",
       " array([0.63242763, 0.40290239]),\n",
       " array([0.62405447, 0.35363527]),\n",
       " array([0.61503062, 0.31412599]),\n",
       " array([0.6471834 , 0.30489091]),\n",
       " array([0.69697186, 0.30053865]),\n",
       " array([0.74694668, 0.29936169]),\n",
       " array([0.79689752, 0.30116326]),\n",
       " array([0.79363094, 0.35104906]),\n",
       " array([0.78033357, 0.39923921]),\n",
       " array([0.74910557, 0.43827155]),\n",
       " array([0.69930834, 0.44258779]),\n",
       " array([0.65472425, 0.41998373]),\n",
       " array([0.61660343, 0.38764901]),\n",
       " array([0.58405048, 0.34971877]),\n",
       " array([0.55864285, 0.30668686]),\n",
       " array([0.5441448 , 0.25890686]),\n",
       " array([0.53822421, 0.30722984]),\n",
       " array([0.53850224, 0.35717955]),\n",
       " array([0.53206809, 0.40674256]),\n",
       " array([0.51602379, 0.4540865 ]),\n",
       " array([0.49248657, 0.49819236]),\n",
       " array([0.4646527 , 0.53972327]),\n",
       " array([0.43461072, 0.57968717]),\n",
       " array([0.40356324, 0.61887539]),\n",
       " array([0.37231029, 0.65789963]),\n",
       " array([0.34160532, 0.69735534]),\n",
       " array([0.31257971, 0.7380597 ]),\n",
       " array([0.28777247, 0.78145772]),\n",
       " array([0.27399865, 0.82949457]),\n",
       " array([0.27853185, 0.87921096]),\n",
       " array([0.23145586, 0.86274328]),\n",
       " array([0.1891468 , 0.83630303]),\n",
       " array([0.14662324, 0.81049677]),\n",
       " array([0.10954863, 0.79862439]),\n",
       " array([0.10852945, 0.79853284]),\n",
       " array([0.10851951, 0.79853256]),\n",
       " array([0.10862928, 0.79851589]),\n",
       " array([0.09061154, 0.75196807]),\n",
       " array([0.1388654 , 0.76318907]),\n",
       " array([0.17724573, 0.79512534]),\n",
       " array([0.21664023, 0.82584616]),\n",
       " array([0.25769286, 0.85431755]),\n",
       " array([0.30210456, 0.87713149]),\n",
       " array([0.27446525, 0.83556364]),\n",
       " array([0.25019497, 0.79189439]),\n",
       " array([0.2404779 , 0.74288228]),\n",
       " array([0.25576991, 0.69530746]),\n",
       " array([0.28816804, 0.65724737]),\n",
       " array([0.3268705 , 0.62560969]),\n",
       " array([0.36833383, 0.59768298]),\n",
       " array([0.41174137, 0.5728836 ]),\n",
       " array([0.45712369, 0.55191509]),\n",
       " array([0.50463496, 0.53636381]),\n",
       " array([0.55392023, 0.52799825]),\n",
       " array([0.60389931, 0.52706152]),\n",
       " array([0.65376689, 0.53045995]),\n",
       " array([0.70366068, 0.52770753]),\n",
       " array([0.71893372, 0.4801567 ]),\n",
       " array([0.69496059, 0.43631252]),\n",
       " array([0.66342097, 0.39754422]),\n",
       " array([0.62913807, 0.36118142]),\n",
       " array([0.5934991 , 0.32616297]),\n",
       " array([0.55717411, 0.2919273 ]),\n",
       " array([0.52235427, 0.2576392 ]),\n",
       " array([0.53855236, 0.23453714]),\n",
       " array([0.57375124, 0.19971916]),\n",
       " array([0.61015718, 0.16590792]),\n",
       " array([0.58752954, 0.21037687]),\n",
       " array([0.59725767, 0.25933733]),\n",
       " array([0.62583457, 0.30030863]),\n",
       " array([0.65814803, 0.33842353]),\n",
       " array([0.69005686, 0.37688307]),\n",
       " array([0.7184544, 0.4179979]),\n",
       " array([0.73080722, 0.46638577]),\n",
       " array([0.68086786, 0.4650216 ]),\n",
       " array([0.63411328, 0.4473895 ]),\n",
       " array([0.58673111, 0.43150121])]"
      ]
     },
     "execution_count": 11,
     "metadata": {},
     "output_type": "execute_result"
    }
   ],
   "source": [
    "agent1.x_log"
   ]
  },
  {
   "cell_type": "code",
   "execution_count": 12,
   "metadata": {},
   "outputs": [],
   "source": [
    "assert len(system.agents) == 1\n",
    "for p_amt in perturbation:\n",
    "    p_tag = f\"perturb={perturbation_type}_amt={p_amt}\"\n",
    "    # trajectory perturbations\n",
    "    trajectory = np.array(system.agents[0].x_log) \n",
    "    if p_type == PerturbationType.UNIFORM:\n",
    "        radii = p_amt * np.sqrt(np.random.uniform(0, 1, (len(trajectory),)))\n",
    "        thetas = np.random.uniform(0, 1, (len(trajectory, )))*2*np.pi\n",
    "        perturb = [radii[i]*np.array([np.cos(thetas[i]), np.sin(thetas[i])]) for i in range(len(trajectory))]\n",
    "        perturbed_trajectory = trajectory+perturb\n",
    "    elif p_type == PerturbationType.GAUSSIAN:\n",
    "        perturbed_trajectory = np.clip(np.random.gaussian(trajectory, p_amt), 0, U_shape)\n",
    "    else:\n",
    "        raise RuntimeError\n",
    "    perturbation[p_amt][\"trajectory\"] = perturbed_trajectory\n",
    "    perturbation[p_amt][\"c_k\"] = {k: sum([ff[k]['f_k'](x) for x in perturbed_trajectory])/len(perturbed_trajectory) for k in ff}\n",
    "\n",
    "    # original vs perturbed trajectory on original distribution\n",
    "    visualize_trajectory(f\"{filename}_original_vs_perturbed_{p_tag}\", \n",
    "                     f\"{system_name} original vs perturbed trajectory\", \n",
    "                     U_shape, [trajectory, perturbed_trajectory], mu)\n",
    "\n",
    "    # induced perturbed distribution with and without trajectory\n",
    "    # p_spatial_distribution = fourier_coefficient2distribution(ff, all_k, c_k=system.c_k)\n",
    "    # mu_display2D(spatial_distribution, U_shape, title=f\"{filename}_induced_spatial_distribution_{p_tag}\")\n",
    "    \n",
    "    # trajectories = [agent.x_log for agent in system.agents]\n",
    "    # visualize_trajectory(f\"{filename}_induced_spatial_distribution_{p_tag}_with\", \n",
    "                    #  f\"{system_name} induced spatial distribution with perturbed trajectory ({perturbation_type} {p_amt})\", \n",
    "                    #  U_shape, trajectories, spatial_distribution)\n",
    "                     \n",
    "    # TODO plot trajectory perturbation amount to c_k perturbation amount\n",
    "\n",
    "    # information distribution perturbations   \n",
    "    perturbation[p_amt][\"mu_k\"] = None\n",
    "# 222 min\n"
   ]
  },
  {
   "cell_type": "code",
   "execution_count": null,
   "metadata": {},
   "outputs": [],
   "source": []
  },
  {
   "cell_type": "markdown",
   "metadata": {},
   "source": [
    "# 2. Fourier coefficient perturbation vs ergodic metric perturbation"
   ]
  },
  {
   "cell_type": "markdown",
   "metadata": {},
   "source": [
    "## 2.a. one shot ergodic metric perturbation"
   ]
  },
  {
   "cell_type": "code",
   "execution_count": 13,
   "metadata": {},
   "outputs": [
    {
     "name": "stdout",
     "output_type": "stream",
     "text": [
      "1.0906143005209485\n",
      "4.568103602200748\n",
      "4.236669591758927\n"
     ]
    }
   ],
   "source": [
    "def ergodic_metric(lambda_k, c_k, mu_k):\n",
    "    return sum([lambda_k[k]*(mu_k[k] - c_k[k])**2 for k in lambda_k])\n",
    "\n",
    "_lambda_k = {k: ff[k]['lambda_k'] for k in ff}\n",
    "for p_amt in perturbation:\n",
    "    perturbation[p_amt][\"ergodicity change c_k\"] = ergodic_metric(_lambda_k, perturbation[p_amt][\"c_k\"], mu_k)\n",
    "#     perturbation[p_amt][\"ergodicity change mu_k\"] = ergodic_metric(_lambda_k, system.c_k, perturbation[p_amt][\"mu_k\"])\n",
    "    perturbation[p_amt][\"ergodicity change +\"] = ergodic_metric(_lambda_k, {k: system.c_k[k] - p_amt for k in system.c_k}, mu_k)\n",
    "    perturbation[p_amt][\"ergodicity change -\"] = ergodic_metric(_lambda_k, {k: system.c_k[k] + p_amt for k in system.c_k}, mu_k)\n",
    "\n",
    "deltas = [-p for p in perturbation_amts] + perturbation_amts\n",
    "ergodicities = [perturbation[p_amt][\"ergodicity change -\"] for p_amt in perturbation] + [perturbation[p_amt][\"ergodicity change +\"] for p_amt in perturbation]\n",
    "plt.figure()\n",
    "plt.plot(deltas, ergodicities, 'o')\n",
    "deltas_sorted = sorted(deltas)\n",
    "plt.plot(deltas_sorted, [sum([ff[k]['lambda_k']*abs(d)*(4/ff[k]['h_k'] + abs(d)) for k in ff]) for d in deltas_sorted])\n",
    "print(sum([ff[k]['lambda_k'] for k in ff]))\n",
    "print(sum([ff[k]['lambda_k']*4/ff[k]['h_k'] for k in ff]))\n",
    "print(sum([ff[k]['lambda_k']*4*ff[k]['h_k'] for k in ff]))\n",
    "\n",
    "# plt.title(\"Ergodicity Error vs Fourier Coefficient Error\")\n",
    "plt.xlabel(\"Fourier Coefficient Error\")\n",
    "plt.ylabel(\"Ergodicity Error\")\n",
    "plt.savefig(f\"perturbations/{distribution_name}_ergodicity_vs_fourier_coeff.pdf\")\n",
    "plt.close(\"all\")\n",
    "\n",
    "plt.figure()\n",
    "plt.plot(deltas, ergodicities, 'o')\n",
    "# plt.title(\"Ergodicity Error vs Fourier Coefficient Error\")\n",
    "plt.xlabel(\"Fourier Coefficient Error\")\n",
    "plt.ylabel(\"Ergodicity Error\")\n",
    "plt.savefig(f\"perturbations/{distribution_name}_ergodicity_vs_fourier_coeff_alone.pdf\")\n",
    "plt.close(\"all\")\n",
    "\n",
    "with open(f'perturbations/{distribution_name}_{perturbation_type}_{perturbation_amts}.pkl', 'wb') as handle:\n",
    "    pickle.dump(perturbation, handle, protocol=pickle.HIGHEST_PROTOCOL)"
   ]
  },
  {
   "cell_type": "code",
   "execution_count": 14,
   "metadata": {},
   "outputs": [],
   "source": [
    "import matplotlib.pyplot as plt\n",
    "import pickle\n",
    "# perturbation = None \n",
    "# with open(f'perturbations/{perturbation_type}_{perturbation_amts}.pkl', 'rb') as handle:\n",
    "#     perturbation = pickle.load(handle)\n",
    "plt.figure()\n",
    "cmap = plt.get_cmap('viridis')\n",
    "colors = cmap(np.linspace(0, 1, len(ff)))\n",
    "ks = list(sorted([k for k in ff], key=lambda x: min([1/ff[x][\"h_k\"]*2*max(x), 2/ff[x][\"h_k\"]])))\n",
    "\n",
    "for i, (k, color) in enumerate(zip(ks, colors), 1):\n",
    "    plt.plot(perturbation_amts, [abs(perturbation[p_amt][\"c_k\"][k]-agent1.c_k[k]) for p_amt in perturbation_amts], \"o\", label=str(k), color=color)\n",
    "    plt.plot(perturbation_amts, [min([p_amt/ff[k][\"h_k\"]*2*max(k), 2/ff[k][\"h_k\"]]) for p_amt in perturbation_amts], \"-\", color=color)\n",
    "plt.xlabel(\"Maximum Perturbation Amount\")\n",
    "plt.ylabel(\"c_k perturbation amount\")\n",
    "plt.savefig(f\"perturbations/{distribution_name}_trajectory_perturbation_vs_c_k_perturbation.pdf\")\n",
    "plt.close()\n",
    "\n",
    "plt.figure()\n",
    "for i, (k, color) in enumerate(zip(ks, colors), 1):\n",
    "    plt.plot(perturbation_amts, [abs(perturbation[p_amt][\"c_k\"][k]-agent1.c_k[k]) for p_amt in perturbation_amts], \"o-\", label=str(k), color=color)\n",
    "plt.xlabel(\"Maximum Perturbation Amount\")\n",
    "plt.ylabel(\"c_k perturbation amount\")\n",
    "plt.savefig(f\"perturbations/{distribution_name}_trajectory_perturbation_vs_c_k_perturbation_alone.pdf\")\n",
    "plt.close()"
   ]
  },
  {
   "cell_type": "code",
   "execution_count": 15,
   "metadata": {},
   "outputs": [
    {
     "name": "stdout",
     "output_type": "stream",
     "text": [
      "[0.0005607596970413273, 0.0005614104284730355, 0.0005558014065601191, 0.0005621909156973171, 0.0006376739473546506, 0.0004912314276993003]\n"
     ]
    }
   ],
   "source": [
    "p_erg = []\n",
    "for p_amt in perturbation:\n",
    "    p_erg.append(ergodic_metric(_lambda_k, perturbation[p_amt][\"c_k\"], mu_k))\n",
    "\n",
    "\n",
    "plt.figure()\n",
    "plt.plot(perturbation_amts, p_erg)\n",
    "plt.xlabel(\"Maximum Perturbation Amount\")\n",
    "plt.ylabel(\"Ergodicity perturbation amount\")\n",
    "plt.savefig(f\"perturbations/{distribution_name}_trajectory_perturbation_vs_ergodicity_perturbation_alone.pdf\")\n",
    "plt.close()\n",
    "print(p_erg)"
   ]
  },
  {
   "cell_type": "markdown",
   "metadata": {},
   "source": [
    "## 2.b. what happens if trajectory, etc. continuously perturbed"
   ]
  }
 ],
 "metadata": {
  "interpreter": {
   "hash": "31f2aee4e71d21fbe5cf8b01ff0e069b9275f58929596ceb00d14d90e3e16cd6"
  },
  "kernelspec": {
   "display_name": "Python 3",
   "language": "python",
   "name": "python3"
  },
  "language_info": {
   "codemirror_mode": {
    "name": "ipython",
    "version": 3
   },
   "file_extension": ".py",
   "mimetype": "text/x-python",
   "name": "python",
   "nbconvert_exporter": "python",
   "pygments_lexer": "ipython3",
   "version": "3.9.12"
  }
 },
 "nbformat": 4,
 "nbformat_minor": 2
}
