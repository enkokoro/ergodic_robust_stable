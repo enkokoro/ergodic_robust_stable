{
 "cells": [
  {
   "cell_type": "markdown",
   "metadata": {},
   "source": [
    "# Outline\n",
    "0. Generating ergodic trajectories\n",
    "1. Trajectory/Distribution perturbation vs Fourier Coefficient\n",
    "    - induced distribution from trajectory\n",
    "    - distribution vs fourier coefficient\n",
    "2. Fourier coefficient perturbation vs ergodic metric perturbation"
   ]
  },
  {
   "cell_type": "code",
   "execution_count": 10,
   "metadata": {},
   "outputs": [],
   "source": [
    "distribution_name = \"one_peak\"\n",
    "from enum import Enum\n",
    "class PerturbationType(Enum):\n",
    "    UNIFORM = 1\n",
    "    GAUSSIAN = 2\n",
    "p_type = PerturbationType.UNIFORM\n",
    "perturbation_type = p_type.name\n",
    "perturbation_amts = [0.01, 0.1, 0.25]\n",
    "time_steps = 10\n",
    "K = 5\n",
    "system_name = \"mm_1\"\n",
    "compute_mu = False"
   ]
  },
  {
   "cell_type": "code",
   "execution_count": 2,
   "metadata": {},
   "outputs": [],
   "source": [
    "import numpy as np\n",
    "U_shape = (1,1)\n",
    "all_k = list(np.ndindex(*[K]*len(U_shape)))"
   ]
  },
  {
   "cell_type": "markdown",
   "metadata": {},
   "source": [
    "# 0. Generate ergodic trajectories"
   ]
  },
  {
   "cell_type": "markdown",
   "metadata": {},
   "source": [
    "## 0.a. Define probability distribution $\\mu$"
   ]
  },
  {
   "cell_type": "code",
   "execution_count": 3,
   "metadata": {},
   "outputs": [],
   "source": [
    "# defining probability distribution mu\n",
    "from probability_distribution import *\n",
    "\n",
    "mu = mu_gaussians([(np.array([0.2, 0.75]), 0.02)], U_shape)\n",
    "mu = mu_normalize(mu, U_shape)\n",
    "\n",
    "# calculating fourier coefficients of probability distribution mu\n",
    "from fourier_functions import *\n",
    "import pickle\n",
    "\n",
    "ff = Fourier_Functions(mu, U_shape, K, compute_mu=compute_mu)\n",
    "if compute_mu:\n",
    "    mu_k = {}\n",
    "    for k in ff:\n",
    "        mu_k[k] = ff[k]['mu_k']\n",
    "\n",
    "    with open(f'mu/{distribution_name}_{K}.pkl', 'wb') as handle:\n",
    "        pickle.dump(mu_k, handle, protocol=pickle.HIGHEST_PROTOCOL)\n",
    "else:\n",
    "    with open(f'mu/{distribution_name}_{K}.pkl', 'rb') as handle:\n",
    "        mu_k = pickle.load(handle)\n",
    "    for k in ff:\n",
    "        ff[k]['mu_k'] = mu_k[k]\n",
    "\n",
    "original_mu = mu \n",
    "mu = fourier_coefficient2distribution(ff, all_k, c_k=None)\n",
    "\n",
    "if compute_mu:\n",
    "    mu_display2D(original_mu, U_shape, title=f\"mu/{distribution_name}_original\")\n",
    "    mu_display2D(mu, U_shape, title=f\"mu/{distribution_name}_fouriered\")\n"
   ]
  },
  {
   "cell_type": "markdown",
   "metadata": {},
   "source": [
    "## 0.b. Define agent system"
   ]
  },
  {
   "cell_type": "code",
   "execution_count": 4,
   "metadata": {},
   "outputs": [],
   "source": [
    "from ergodic_agents import *\n",
    "from mm_agent import *\n",
    "\n",
    "agent1 = MMAgent1(0, np.array([0.2, 0.3]), 0.5, all_k, U_shape, ff, eps=1e-5)\n",
    "system = AgentSystem([agent1], mu, U_shape, ff, K)"
   ]
  },
  {
   "cell_type": "markdown",
   "metadata": {},
   "source": [
    "## 0.c. Generate Vanilla Ergodic Trajectory $x$"
   ]
  },
  {
   "cell_type": "code",
   "execution_count": 5,
   "metadata": {},
   "outputs": [],
   "source": [
    "t = 0\n",
    "delta_t = 0.1\n",
    "for i in range(time_steps):\n",
    "    t = i * delta_t\n",
    "    system.evolve(t, delta_t)\n"
   ]
  },
  {
   "cell_type": "code",
   "execution_count": 7,
   "metadata": {},
   "outputs": [],
   "source": [
    "filename = f\"robustness/system={system_name}_mu={distribution_name}_K={K}_T={time_steps}\"\n",
    "description = f\"{system_name} on {distribution_name}\"\n",
    "\n",
    "system.visualize_trajectory(filename, description)\n",
    "# system.visualize2d(filename=filename, additional_title=description, plot_c_k=False)\n",
    "system.visualize_ergodicity(filename)"
   ]
  },
  {
   "cell_type": "markdown",
   "metadata": {},
   "source": [
    "# 1. Trajectory/distribution perturbation vs Fourier coefficient"
   ]
  },
  {
   "cell_type": "code",
   "execution_count": 11,
   "metadata": {},
   "outputs": [],
   "source": [
    "perturbation = {p_amt:{ \"mu_k\": None, \n",
    "                        \"trajectory\": None, \n",
    "                        \"c_k\": None} for p_amt in perturbation_amts}"
   ]
  },
  {
   "cell_type": "markdown",
   "metadata": {},
   "source": [
    "## 1.a. induced distribution from trajectory"
   ]
  },
  {
   "cell_type": "code",
   "execution_count": 9,
   "metadata": {},
   "outputs": [],
   "source": [
    "spatial_distribution = fourier_coefficient2distribution(ff, all_k, c_k=system.c_k)\n",
    "mu_display2D(spatial_distribution, U_shape, title=f\"{filename}_induced_spatial_distribution\")\n",
    "\n",
    "trajectories = [agent.x_log for agent in system.agents]\n",
    "visualize_trajectory(f\"{filename}_induced_spatial_distribution_with_trajectory\", \n",
    "                     f\"{system_name} induced spatial distribution with trajectory\", \n",
    "                     U_shape, trajectories, spatial_distribution)"
   ]
  },
  {
   "cell_type": "markdown",
   "metadata": {},
   "source": [
    "## 1.b. distribution perturbations vs Fourier coefficients"
   ]
  },
  {
   "cell_type": "code",
   "execution_count": 13,
   "metadata": {},
   "outputs": [],
   "source": [
    "assert len(system.agents) == 1\n",
    "for p_amt in perturbation:\n",
    "    p_tag = f\"perturb={perturbation_type}_amt={p_amt}\"\n",
    "    # trajectory perturbations\n",
    "    trajectory = np.array(system.agents[0].x_log) \n",
    "    if p_type == PerturbationType.UNIFORM:\n",
    "        perturbed_trajectory = np.random.uniform(np.maximum(trajectory-p_amt, 0), np.minimum(trajectory+p_amt, U_shape))\n",
    "    elif p_type == PerturbationType.GAUSSIAN:\n",
    "        perturbed_trajectory = np.clip(np.random.gaussian(trajectory, p_amt), 0, U_shape)\n",
    "    else:\n",
    "        raise RuntimeError\n",
    "    perturbation[p_amt][\"trajectory\"] = perturbed_trajectory\n",
    "    perturbation[p_amt][\"c_k\"] = {k: sum([ff[k]['f_k'](x) for x in perturbed_trajectory])/len(perturbed_trajectory) for k in ff}\n",
    "\n",
    "    # original vs perturbed trajectory on original distribution\n",
    "    visualize_trajectory(f\"{filename}_original_vs_perturbed_trajectory\", \n",
    "                     f\"{system_name} original vs perturbed trajectory\", \n",
    "                     U_shape, [trajectory, perturbed_trajectory], mu)\n",
    "\n",
    "    # induced perturbed distribution with and without trajectory\n",
    "    p_spatial_distribution = fourier_coefficient2distribution(ff, all_k, c_k=system.c_k)\n",
    "    mu_display2D(spatial_distribution, U_shape, title=f\"{filename}_induced_spatial_distribution_{p_tag}\")\n",
    "    \n",
    "    trajectories = [agent.x_log for agent in system.agents]\n",
    "    visualize_trajectory(f\"{filename}_induced_spatial_distribution_{p_tag}_with_trajectory\", \n",
    "                     f\"{system_name} induced spatial distribution with perturbed trajectory ({perturbation_type} {p_amt})\", \n",
    "                     U_shape, trajectories, spatial_distribution)\n",
    "                     \n",
    "    # TODO plot trajectory perturbation amount to c_k perturbation amount\n",
    "\n",
    "    # information distribution perturbations\n",
    "    perturbation[p_amt][\"mu_k\"] = None\n"
   ]
  },
  {
   "cell_type": "markdown",
   "metadata": {},
   "source": [
    "# 2. Fourier coefficient perturbation vs ergodic metric perturbation"
   ]
  },
  {
   "cell_type": "markdown",
   "metadata": {},
   "source": [
    "## 2.a. one shot ergodic metric perturbation"
   ]
  },
  {
   "cell_type": "code",
   "execution_count": null,
   "metadata": {},
   "outputs": [],
   "source": [
    "def ergodic_metric(lambda_k, c_k, mu_k):\n",
    "    return sum([lambda_k[k]*(c_k[k] - mu_k[k])**2 for k in lambda_k])\n",
    "\n",
    "_lambda_k = {k: ff[k]['lambda_k'] for k in ff}\n",
    "for p_amt in perturbation:\n",
    "    perturbation[p_amt][\"ergodicity change c_k\"] = ergodic_metric(_lambda_k, perturbation[p_amt][\"c_k\"], mu_k)\n",
    "    perturbation[p_amt][\"ergodicity change mu_k\"] = ergodic_metric(all_k, system.c_k, perturbation[p_amt][\"mu_k\"])\n",
    "\n",
    "with open(f'perturbations/{perturbation_type}_{perturbation_amts}.pkl', 'wb') as handle:\n",
    "    pickle.dump(perturbation, handle, protocol=pickle.HIGHEST_PROTOCOL)"
   ]
  },
  {
   "cell_type": "code",
   "execution_count": null,
   "metadata": {},
   "outputs": [],
   "source": [
    "# TODO plot the perturbations"
   ]
  },
  {
   "cell_type": "code",
   "execution_count": null,
   "metadata": {},
   "outputs": [],
   "source": []
  },
  {
   "cell_type": "markdown",
   "metadata": {},
   "source": [
    "## 2.b. what happens if trajectory, etc. continuously perturbed"
   ]
  }
 ],
 "metadata": {
  "interpreter": {
   "hash": "31f2aee4e71d21fbe5cf8b01ff0e069b9275f58929596ceb00d14d90e3e16cd6"
  },
  "kernelspec": {
   "display_name": "Python 3.9.12 64-bit",
   "language": "python",
   "name": "python3"
  },
  "language_info": {
   "codemirror_mode": {
    "name": "ipython",
    "version": 3
   },
   "file_extension": ".py",
   "mimetype": "text/x-python",
   "name": "python",
   "nbconvert_exporter": "python",
   "pygments_lexer": "ipython3",
   "version": "3.9.12"
  },
  "orig_nbformat": 4
 },
 "nbformat": 4,
 "nbformat_minor": 2
}
