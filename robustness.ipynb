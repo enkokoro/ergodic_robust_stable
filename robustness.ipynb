{
 "cells": [
  {
   "cell_type": "markdown",
   "metadata": {},
   "source": [
    "# Outline\n",
    "0. Generating ergodic trajectories\n",
    "1. Trajectory/Distribution perturbation vs Fourier Coefficient\n",
    "    - induced distribution from trajectory\n",
    "    - distribution vs fourier coefficient\n",
    "2. Fourier coefficient perturbation vs ergodic metric perturbation"
   ]
  },
  {
   "cell_type": "code",
   "execution_count": 1,
   "metadata": {},
   "outputs": [],
   "source": [
    "distribution_name = \"close_peaks\" #\"one_peak\"\n",
    "from enum import Enum\n",
    "class PerturbationType(Enum):\n",
    "    UNIFORM = 1\n",
    "    GAUSSIAN = 2\n",
    "p_type = PerturbationType.UNIFORM\n",
    "perturbation_type = p_type.name\n",
    "perturbation_amts = [0.001, 0.01, 0.025, 0.05, 0.075, 0.1]\n",
    "time_steps = 100\n",
    "K = 5\n",
    "system_name = \"casadi\"\n",
    "compute_mu = False"
   ]
  },
  {
   "cell_type": "code",
   "execution_count": 2,
   "metadata": {},
   "outputs": [],
   "source": [
    "import numpy as np\n",
    "from probability_distribution import *\n",
    "U_shape = (1,1)\n",
    "all_k = list(np.ndindex(*[K]*len(U_shape)))"
   ]
  },
  {
   "cell_type": "markdown",
   "metadata": {},
   "source": [
    "# 0. Generate ergodic trajectories"
   ]
  },
  {
   "cell_type": "markdown",
   "metadata": {},
   "source": [
    "## 0.a. Define probability distribution $\\mu$"
   ]
  },
  {
   "cell_type": "code",
   "execution_count": 3,
   "metadata": {},
   "outputs": [],
   "source": [
    "mu = mu_gaussians([(np.array([0.25, 0.75]), 0.025), (np.array([0.5, 0.5]), 0.025)], U_shape)\n",
    "mu = mu_normalize(mu, U_shape)\n",
    "mu_display2D(mu, U_shape, title=f\"mu/{distribution_name}_original\")"
   ]
  },
  {
   "cell_type": "code",
   "execution_count": 4,
   "metadata": {},
   "outputs": [],
   "source": [
    "# defining probability distribution mu\n",
    "from probability_distribution import *\n",
    "\n",
    "# mu = mu_gaussians([(np.array([0.25, 0.75]), 0.05), (np.array([0.6, 0.3]), 0.1)], U_shape)\n",
    "# mu = mu_gaussians([(np.array([0.2, 0.75]), 0.1)], U_shape)\n",
    "mu = mu_gaussians([(np.array([0.25, 0.75]), 0.025), (np.array([0.5, 0.5]), 0.025)], U_shape)\n",
    "mu = mu_normalize(mu, U_shape)\n",
    "\n",
    "# calculating fourier coefficients of probability distribution mu\n",
    "from fourier_functions import *\n",
    "import pickle\n",
    "\n",
    "ff = Fourier_Functions(mu, U_shape, K, compute_mu=compute_mu)\n",
    "if compute_mu:\n",
    "    mu_k = {}\n",
    "    for k in ff:\n",
    "        mu_k[k] = ff[k]['mu_k']\n",
    "\n",
    "    with open(f'mu/{distribution_name}_{K}.pkl', 'wb') as handle:\n",
    "        pickle.dump(mu_k, handle, protocol=pickle.HIGHEST_PROTOCOL)\n",
    "else:\n",
    "    with open(f'mu/{distribution_name}_{K}.pkl', 'rb') as handle:\n",
    "        mu_k = pickle.load(handle)\n",
    "    for k in ff:\n",
    "        ff[k]['mu_k'] = mu_k[k]\n",
    "\n",
    "original_mu = mu \n",
    "# mu = fourier_coefficient2distribution(ff, all_k, c_k=None)\n",
    "\n",
    "if compute_mu:\n",
    "    mu_display2D(original_mu, U_shape, title=f\"mu/{distribution_name}_original\")\n",
    "    mu_display2D(mu, U_shape, title=f\"mu/{distribution_name}_fouriered\")\n"
   ]
  },
  {
   "cell_type": "code",
   "execution_count": 9,
   "metadata": {},
   "outputs": [],
   "source": [
    "# mu_display2D(original_mu, U_shape, title=f\"mu/{distribution_name}_original\")\n",
    "# mu_display2D(mu, U_shape, title=f\"mu/{distribution_name}_fouriered\")\n",
    "# mu(np.array([0.9, 0.1]))"
   ]
  },
  {
   "cell_type": "markdown",
   "metadata": {},
   "source": [
    "## 0.b. Define agent system"
   ]
  },
  {
   "cell_type": "code",
   "execution_count": 5,
   "metadata": {},
   "outputs": [],
   "source": [
    "from ergodic_agents import *\n",
    "from mm_agent import *\n",
    "from casadi_agent import * \n",
    "\n",
    "# agent1 = MMAgent1(0, np.array([0.2, 0.3]), 0.5, all_k, U_shape, ff, eps=1e-5)\n",
    "agent1 = CasadiAgent(0, np.array([0.2, 0.3]), 0.5, all_k, U_shape, ff, eps=1e-5)\n",
    "system = AgentSystem([agent1], mu, U_shape, ff, K)"
   ]
  },
  {
   "cell_type": "markdown",
   "metadata": {},
   "source": [
    "## 0.c. Generate Vanilla Ergodic Trajectory $x$"
   ]
  },
  {
   "cell_type": "code",
   "execution_count": 6,
   "metadata": {},
   "outputs": [
    {
     "name": "stdout",
     "output_type": "stream",
     "text": [
      "(2, 100)\n",
      "(2, 100)\n",
      "\n",
      "******************************************************************************\n",
      "This program contains Ipopt, a library for large-scale nonlinear optimization.\n",
      " Ipopt is released as open source code under the Eclipse Public License (EPL).\n",
      "         For more information visit http://projects.coin-or.org/Ipopt\n",
      "******************************************************************************\n",
      "\n",
      "      solver  :   t_proc      (avg)   t_wall      (avg)    n_eval\n",
      "       nlp_f  |  86.67ms (  2.80ms)  86.55ms (  2.79ms)        31\n",
      "       nlp_g  |   1.80ms ( 57.94us)   1.73ms ( 55.74us)        31\n",
      "  nlp_grad_f  | 170.54ms (  5.33ms) 169.89ms (  5.31ms)        32\n",
      "  nlp_hess_l  |  71.32 s (  2.38 s)  71.02 s (  2.37 s)        30\n",
      "   nlp_jac_g  |  29.12ms (910.12us)  29.06ms (908.18us)        32\n",
      "       total  |  72.42 s ( 72.42 s)  72.14 s ( 72.14 s)         1\n"
     ]
    }
   ],
   "source": [
    "t = 0\n",
    "delta_t = 0.1\n",
    "for i in range(time_steps):\n",
    "    t = i * delta_t\n",
    "    system.evolve(t, delta_t)\n"
   ]
  },
  {
   "cell_type": "code",
   "execution_count": 7,
   "metadata": {},
   "outputs": [],
   "source": [
    "filename = f\"robustness/system={system_name}_mu={distribution_name}_K={K}_T={time_steps}\"\n",
    "description = f\"{system_name} on {distribution_name}\"\n",
    "\n",
    "system.visualize_trajectory(filename, description)\n",
    "system.visualize_ergodicity(filename)"
   ]
  },
  {
   "cell_type": "markdown",
   "metadata": {},
   "source": [
    "# 1. Trajectory/distribution perturbation vs Fourier coefficient"
   ]
  },
  {
   "cell_type": "code",
   "execution_count": 9,
   "metadata": {},
   "outputs": [],
   "source": [
    "perturbation = {p_amt:{ \"mu_k\": None, \n",
    "                        \"trajectory\": None, \n",
    "                        \"c_k\": None} for p_amt in perturbation_amts}"
   ]
  },
  {
   "cell_type": "markdown",
   "metadata": {},
   "source": [
    "## 1.a. induced distribution from trajectory"
   ]
  },
  {
   "cell_type": "code",
   "execution_count": 8,
   "metadata": {},
   "outputs": [],
   "source": [
    "for _time_steps in [time_steps//4, time_steps//2, time_steps]:\n",
    "    _filename = f\"robustness/system={system_name}_mu={distribution_name}_K={K}_T={_time_steps}\"\n",
    "    spatial_distribution = fourier_coefficient2distribution(ff, all_k, c_k=system.c_k_log[_time_steps])\n",
    "    mu_display2D(spatial_distribution, U_shape, title=f\"{_filename}_induced_spatial_distribution\")\n",
    "\n",
    "    trajectories = [agent.x_log[:_time_steps] for agent in system.agents]\n",
    "    visualize_trajectory(f\"{_filename}_induced_spatial_distribution_with\", \n",
    "                     f\"{system_name} induced spatial distribution with trajectory\", \n",
    "                     U_shape, trajectories, spatial_distribution)"
   ]
  },
  {
   "cell_type": "markdown",
   "metadata": {},
   "source": [
    "## 1.b. distribution perturbations vs Fourier coefficients"
   ]
  },
  {
   "cell_type": "code",
   "execution_count": 15,
   "metadata": {},
   "outputs": [
    {
     "data": {
      "text/plain": [
       "[array([0.2, 0.3]),\n",
       " array([0.32423579, 0.39415837]),\n",
       " array([0.35725296, 0.43559722]),\n",
       " array([0.37198546, 0.47879282]),\n",
       " array([0.37650009, 0.51906574]),\n",
       " array([0.37640296, 0.5527595 ]),\n",
       " array([0.37549984, 0.5779811 ]),\n",
       " array([0.37623166, 0.59420113]),\n",
       " array([0.38009938, 0.60169762]),\n",
       " array([0.38794473, 0.60117982]),\n",
       " array([0.40000657, 0.593662  ]),\n",
       " array([0.41579069, 0.58053052]),\n",
       " array([0.4339185 , 0.56364803]),\n",
       " array([0.45224745, 0.54523682]),\n",
       " array([0.46843867, 0.5273771 ]),\n",
       " array([0.48068318, 0.51137267]),\n",
       " array([0.48807652, 0.49746184]),\n",
       " array([0.49052441, 0.48499237]),\n",
       " array([0.48845056, 0.47280223]),\n",
       " array([0.48256259, 0.45958   ]),\n",
       " array([0.47375927, 0.44416683]),\n",
       " array([0.46314221, 0.42585359]),\n",
       " array([0.45204993, 0.40469651]),\n",
       " array([0.44206836, 0.38177955]),\n",
       " array([0.4350936 , 0.35924929]),\n",
       " array([0.43358925, 0.33987094]),\n",
       " array([0.44099537, 0.32595096]),\n",
       " array([0.46186045, 0.3180283 ]),\n",
       " array([0.50065938, 0.3144831 ]),\n",
       " array([0.55745362, 0.31368888]),\n",
       " array([0.6204359 , 0.31998147]),\n",
       " array([0.66685898, 0.34443876]),\n",
       " array([0.68289902, 0.38549573]),\n",
       " array([0.67432568, 0.42707665]),\n",
       " array([0.65547943, 0.45947092]),\n",
       " array([0.6372408 , 0.48205348]),\n",
       " array([0.62452161, 0.49792218]),\n",
       " array([0.61857098, 0.51116533]),\n",
       " array([0.6192055 , 0.52599649]),\n",
       " array([0.62593371, 0.54643307]),\n",
       " array([0.63809931, 0.57535146]),\n",
       " array([0.65323908, 0.61081875]),\n",
       " array([0.66238382, 0.63892188]),\n",
       " array([0.6519169 , 0.63997646]),\n",
       " array([0.62240825, 0.61844645]),\n",
       " array([0.58507318, 0.5949587 ]),\n",
       " array([0.54582501, 0.58024942]),\n",
       " array([0.50629643, 0.57583032]),\n",
       " array([0.4676035, 0.5798098]),\n",
       " array([0.43142584, 0.58911644]),\n",
       " array([0.39960305, 0.60056573]),\n",
       " array([0.37331596, 0.61182208]),\n",
       " array([0.35273524, 0.62180281]),\n",
       " array([0.33728575, 0.63043516]),\n",
       " array([0.32610186, 0.63819826]),\n",
       " array([0.31835814, 0.64576643]),\n",
       " array([0.31342592, 0.65381393]),\n",
       " array([0.31091844, 0.66293207]),\n",
       " array([0.3106887 , 0.67360309]),\n",
       " array([0.31282063, 0.68619524]),\n",
       " array([0.3176397 , 0.70095956]),\n",
       " array([0.32576965, 0.71801952]),\n",
       " array([0.33825977, 0.73735777]),\n",
       " array([0.35673959, 0.75880958]),\n",
       " array([0.38326308, 0.78203765]),\n",
       " array([0.4187038 , 0.80629249]),\n",
       " array([0.45728311, 0.82920643]),\n",
       " array([0.47852226, 0.84447882]),\n",
       " array([0.46133709, 0.84658196]),\n",
       " array([0.41823133, 0.84128335]),\n",
       " array([0.37305449, 0.83655261]),\n",
       " array([0.33534673, 0.83488037]),\n",
       " array([0.30548209, 0.83580914]),\n",
       " array([0.28156399, 0.83827236]),\n",
       " array([0.26193682, 0.84146693]),\n",
       " array([0.24558149, 0.84496544]),\n",
       " array([0.23188483, 0.84853331]),\n",
       " array([0.22038116, 0.85193471]),\n",
       " array([0.21060376, 0.8548336 ]),\n",
       " array([0.20203408, 0.85679524]),\n",
       " array([0.19412541, 0.8573471 ]),\n",
       " array([0.18638411, 0.85605272]),\n",
       " array([0.1784791 , 0.85257567]),\n",
       " array([0.17033803, 0.84672921]),\n",
       " array([0.16218927, 0.83850282]),\n",
       " array([0.15451879, 0.82804819]),\n",
       " array([0.14793246, 0.81561427]),\n",
       " array([0.14295722, 0.80144775]),\n",
       " array([0.13985674, 0.78570305]),\n",
       " array([0.13853795, 0.76840923]),\n",
       " array([0.13857603, 0.74951238]),\n",
       " array([0.13933177, 0.72897336]),\n",
       " array([0.1401118 , 0.70687939]),\n",
       " array([0.14032634, 0.68353461]),\n",
       " array([0.13960996, 0.65951365]),\n",
       " array([0.13788681, 0.63567719]),\n",
       " array([0.13538766, 0.61314787]),\n",
       " array([0.13263904, 0.5932213 ]),\n",
       " array([0.13041875, 0.57717632]),\n",
       " array([0.12965535, 0.56601693]),\n",
       " array([0.12734285, 0.54958905]),\n",
       " array([0.21189586, 0.54497507]),\n",
       " array([0.20599804, 0.53707394]),\n",
       " array([0.20747257, 0.53980403]),\n",
       " array([0.2149059 , 0.55381841]),\n",
       " array([0.22413102, 0.5725407 ]),\n",
       " array([0.23153817, 0.58955262]),\n",
       " array([0.23577941, 0.60248372]),\n",
       " array([0.23701832, 0.61191675]),\n",
       " array([0.23573544, 0.6194459 ]),\n",
       " array([0.23214462, 0.62664703]),\n",
       " array([0.22613996, 0.63479501]),\n",
       " array([0.21747   , 0.64486927]),\n",
       " array([0.20597846, 0.65758191]),\n",
       " array([0.19185857, 0.67333623]),\n",
       " array([0.17585841, 0.69212127]),\n",
       " array([0.15930225, 0.7134036 ]),\n",
       " array([0.14380896, 0.73609843]),\n",
       " array([0.13079512, 0.75869466]),\n",
       " array([0.12108166, 0.77956238]),\n",
       " array([0.11488377, 0.7973498 ]),\n",
       " array([0.11215347, 0.8112776 ]),\n",
       " array([0.11298086, 0.8212158 ]),\n",
       " array([0.11776435, 0.82758872]),\n",
       " array([0.12704318, 0.83121102]),\n",
       " array([0.14107952, 0.83310362]),\n",
       " array([0.15942481, 0.83428159]),\n",
       " array([0.18076159, 0.83552473]),\n",
       " array([0.20317952, 0.83721267]),\n",
       " array([0.22475022, 0.83931474]),\n",
       " array([0.24405874, 0.84152143]),\n",
       " array([0.2604326 , 0.84341163]),\n",
       " array([0.27385969, 0.84457165]),\n",
       " array([0.28474616, 0.84465891]),\n",
       " array([0.29366548, 0.84343995]),\n",
       " array([0.30118242, 0.8408186 ]),\n",
       " array([0.30778058, 0.83684424]),\n",
       " array([0.31389285, 0.83168167]),\n",
       " array([0.3200217 , 0.82554319]),\n",
       " array([0.3269363 , 0.81862413]),\n",
       " array([0.33594093, 0.81112378]),\n",
       " array([0.34918156, 0.80344235]),\n",
       " array([0.36975294, 0.79657272]),\n",
       " array([0.40055946, 0.792382  ]),\n",
       " array([0.43865778, 0.79225326]),\n",
       " array([0.4636807 , 0.79142511]),\n",
       " array([0.45220115, 0.77989031]),\n",
       " array([0.42213686, 0.76025587]),\n",
       " array([0.39701358, 0.73792242]),\n",
       " array([0.3823384 , 0.71387196]),\n",
       " array([0.3769217 , 0.68869138]),\n",
       " array([0.37901082, 0.66328503]),\n",
       " array([0.3870211 , 0.63830854]),\n",
       " array([0.39932551, 0.6142051 ]),\n",
       " array([0.41427271, 0.59141816]),\n",
       " array([0.43039741, 0.57039271]),\n",
       " array([0.44660702, 0.55146998]),\n",
       " array([0.46221983, 0.53485137]),\n",
       " array([0.47688566, 0.52064875]),\n",
       " array([0.49048282, 0.5089523 ]),\n",
       " array([0.50304564, 0.49987538]),\n",
       " array([0.51472747, 0.49358282]),\n",
       " array([0.52578591, 0.49033097]),\n",
       " array([0.53657533, 0.4905548 ]),\n",
       " array([0.54752047, 0.49505599]),\n",
       " array([0.55903471, 0.50542003]),\n",
       " array([0.57146574, 0.52501853]),\n",
       " array([0.58583876, 0.56133168]),\n",
       " array([0.60754769, 0.62839379]),\n",
       " array([0.64773036, 0.72534434]),\n",
       " array([0.65757492, 0.71931264]),\n",
       " array([0.64376251, 0.60348081]),\n",
       " array([0.6576951 , 0.53027641]),\n",
       " array([0.68042285, 0.49909557]),\n",
       " array([0.70042124, 0.4865668 ]),\n",
       " array([0.70868489, 0.47337966]),\n",
       " array([0.69543292, 0.43837536]),\n",
       " array([0.65998115, 0.36545045]),\n",
       " array([0.6204703, 0.2982104]),\n",
       " array([0.57934606, 0.28880345]),\n",
       " array([0.54246582, 0.31108343]),\n",
       " array([0.50920614, 0.33321358]),\n",
       " array([0.46871263, 0.34250902]),\n",
       " array([0.41109572, 0.33523058]),\n",
       " array([0.34973197, 0.31877747]),\n",
       " array([0.3414334 , 0.32557257]),\n",
       " array([0.38844532, 0.36178117]),\n",
       " array([0.43432966, 0.39887891]),\n",
       " array([0.46228921, 0.42863176]),\n",
       " array([0.47623282, 0.45257153]),\n",
       " array([0.48102645, 0.47279128]),\n",
       " array([0.47982588, 0.49066255]),\n",
       " array([0.47482166, 0.50690923]),\n",
       " array([0.46772663, 0.52174348]),\n",
       " array([0.45990047, 0.53504183]),\n",
       " array([0.45235578, 0.54654578]),\n",
       " array([0.44576734, 0.5560225 ]),\n",
       " array([0.44051775, 0.56334635]),\n",
       " array([0.43677557, 0.56850643]),\n",
       " array([0.43458921, 0.57157121]),\n",
       " array([0.42615647, 0.56318454])]"
      ]
     },
     "execution_count": 15,
     "metadata": {},
     "output_type": "execute_result"
    }
   ],
   "source": [
    "agent1.x_log"
   ]
  },
  {
   "cell_type": "code",
   "execution_count": 10,
   "metadata": {},
   "outputs": [],
   "source": [
    "assert len(system.agents) == 1\n",
    "for p_amt in perturbation:\n",
    "    p_tag = f\"perturb={perturbation_type}_amt={p_amt}\"\n",
    "    # trajectory perturbations\n",
    "    trajectory = np.array(system.agents[0].x_log) \n",
    "    if p_type == PerturbationType.UNIFORM:\n",
    "        radii = p_amt * np.sqrt(np.random.uniform(0, 1, (len(trajectory),)))\n",
    "        thetas = np.random.uniform(0, 1, (len(trajectory, )))*2*np.pi\n",
    "        perturb = [radii[i]*np.array([np.cos(thetas[i]), np.sin(thetas[i])]) for i in range(len(trajectory))]\n",
    "        perturbed_trajectory = trajectory+perturb\n",
    "    elif p_type == PerturbationType.GAUSSIAN:\n",
    "        perturbed_trajectory = np.clip(np.random.gaussian(trajectory, p_amt), 0, U_shape)\n",
    "    else:\n",
    "        raise RuntimeError\n",
    "    perturbation[p_amt][\"trajectory\"] = perturbed_trajectory\n",
    "    perturbation[p_amt][\"c_k\"] = {k: sum([ff[k]['f_k'](x) for x in perturbed_trajectory])/len(perturbed_trajectory) for k in ff}\n",
    "\n",
    "    # original vs perturbed trajectory on original distribution\n",
    "    visualize_trajectory(f\"{filename}_original_vs_perturbed_{p_tag}\", \n",
    "                     f\"{system_name} original vs perturbed trajectory\", \n",
    "                     U_shape, [trajectory, perturbed_trajectory], mu)\n",
    "\n",
    "    # induced perturbed distribution with and without trajectory\n",
    "    # p_spatial_distribution = fourier_coefficient2distribution(ff, all_k, c_k=system.c_k)\n",
    "    # mu_display2D(spatial_distribution, U_shape, title=f\"{filename}_induced_spatial_distribution_{p_tag}\")\n",
    "    \n",
    "    # trajectories = [agent.x_log for agent in system.agents]\n",
    "    # visualize_trajectory(f\"{filename}_induced_spatial_distribution_{p_tag}_with\", \n",
    "                    #  f\"{system_name} induced spatial distribution with perturbed trajectory ({perturbation_type} {p_amt})\", \n",
    "                    #  U_shape, trajectories, spatial_distribution)\n",
    "                     \n",
    "    # TODO plot trajectory perturbation amount to c_k perturbation amount\n",
    "\n",
    "    # information distribution perturbations   \n",
    "    perturbation[p_amt][\"mu_k\"] = None\n",
    "# 222 min\n"
   ]
  },
  {
   "cell_type": "code",
   "execution_count": null,
   "metadata": {},
   "outputs": [],
   "source": []
  },
  {
   "cell_type": "markdown",
   "metadata": {},
   "source": [
    "# 2. Fourier coefficient perturbation vs ergodic metric perturbation"
   ]
  },
  {
   "cell_type": "markdown",
   "metadata": {},
   "source": [
    "## 2.a. one shot ergodic metric perturbation"
   ]
  },
  {
   "cell_type": "code",
   "execution_count": 11,
   "metadata": {},
   "outputs": [
    {
     "name": "stdout",
     "output_type": "stream",
     "text": [
      "1.0906143005209485\n",
      "4.568103602200748\n",
      "4.236669591758927\n"
     ]
    }
   ],
   "source": [
    "def ergodic_metric(lambda_k, c_k, mu_k):\n",
    "    return sum([lambda_k[k]*(mu_k[k] - c_k[k])**2 for k in lambda_k])\n",
    "\n",
    "_lambda_k = {k: ff[k]['lambda_k'] for k in ff}\n",
    "for p_amt in perturbation:\n",
    "    perturbation[p_amt][\"ergodicity change c_k\"] = ergodic_metric(_lambda_k, perturbation[p_amt][\"c_k\"], mu_k)\n",
    "#     perturbation[p_amt][\"ergodicity change mu_k\"] = ergodic_metric(_lambda_k, system.c_k, perturbation[p_amt][\"mu_k\"])\n",
    "    perturbation[p_amt][\"ergodicity change +\"] = ergodic_metric(_lambda_k, {k: system.c_k[k] - p_amt for k in system.c_k}, mu_k)\n",
    "    perturbation[p_amt][\"ergodicity change -\"] = ergodic_metric(_lambda_k, {k: system.c_k[k] + p_amt for k in system.c_k}, mu_k)\n",
    "\n",
    "deltas = [-p for p in perturbation_amts] + perturbation_amts\n",
    "ergodicities = [perturbation[p_amt][\"ergodicity change -\"] for p_amt in perturbation] + [perturbation[p_amt][\"ergodicity change +\"] for p_amt in perturbation]\n",
    "plt.figure()\n",
    "plt.plot(deltas, ergodicities, 'o')\n",
    "deltas_sorted = sorted(deltas)\n",
    "plt.plot(deltas_sorted, [sum([ff[k]['lambda_k']*abs(d)*(4/ff[k]['h_k'] + abs(d)) for k in ff]) for d in deltas_sorted])\n",
    "print(sum([ff[k]['lambda_k'] for k in ff]))\n",
    "print(sum([ff[k]['lambda_k']*4/ff[k]['h_k'] for k in ff]))\n",
    "print(sum([ff[k]['lambda_k']*4*ff[k]['h_k'] for k in ff]))\n",
    "\n",
    "# plt.title(\"Ergodicity Error vs Fourier Coefficient Error\")\n",
    "plt.xlabel(\"Fourier Coefficient Error\")\n",
    "plt.ylabel(\"Ergodicity Error\")\n",
    "plt.savefig(f\"perturbations/{distribution_name}_ergodicity_vs_fourier_coeff.pdf\")\n",
    "plt.close(\"all\")\n",
    "\n",
    "plt.figure()\n",
    "plt.plot(deltas, ergodicities, 'o')\n",
    "# plt.title(\"Ergodicity Error vs Fourier Coefficient Error\")\n",
    "plt.xlabel(\"Fourier Coefficient Error\")\n",
    "plt.ylabel(\"Ergodicity Error\")\n",
    "plt.savefig(f\"perturbations/{distribution_name}_ergodicity_vs_fourier_coeff_alone.pdf\")\n",
    "plt.close(\"all\")\n",
    "\n",
    "with open(f'perturbations/{distribution_name}_{perturbation_type}_{perturbation_amts}.pkl', 'wb') as handle:\n",
    "    pickle.dump(perturbation, handle, protocol=pickle.HIGHEST_PROTOCOL)"
   ]
  },
  {
   "cell_type": "code",
   "execution_count": 12,
   "metadata": {},
   "outputs": [],
   "source": [
    "import matplotlib.pyplot as plt\n",
    "import pickle\n",
    "# perturbation = None \n",
    "# with open(f'perturbations/{perturbation_type}_{perturbation_amts}.pkl', 'rb') as handle:\n",
    "#     perturbation = pickle.load(handle)\n",
    "plt.figure()\n",
    "cmap = plt.get_cmap('viridis')\n",
    "colors = cmap(np.linspace(0, 1, len(ff)))\n",
    "ks = list(sorted([k for k in ff], key=lambda x: min([1/ff[x][\"h_k\"]*2*max(x), 2/ff[x][\"h_k\"]])))\n",
    "\n",
    "for i, (k, color) in enumerate(zip(ks, colors), 1):\n",
    "    plt.plot(perturbation_amts, [abs(perturbation[p_amt][\"c_k\"][k]-agent1.c_k[k]) for p_amt in perturbation_amts], \"o\", label=str(k), color=color)\n",
    "    plt.plot(perturbation_amts, [min([p_amt/ff[k][\"h_k\"]*2*max(k), 2/ff[k][\"h_k\"]]) for p_amt in perturbation_amts], \"-\", color=color)\n",
    "plt.xlabel(\"Maximum Perturbation Amount\")\n",
    "plt.ylabel(\"c_k perturbation amount\")\n",
    "plt.savefig(f\"perturbations/{distribution_name}_trajectory_perturbation_vs_c_k_perturbation.pdf\")\n",
    "plt.close()\n",
    "\n",
    "plt.figure()\n",
    "for i, (k, color) in enumerate(zip(ks, colors), 1):\n",
    "    plt.plot(perturbation_amts, [abs(perturbation[p_amt][\"c_k\"][k]-agent1.c_k[k]) for p_amt in perturbation_amts], \"o-\", label=str(k), color=color)\n",
    "plt.xlabel(\"Maximum Perturbation Amount\")\n",
    "plt.ylabel(\"c_k perturbation amount\")\n",
    "plt.savefig(f\"perturbations/{distribution_name}_trajectory_perturbation_vs_c_k_perturbation_alone.pdf\")\n",
    "plt.close()"
   ]
  },
  {
   "cell_type": "code",
   "execution_count": 13,
   "metadata": {},
   "outputs": [
    {
     "name": "stdout",
     "output_type": "stream",
     "text": [
      "[5.444596047114456e-06, 6.2437289412637016e-06, 1.3224003493281286e-05, 1.83063572714194e-05, 2.6678379384188525e-05, 0.0001248817244545487]\n"
     ]
    }
   ],
   "source": [
    "p_erg = []\n",
    "for p_amt in perturbation:\n",
    "    p_erg.append(ergodic_metric(_lambda_k, perturbation[p_amt][\"c_k\"], mu_k))\n",
    "\n",
    "\n",
    "plt.figure()\n",
    "plt.plot(perturbation_amts, p_erg)\n",
    "plt.xlabel(\"Maximum Perturbation Amount\")\n",
    "plt.ylabel(\"Ergodicity perturbation amount\")\n",
    "plt.savefig(f\"perturbations/{distribution_name}_trajectory_perturbation_vs_ergodicity_perturbation_alone.pdf\")\n",
    "plt.close()\n",
    "print(p_erg)"
   ]
  },
  {
   "cell_type": "markdown",
   "metadata": {},
   "source": [
    "## 2.b. what happens if trajectory, etc. continuously perturbed"
   ]
  }
 ],
 "metadata": {
  "interpreter": {
   "hash": "31f2aee4e71d21fbe5cf8b01ff0e069b9275f58929596ceb00d14d90e3e16cd6"
  },
  "kernelspec": {
   "display_name": "Python 3",
   "language": "python",
   "name": "python3"
  },
  "language_info": {
   "codemirror_mode": {
    "name": "ipython",
    "version": 3
   },
   "file_extension": ".py",
   "mimetype": "text/x-python",
   "name": "python",
   "nbconvert_exporter": "python",
   "pygments_lexer": "ipython3",
   "version": "3.9.12"
  }
 },
 "nbformat": 4,
 "nbformat_minor": 2
}
