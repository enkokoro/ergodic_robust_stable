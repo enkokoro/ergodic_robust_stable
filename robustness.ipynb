{
 "cells": [
  {
   "cell_type": "markdown",
   "metadata": {},
   "source": [
    "# Outline\n",
    "0. Generating ergodic trajectories\n",
    "1. Trajectory/Distribution perturbation vs Fourier Coefficient\n",
    "    - induced distribution from trajectory\n",
    "    - distribution vs fourier coefficient\n",
    "2. Fourier coefficient perturbation vs ergodic metric perturbation"
   ]
  },
  {
   "cell_type": "code",
   "execution_count": 1,
   "metadata": {},
   "outputs": [],
   "source": [
    "distribution_name = \"one_peak\"\n",
    "from enum import Enum\n",
    "class PerturbationType(Enum):\n",
    "    UNIFORM = 1\n",
    "    GAUSSIAN = 2\n",
    "p_type = PerturbationType.UNIFORM\n",
    "perturbation_type = p_type.name\n",
    "perturbation_amts = [0.0001, 0.001, 0.01, 0.05, 0.1]\n",
    "time_steps = 30\n",
    "K = 5\n",
    "system_name = \"mm_1\"\n",
    "compute_mu = False"
   ]
  },
  {
   "cell_type": "code",
   "execution_count": 2,
   "metadata": {},
   "outputs": [],
   "source": [
    "import numpy as np\n",
    "U_shape = (1,1)\n",
    "all_k = list(np.ndindex(*[K]*len(U_shape)))"
   ]
  },
  {
   "cell_type": "markdown",
   "metadata": {},
   "source": [
    "# 0. Generate ergodic trajectories"
   ]
  },
  {
   "cell_type": "markdown",
   "metadata": {},
   "source": [
    "## 0.a. Define probability distribution $\\mu$"
   ]
  },
  {
   "cell_type": "code",
   "execution_count": 3,
   "metadata": {},
   "outputs": [],
   "source": [
    "# defining probability distribution mu\n",
    "from probability_distribution import *\n",
    "\n",
    "mu = mu_gaussians([(np.array([0.2, 0.75]), 0.1)], U_shape)\n",
    "mu = mu_normalize(mu, U_shape)\n",
    "\n",
    "# calculating fourier coefficients of probability distribution mu\n",
    "from fourier_functions import *\n",
    "import pickle\n",
    "\n",
    "ff = Fourier_Functions(mu, U_shape, K, compute_mu=compute_mu)\n",
    "if compute_mu:\n",
    "    mu_k = {}\n",
    "    for k in ff:\n",
    "        mu_k[k] = ff[k]['mu_k']\n",
    "\n",
    "    with open(f'mu/{distribution_name}_{K}.pkl', 'wb') as handle:\n",
    "        pickle.dump(mu_k, handle, protocol=pickle.HIGHEST_PROTOCOL)\n",
    "else:\n",
    "    with open(f'mu/{distribution_name}_{K}.pkl', 'rb') as handle:\n",
    "        mu_k = pickle.load(handle)\n",
    "    for k in ff:\n",
    "        ff[k]['mu_k'] = mu_k[k]\n",
    "\n",
    "original_mu = mu \n",
    "mu = fourier_coefficient2distribution(ff, all_k, c_k=None)\n",
    "\n",
    "if compute_mu:\n",
    "    mu_display2D(original_mu, U_shape, title=f\"mu/{distribution_name}_original\")\n",
    "    mu_display2D(mu, U_shape, title=f\"mu/{distribution_name}_fouriered\")\n"
   ]
  },
  {
   "cell_type": "code",
   "execution_count": 4,
   "metadata": {},
   "outputs": [],
   "source": [
    "mu_display2D(original_mu, U_shape, title=f\"mu/{distribution_name}_original\")\n",
    "mu_display2D(mu, U_shape, title=f\"mu/{distribution_name}_fouriered\")\n",
    "mu(np.array([0.9, 0.1]))"
   ]
  },
  {
   "cell_type": "markdown",
   "metadata": {},
   "source": [
    "## 0.b. Define agent system"
   ]
  },
  {
   "cell_type": "code",
   "execution_count": null,
   "metadata": {},
   "outputs": [],
   "source": [
    "from ergodic_agents import *\n",
    "from mm_agent import *\n",
    "\n",
    "agent1 = MMAgent1(0, np.array([0.2, 0.3]), 0.5, all_k, U_shape, ff, eps=1e-5)\n",
    "system = AgentSystem([agent1], mu, U_shape, ff, K)"
   ]
  },
  {
   "cell_type": "markdown",
   "metadata": {},
   "source": [
    "## 0.c. Generate Vanilla Ergodic Trajectory $x$"
   ]
  },
  {
   "cell_type": "code",
   "execution_count": null,
   "metadata": {},
   "outputs": [],
   "source": [
    "t = 0\n",
    "delta_t = 0.1\n",
    "for i in range(time_steps):\n",
    "    t = i * delta_t\n",
    "    system.evolve(t, delta_t)\n"
   ]
  },
  {
   "cell_type": "code",
   "execution_count": null,
   "metadata": {},
   "outputs": [],
   "source": [
    "filename = f\"robustness/system={system_name}_mu={distribution_name}_K={K}_T={time_steps}\"\n",
    "description = f\"{system_name} on {distribution_name}\"\n",
    "\n",
    "system.visualize_trajectory(filename, description)\n",
    "# system.visualize2d(filename=filename, additional_title=description, plot_c_k=False)\n",
    "system.visualize_ergodicity(filename)"
   ]
  },
  {
   "cell_type": "markdown",
   "metadata": {},
   "source": [
    "# 1. Trajectory/distribution perturbation vs Fourier coefficient"
   ]
  },
  {
   "cell_type": "code",
   "execution_count": null,
   "metadata": {},
   "outputs": [],
   "source": [
    "perturbation = {p_amt:{ \"mu_k\": None, \n",
    "                        \"trajectory\": None, \n",
    "                        \"c_k\": None} for p_amt in perturbation_amts}"
   ]
  },
  {
   "cell_type": "markdown",
   "metadata": {},
   "source": [
    "## 1.a. induced distribution from trajectory"
   ]
  },
  {
   "cell_type": "code",
   "execution_count": null,
   "metadata": {},
   "outputs": [],
   "source": [
    "spatial_distribution = fourier_coefficient2distribution(ff, all_k, c_k=system.c_k)\n",
    "mu_display2D(spatial_distribution, U_shape, title=f\"{filename}_induced_spatial_distribution\")\n",
    "\n",
    "trajectories = [agent.x_log for agent in system.agents]\n",
    "visualize_trajectory(f\"{filename}_induced_spatial_distribution_with\", \n",
    "                     f\"{system_name} induced spatial distribution with trajectory\", \n",
    "                     U_shape, trajectories, spatial_distribution)"
   ]
  },
  {
   "cell_type": "markdown",
   "metadata": {},
   "source": [
    "## 1.b. distribution perturbations vs Fourier coefficients"
   ]
  },
  {
   "cell_type": "code",
   "execution_count": null,
   "metadata": {},
   "outputs": [],
   "source": [
    "assert len(system.agents) == 1\n",
    "for p_amt in perturbation:\n",
    "    p_tag = f\"perturb={perturbation_type}_amt={p_amt}\"\n",
    "    # trajectory perturbations\n",
    "    trajectory = np.array(system.agents[0].x_log) \n",
    "    if p_type == PerturbationType.UNIFORM:\n",
    "        perturbed_trajectory = np.random.uniform(np.maximum(trajectory-p_amt, 0), np.minimum(trajectory+p_amt, U_shape))\n",
    "    elif p_type == PerturbationType.GAUSSIAN:\n",
    "        perturbed_trajectory = np.clip(np.random.gaussian(trajectory, p_amt), 0, U_shape)\n",
    "    else:\n",
    "        raise RuntimeError\n",
    "    perturbation[p_amt][\"trajectory\"] = perturbed_trajectory\n",
    "    perturbation[p_amt][\"c_k\"] = {k: sum([ff[k]['f_k'](x) for x in perturbed_trajectory])/len(perturbed_trajectory) for k in ff}\n",
    "\n",
    "    # original vs perturbed trajectory on original distribution\n",
    "    visualize_trajectory(f\"{filename}_original_vs_perturbed\", \n",
    "                     f\"{system_name} original vs perturbed trajectory\", \n",
    "                     U_shape, [trajectory, perturbed_trajectory], mu)\n",
    "\n",
    "    # induced perturbed distribution with and without trajectory\n",
    "    p_spatial_distribution = fourier_coefficient2distribution(ff, all_k, c_k=system.c_k)\n",
    "    mu_display2D(spatial_distribution, U_shape, title=f\"{filename}_induced_spatial_distribution_{p_tag}\")\n",
    "    \n",
    "    trajectories = [agent.x_log for agent in system.agents]\n",
    "    visualize_trajectory(f\"{filename}_induced_spatial_distribution_{p_tag}_with\", \n",
    "                     f\"{system_name} induced spatial distribution with perturbed trajectory ({perturbation_type} {p_amt})\", \n",
    "                     U_shape, trajectories, spatial_distribution)\n",
    "                     \n",
    "    # TODO plot trajectory perturbation amount to c_k perturbation amount\n",
    "\n",
    "    # information distribution perturbations   \n",
    "    perturbation[p_amt][\"mu_k\"] = None\n"
   ]
  },
  {
   "cell_type": "markdown",
   "metadata": {},
   "source": [
    "# 2. Fourier coefficient perturbation vs ergodic metric perturbation"
   ]
  },
  {
   "cell_type": "markdown",
   "metadata": {},
   "source": [
    "## 2.a. one shot ergodic metric perturbation"
   ]
  },
  {
   "cell_type": "code",
   "execution_count": null,
   "metadata": {},
   "outputs": [
    {
     "name": "stdout",
     "output_type": "stream",
     "text": [
      "{(0, 0): 1.0, (0, 1): -0.1903099363601558, (0, 2): -0.8573585950465611, (0, 3): 0.18462341549712907, (0, 4): 0.0030587468998519163, (1, 0): 1.0983515827985277, (1, 1): -0.2116004354336993, (1, 2): -0.9297194523092306, (1, 3): 0.19948720614821272, (1, 4): -0.01836523118634517, (2, 0): 0.29275903412004234, (2, 1): -0.06384790853118197, (2, 2): -0.213499504627256, (2, 3): 0.04377386538816686, (2, 4): -0.06693757132867456, (3, 0): -0.6407886998317025, (3, 1): 0.11038056241762059, (3, 2): 0.6017050604682406, (3, 3): -0.13247077513673639, (3, 4): -0.0956878416657034, (4, 0): -1.2841626496405338, (4, 1): 0.2362438327393287, (4, 2): 1.1354727322487115, (4, 3): -0.24602021939931207, (4, 4): -0.06358181942230026}\n",
      "{0.01: {'mu_k': None, 'trajectory': array([[0.1982346 , 0.30842165],\n",
      "       [0.21765852, 0.34277869],\n",
      "       [0.22820411, 0.40684718],\n",
      "       [0.21635732, 0.45604927],\n",
      "       [0.21802923, 0.49795428],\n",
      "       [0.2255148 , 0.54766159],\n",
      "       [0.23117645, 0.60464562],\n",
      "       [0.22477163, 0.64522085],\n",
      "       [0.21681695, 0.69633461],\n",
      "       [0.20977682, 0.74282368],\n",
      "       [0.19092928, 0.78559426]]), 'c_k': {(0, 0): 1.0, (0, 1): -0.19166427183768944, (0, 2): -0.7994030598057332, (0, 3): 0.15908718539420044, (0, 4): -0.09601617742169553, (1, 0): 1.0997741883974352, (1, 1): -0.21341629624543354, (1, 2): -0.8657621005482974, (1, 3): 0.16905010081612615, (1, 4): -0.12576591910947132, (2, 0): 0.2977605735400251, (2, 1): -0.0655168734264011, (2, 2): -0.1957543752258202, (2, 3): 0.02899972379049738, (2, 4): -0.09208022740039357, (3, 0): -0.6320122862383295, (3, 1): 0.10865589195499387, (3, 2): 0.5651183934324654, (3, 3): -0.12565754388254055, (3, 4): -0.028779405852809446, (4, 0): -1.2741951748900497, (4, 1): 0.23434057713938083, (4, 2): 1.0602415255854778, (4, 3): -0.21807282280316534, (4, 4): 0.06124248269003057}, 'ergodicity change c_k': 0.029759280505203153}, 0.1: {'mu_k': None, 'trajectory': array([[0.10949819, 0.24487551],\n",
      "       [0.25846773, 0.26121628],\n",
      "       [0.18919966, 0.34139294],\n",
      "       [0.21471596, 0.54463165],\n",
      "       [0.22115658, 0.41804609],\n",
      "       [0.28945955, 0.63701036],\n",
      "       [0.19181008, 0.63098758],\n",
      "       [0.14963292, 0.60913941],\n",
      "       [0.29772062, 0.74320019],\n",
      "       [0.17562894, 0.78697823],\n",
      "       [0.27637003, 0.72440565]]), 'c_k': {(0, 0): 1.0, (0, 1): -0.16516384974654622, (0, 2): -0.5773851742107131, (0, 3): 0.26418127456773166, (0, 4): -0.5017529120299883, (1, 0): 1.0835601527914138, (1, 1): -0.13728658904111016, (1, 2): -0.6310108998212047, (1, 3): 0.23264038926824063, (1, 4): -0.517611654169064, (2, 0): 0.2808120490629498, (2, 1): 0.07838647657078429, (2, 2): -0.1706970778710084, (2, 3): -0.08203451334958717, (2, 4): -0.07585980342392294, (3, 0): -0.5484857740739448, (3, 1): 0.2515427384316942, (3, 2): 0.33161788995471325, (3, 3): -0.33150426340971273, (3, 4): 0.31326443779920654, (4, 0): -0.9841588490853791, (4, 1): 0.2584171227942305, (4, 2): 0.6391511073400307, (4, 3): -0.33499441599972857, (4, 4): 0.40355022108198674}}, 0.25: {'mu_k': None, 'trajectory': array([[3.61409927e-01, 5.00722375e-01],\n",
      "       [4.06203185e-02, 4.97586336e-01],\n",
      "       [5.79573819e-04, 3.13087824e-01],\n",
      "       [3.26653103e-01, 6.58339813e-01],\n",
      "       [3.32681927e-01, 2.67170027e-01],\n",
      "       [1.45761028e-01, 5.06819042e-01],\n",
      "       [2.45596744e-01, 7.72347788e-01],\n",
      "       [3.67069135e-01, 7.69774033e-01],\n",
      "       [1.35368580e-01, 5.18665891e-01],\n",
      "       [1.33166099e-01, 6.54003729e-01],\n",
      "       [7.74024495e-02, 7.65885760e-01]]), 'c_k': {(0, 0): 1.0, (0, 1): -0.26242342542990316, (0, 2): -0.6729319245233804, (0, 3): 0.27264445627326733, (0, 4): -0.1779016174538555, (1, 0): 1.0604170790949754, (1, 1): -0.2570909682860542, (1, 2): -0.7650228447752482, (1, 3): 0.25936794615343656, (1, 4): -0.10342020709685454, (2, 0): 0.32694261273298003, (2, 1): -0.015355503433524653, (2, 2): -0.37062576217388626, (2, 3): -0.015588653533506903, (2, 4): 0.19298444405898668, (3, 0): -0.14401050939888288, (3, 1): 0.15934115820271239, (3, 2): -0.09015377069721249, (3, 3): -0.23309218966882383, (3, 4): 0.3364948322567358, (4, 0): -0.05149705671315274, (4, 1): 0.17570384577513892, (4, 2): -0.06803349144605945, (4, 3): -0.28470759359724623, (4, 4): 0.1608932573539286}}}\n"
     ]
    },
    {
     "ename": "TypeError",
     "evalue": "'NoneType' object is not subscriptable",
     "output_type": "error",
     "traceback": [
      "\u001b[0;31m---------------------------------------------------------------------------\u001b[0m",
      "\u001b[0;31mTypeError\u001b[0m                                 Traceback (most recent call last)",
      "\u001b[0;32m<ipython-input-15-277c37ef6635>\u001b[0m in \u001b[0;36m<module>\u001b[0;34m\u001b[0m\n\u001b[1;32m      7\u001b[0m \u001b[0;32mfor\u001b[0m \u001b[0mp_amt\u001b[0m \u001b[0;32min\u001b[0m \u001b[0mperturbation\u001b[0m\u001b[0;34m:\u001b[0m\u001b[0;34m\u001b[0m\u001b[0;34m\u001b[0m\u001b[0m\n\u001b[1;32m      8\u001b[0m     \u001b[0mperturbation\u001b[0m\u001b[0;34m[\u001b[0m\u001b[0mp_amt\u001b[0m\u001b[0;34m]\u001b[0m\u001b[0;34m[\u001b[0m\u001b[0;34m\"ergodicity change c_k\"\u001b[0m\u001b[0;34m]\u001b[0m \u001b[0;34m=\u001b[0m \u001b[0mergodic_metric\u001b[0m\u001b[0;34m(\u001b[0m\u001b[0m_lambda_k\u001b[0m\u001b[0;34m,\u001b[0m \u001b[0mperturbation\u001b[0m\u001b[0;34m[\u001b[0m\u001b[0mp_amt\u001b[0m\u001b[0;34m]\u001b[0m\u001b[0;34m[\u001b[0m\u001b[0;34m\"c_k\"\u001b[0m\u001b[0;34m]\u001b[0m\u001b[0;34m,\u001b[0m \u001b[0mmu_k\u001b[0m\u001b[0;34m)\u001b[0m\u001b[0;34m\u001b[0m\u001b[0;34m\u001b[0m\u001b[0m\n\u001b[0;32m----> 9\u001b[0;31m     \u001b[0mperturbation\u001b[0m\u001b[0;34m[\u001b[0m\u001b[0mp_amt\u001b[0m\u001b[0;34m]\u001b[0m\u001b[0;34m[\u001b[0m\u001b[0;34m\"ergodicity change mu_k\"\u001b[0m\u001b[0;34m]\u001b[0m \u001b[0;34m=\u001b[0m \u001b[0mergodic_metric\u001b[0m\u001b[0;34m(\u001b[0m\u001b[0m_lambda_k\u001b[0m\u001b[0;34m,\u001b[0m \u001b[0msystem\u001b[0m\u001b[0;34m.\u001b[0m\u001b[0mc_k\u001b[0m\u001b[0;34m,\u001b[0m \u001b[0mperturbation\u001b[0m\u001b[0;34m[\u001b[0m\u001b[0mp_amt\u001b[0m\u001b[0;34m]\u001b[0m\u001b[0;34m[\u001b[0m\u001b[0;34m\"mu_k\"\u001b[0m\u001b[0;34m]\u001b[0m\u001b[0;34m)\u001b[0m\u001b[0;34m\u001b[0m\u001b[0;34m\u001b[0m\u001b[0m\n\u001b[0m\u001b[1;32m     10\u001b[0m \u001b[0;34m\u001b[0m\u001b[0m\n\u001b[1;32m     11\u001b[0m \u001b[0;32mwith\u001b[0m \u001b[0mopen\u001b[0m\u001b[0;34m(\u001b[0m\u001b[0;34mf'perturbations/{perturbation_type}_{perturbation_amts}.pkl'\u001b[0m\u001b[0;34m,\u001b[0m \u001b[0;34m'wb'\u001b[0m\u001b[0;34m)\u001b[0m \u001b[0;32mas\u001b[0m \u001b[0mhandle\u001b[0m\u001b[0;34m:\u001b[0m\u001b[0;34m\u001b[0m\u001b[0;34m\u001b[0m\u001b[0m\n",
      "\u001b[0;32m<ipython-input-15-277c37ef6635>\u001b[0m in \u001b[0;36mergodic_metric\u001b[0;34m(lambda_k, c_k, mu_k)\u001b[0m\n\u001b[1;32m      1\u001b[0m \u001b[0;32mdef\u001b[0m \u001b[0mergodic_metric\u001b[0m\u001b[0;34m(\u001b[0m\u001b[0mlambda_k\u001b[0m\u001b[0;34m,\u001b[0m \u001b[0mc_k\u001b[0m\u001b[0;34m,\u001b[0m \u001b[0mmu_k\u001b[0m\u001b[0;34m)\u001b[0m\u001b[0;34m:\u001b[0m\u001b[0;34m\u001b[0m\u001b[0;34m\u001b[0m\u001b[0m\n\u001b[0;32m----> 2\u001b[0;31m     \u001b[0;32mreturn\u001b[0m \u001b[0msum\u001b[0m\u001b[0;34m(\u001b[0m\u001b[0;34m[\u001b[0m\u001b[0mlambda_k\u001b[0m\u001b[0;34m[\u001b[0m\u001b[0mk\u001b[0m\u001b[0;34m]\u001b[0m\u001b[0;34m*\u001b[0m\u001b[0;34m(\u001b[0m\u001b[0mc_k\u001b[0m\u001b[0;34m[\u001b[0m\u001b[0mk\u001b[0m\u001b[0;34m]\u001b[0m \u001b[0;34m-\u001b[0m \u001b[0mmu_k\u001b[0m\u001b[0;34m[\u001b[0m\u001b[0mk\u001b[0m\u001b[0;34m]\u001b[0m\u001b[0;34m)\u001b[0m\u001b[0;34m**\u001b[0m\u001b[0;36m2\u001b[0m \u001b[0;32mfor\u001b[0m \u001b[0mk\u001b[0m \u001b[0;32min\u001b[0m \u001b[0mlambda_k\u001b[0m\u001b[0;34m]\u001b[0m\u001b[0;34m)\u001b[0m\u001b[0;34m\u001b[0m\u001b[0;34m\u001b[0m\u001b[0m\n\u001b[0m\u001b[1;32m      3\u001b[0m \u001b[0;34m\u001b[0m\u001b[0m\n\u001b[1;32m      4\u001b[0m \u001b[0m_lambda_k\u001b[0m \u001b[0;34m=\u001b[0m \u001b[0;34m{\u001b[0m\u001b[0mk\u001b[0m\u001b[0;34m:\u001b[0m \u001b[0mff\u001b[0m\u001b[0;34m[\u001b[0m\u001b[0mk\u001b[0m\u001b[0;34m]\u001b[0m\u001b[0;34m[\u001b[0m\u001b[0;34m'lambda_k'\u001b[0m\u001b[0;34m]\u001b[0m \u001b[0;32mfor\u001b[0m \u001b[0mk\u001b[0m \u001b[0;32min\u001b[0m \u001b[0mff\u001b[0m\u001b[0;34m}\u001b[0m\u001b[0;34m\u001b[0m\u001b[0;34m\u001b[0m\u001b[0m\n\u001b[1;32m      5\u001b[0m \u001b[0mprint\u001b[0m\u001b[0;34m(\u001b[0m\u001b[0msystem\u001b[0m\u001b[0;34m.\u001b[0m\u001b[0mc_k\u001b[0m\u001b[0;34m)\u001b[0m\u001b[0;34m\u001b[0m\u001b[0;34m\u001b[0m\u001b[0m\n",
      "\u001b[0;32m<ipython-input-15-277c37ef6635>\u001b[0m in \u001b[0;36m<listcomp>\u001b[0;34m(.0)\u001b[0m\n\u001b[1;32m      1\u001b[0m \u001b[0;32mdef\u001b[0m \u001b[0mergodic_metric\u001b[0m\u001b[0;34m(\u001b[0m\u001b[0mlambda_k\u001b[0m\u001b[0;34m,\u001b[0m \u001b[0mc_k\u001b[0m\u001b[0;34m,\u001b[0m \u001b[0mmu_k\u001b[0m\u001b[0;34m)\u001b[0m\u001b[0;34m:\u001b[0m\u001b[0;34m\u001b[0m\u001b[0;34m\u001b[0m\u001b[0m\n\u001b[0;32m----> 2\u001b[0;31m     \u001b[0;32mreturn\u001b[0m \u001b[0msum\u001b[0m\u001b[0;34m(\u001b[0m\u001b[0;34m[\u001b[0m\u001b[0mlambda_k\u001b[0m\u001b[0;34m[\u001b[0m\u001b[0mk\u001b[0m\u001b[0;34m]\u001b[0m\u001b[0;34m*\u001b[0m\u001b[0;34m(\u001b[0m\u001b[0mc_k\u001b[0m\u001b[0;34m[\u001b[0m\u001b[0mk\u001b[0m\u001b[0;34m]\u001b[0m \u001b[0;34m-\u001b[0m \u001b[0mmu_k\u001b[0m\u001b[0;34m[\u001b[0m\u001b[0mk\u001b[0m\u001b[0;34m]\u001b[0m\u001b[0;34m)\u001b[0m\u001b[0;34m**\u001b[0m\u001b[0;36m2\u001b[0m \u001b[0;32mfor\u001b[0m \u001b[0mk\u001b[0m \u001b[0;32min\u001b[0m \u001b[0mlambda_k\u001b[0m\u001b[0;34m]\u001b[0m\u001b[0;34m)\u001b[0m\u001b[0;34m\u001b[0m\u001b[0;34m\u001b[0m\u001b[0m\n\u001b[0m\u001b[1;32m      3\u001b[0m \u001b[0;34m\u001b[0m\u001b[0m\n\u001b[1;32m      4\u001b[0m \u001b[0m_lambda_k\u001b[0m \u001b[0;34m=\u001b[0m \u001b[0;34m{\u001b[0m\u001b[0mk\u001b[0m\u001b[0;34m:\u001b[0m \u001b[0mff\u001b[0m\u001b[0;34m[\u001b[0m\u001b[0mk\u001b[0m\u001b[0;34m]\u001b[0m\u001b[0;34m[\u001b[0m\u001b[0;34m'lambda_k'\u001b[0m\u001b[0;34m]\u001b[0m \u001b[0;32mfor\u001b[0m \u001b[0mk\u001b[0m \u001b[0;32min\u001b[0m \u001b[0mff\u001b[0m\u001b[0;34m}\u001b[0m\u001b[0;34m\u001b[0m\u001b[0;34m\u001b[0m\u001b[0m\n\u001b[1;32m      5\u001b[0m \u001b[0mprint\u001b[0m\u001b[0;34m(\u001b[0m\u001b[0msystem\u001b[0m\u001b[0;34m.\u001b[0m\u001b[0mc_k\u001b[0m\u001b[0;34m)\u001b[0m\u001b[0;34m\u001b[0m\u001b[0;34m\u001b[0m\u001b[0m\n",
      "\u001b[0;31mTypeError\u001b[0m: 'NoneType' object is not subscriptable"
     ]
    }
   ],
   "source": [
    "def ergodic_metric(lambda_k, c_k, mu_k):\n",
    "    return sum([lambda_k[k]*(mu_k[k] - c_k[k])**2 for k in lambda_k])\n",
    "\n",
    "_lambda_k = {k: ff[k]['lambda_k'] for k in ff}\n",
    "for p_amt in perturbation:\n",
    "    perturbation[p_amt][\"ergodicity change c_k\"] = ergodic_metric(_lambda_k, perturbation[p_amt][\"c_k\"], mu_k)\n",
    "#     perturbation[p_amt][\"ergodicity change mu_k\"] = ergodic_metric(_lambda_k, system.c_k, perturbation[p_amt][\"mu_k\"])\n",
    "    perturbation[p_amt][\"ergodicity change +\"] = ergodic_metric(_lambda_k, {k: system.c_k[k] - p_amt for k in system.c_k}, mu_k)\n",
    "    perturbation[p_amt][\"ergodicity change -\"] = ergodic_metric(_lambda_k, {k: system.c_k[k] + p_amt for k in system.c_k}, mu_k)\n",
    "\n",
    "deltas = -1*perturbation_amts + perturbation_amts\n",
    "ergodicities = [perturbation_amts[p_amt][\"ergodicity change -\"] for p_amt in perturbation] + [perturbation_amts[p_amt][\"ergodicity change +\"] for p_amt in perturbation]\n",
    "plt.figure()\n",
    "plt.plot(deltas, ergodicities, 'o')\n",
    "plt.plot(deltas, [sum([ff[k]['lambda_k']*abs(d)*(4/ff[k]['h_k'] + abs(d)) for k in ff]) for d in deltas])\n",
    "# plt.title(\"Ergodicity Error vs Fourier Coefficient Error\")\n",
    "plt.xlabel(\"Fourier Coefficient Error\")\n",
    "plt.ylabel(\"Ergodicity Error\")\n",
    "plt.savefig(f\"perturbations/{filename}_ergodicity_vs_fourier_coeff.pdf\")\n",
    "plt.close(\"all\")\n",
    "\n",
    "with open(f'perturbations/{filename}_{perturbation_type}_{perturbation_amts}.pkl', 'wb') as handle:\n",
    "    pickle.dump(perturbation, handle, protocol=pickle.HIGHEST_PROTOCOL)"
   ]
  },
  {
   "cell_type": "code",
   "execution_count": null,
   "metadata": {},
   "outputs": [],
   "source": [
    "# TODO plot the perturbations"
   ]
  },
  {
   "cell_type": "code",
   "execution_count": null,
   "metadata": {},
   "outputs": [],
   "source": []
  },
  {
   "cell_type": "markdown",
   "metadata": {},
   "source": [
    "## 2.b. what happens if trajectory, etc. continuously perturbed"
   ]
  }
 ],
 "metadata": {
  "interpreter": {
   "hash": "31f2aee4e71d21fbe5cf8b01ff0e069b9275f58929596ceb00d14d90e3e16cd6"
  },
  "kernelspec": {
   "display_name": "Python 3",
   "language": "python",
   "name": "python3"
  },
  "language_info": {
   "codemirror_mode": {
    "name": "ipython",
    "version": 3
   },
   "file_extension": ".py",
   "mimetype": "text/x-python",
   "name": "python",
   "nbconvert_exporter": "python",
   "pygments_lexer": "ipython3",
   "version": "3.9.12"
  }
 },
 "nbformat": 4,
 "nbformat_minor": 2
}
