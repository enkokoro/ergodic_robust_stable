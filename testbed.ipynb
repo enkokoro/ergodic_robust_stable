{
 "cells": [
  {
   "cell_type": "code",
   "execution_count": 1,
   "metadata": {},
   "outputs": [],
   "source": [
    "import numpy as np\n",
    "from scipy import integrate\n",
    "import torch\n",
    "\n",
    "import matplotlib\n",
    "import matplotlib.pyplot as plt"
   ]
  },
  {
   "cell_type": "code",
   "execution_count": 2,
   "metadata": {},
   "outputs": [
    {
     "name": "stdout",
     "output_type": "stream",
     "text": [
      "0.36791950647965144\n"
     ]
    },
    {
     "data": {
      "image/png": "[encoded data removed]",
      "text/plain": [
       "<Figure size 432x288 with 1 Axes>"
      ]
     },
     "metadata": {
      "needs_background": "light"
     },
     "output_type": "display_data"
    }
   ],
   "source": [
    "from probability_distribution import mu_gaussians, mu_display2D\n",
    "U_shape = (1,1)\n",
    "p1 = mu_gaussians([(0.2, 0.01), (0.75, 0.02), (np.array([0.2, 0.75]), 0.02)], U_shape)\n",
    "print(p1(np.array([0.2,0.3])))\n",
    "mu_display2D(p1, U_shape)\n"
   ]
  },
  {
   "cell_type": "code",
   "execution_count": 3,
   "metadata": {},
   "outputs": [
    {
     "name": "stdout",
     "output_type": "stream",
     "text": [
      "Fourier Functions (mu, U_shape= (1, 1) , K= 3 )...\n",
      "Computing constants (new_k, h_k, lambda_k)...\n",
      "Computing torch fourier functions (f_k, df_k)...\n",
      "Computing mu fourier coefficients (mu_k)... this will take a while because integration...\n",
      "Computing casadi fourier function (casadi_f_k)...\n",
      "Aggregating all constants and functions into one dict...\n",
      "Done.\n"
     ]
    }
   ],
   "source": [
    "from fourier_functions import Fourier_Functions, Fourier_Functions_Visualize2D\n",
    "\n",
    "mu = p1\n",
    "K = 3\n",
    "ff = Fourier_Functions(mu, U_shape, K, printProgress=True)\n",
    "# for k in ff:\n",
    "#     Fourier_Functions_Visualize2D(U_shape, ff[k])\n"
   ]
  },
  {
   "cell_type": "code",
   "execution_count": 4,
   "metadata": {},
   "outputs": [
    {
     "name": "stdout",
     "output_type": "stream",
     "text": [
      "mu(0, 0):  0.1543442209624029\n",
      "mu(0, 1):  -0.08192132336295474\n",
      "mu(0, 2):  0.011260548433379342\n",
      "mu(1, 0):  0.042007440083285885\n",
      "mu(1, 1):  0.032151150968839505\n",
      "mu(1, 2):  0.013669428472842832\n",
      "mu(2, 0):  0.032267693514379026\n",
      "mu(2, 1):  -0.00521271716951493\n",
      "mu(2, 2):  0.004674646978975583\n",
      "agent1 kbands:  [(0, 0), (0, 1), (0, 2), (1, 0), (1, 1), (1, 2), (2, 0), (2, 1), (2, 2)]\n",
      "agent1 ck:  [{(0, 0): array(1.), (0, 1): array(0.83125388), (0, 2): array(-0.43701602), (1, 0): array(1.14412281), (1, 1): array(0.95105652), (1, 2): array(-0.5), (2, 0): array(0.43701602), (2, 1): array(0.36327126), (2, 2): array(-0.19098301)}]\n",
      "agent1 ergodicity:  [0.78382698]\n",
      "agent1 position:  [[0.2 0.3]]\n",
      "[{(0, 0): array(1.), (0, 1): array(8.65956056e-17), (0, 2): array(-1.41421356), (1, 0): array(-0.43701602), (1, 1): array(-3.78436673e-17), (1, 2): array(0.61803399), (2, 0): array(-1.14412281), (2, 1): array(-9.90760073e-17), (2, 2): array(1.61803399)}]\n",
      "[0.73966193]\n",
      "[[0.6 0.5]]\n",
      "system\n",
      "system k_bands:  [(0, 0), (0, 1), (0, 2), (1, 0), (1, 1), (1, 2), (2, 0), (2, 1), (2, 2)]\n",
      "system c_k:  [{(0, 0): 1.0, (0, 1): 0.8312538755549068, (0, 2): -0.43701602444882093, (1, 0): 1.1441228056353685, (1, 1): 0.9510565162951536, (1, 2): -0.4999999999999999, (2, 0): 0.4370160244488211, (2, 1): 0.3632712640026805, (2, 2): -0.19098300562505255}]\n",
      "system ergodicity:  [0.783826977782636]\n"
     ]
    }
   ],
   "source": [
    "from mm_agent import MMAgent1\n",
    "from global_comm_agent_system import GlobalCommunicationSystem\n",
    "from ergodic_agents import Agent, AgentSystem\n",
    "# can only really test init rn\n",
    "n = len(U_shape)\n",
    "all_k = list(np.ndindex(*[K]*n))\n",
    "agent1 = MMAgent1(0, np.array([0.2, 0.3]), 0.2, all_k, U_shape, ff, eps=1e-5)\n",
    "for k in agent1.k_bands:\n",
    "    print(\"mu\"+str(k)+\": \", ff[k][\"mu_k\"])\n",
    "print(\"agent1 kbands: \", agent1.k_bands)\n",
    "print(\"agent1 ck: \", agent1.get_c_k_log())\n",
    "print(\"agent1 ergodicity: \", agent1.get_ergodicity_log())\n",
    "print(\"agent1 position: \", agent1.get_position_log())\n",
    "agent2 = MMAgent1(1, np.array([0.6, 0.5]), 0.2, all_k, U_shape, ff, eps=1e-5)\n",
    "print(agent2.get_c_k_log())\n",
    "print(agent2.get_ergodicity_log())\n",
    "print(agent2.get_position_log())\n",
    "print(\"system\")\n",
    "system1 = AgentSystem([agent1], mu, U_shape, ff, K)\n",
    "print(\"system k_bands: \", list(system1.all_k_bands))\n",
    "print(\"system c_k: \", system1.get_c_k_log())\n",
    "print(\"system ergodicity: \", system1.get_ergodicity_log())"
   ]
  },
  {
   "cell_type": "code",
   "execution_count": 5,
   "metadata": {},
   "outputs": [],
   "source": [
    "# #manually set some stuff\n",
    "# system1.e_log = [5,4,3,2,1]\n",
    "# x = np.array([0.2,0.3])\n",
    "# agent1.x_log = [x, x+np.array([0.1,0]), x+0.1, x+np.array([0.1,0.2]), x+0.2]\n",
    "# agent1.e_log = [4,3.5,3,2.5,2]\n",
    "# y = np.array([0.4,0.5])\n",
    "# agent2.x_log = [y, y+np.array([0.1,0]), y+0.1, y+np.array([0.1,0.2]), y+0.2]\n",
    "# agent2.e_log = [6,5.5,5,4.5,4]\n",
    "# system1.all_k_bands = all_k\n",
    "# for i in range(5):\n",
    "#     system1.c_k_log.append({})\n",
    "#     for k in system1.all_k_bands:\n",
    "#         system1.c_k_log[i][k] = system1.c_k_log[max(0,i-1)][k]+0.1"
   ]
  },
  {
   "cell_type": "code",
   "execution_count": 6,
   "metadata": {},
   "outputs": [
    {
     "name": "stderr",
     "output_type": "stream",
     "text": [
      "/home/enko/.local/lib/python3.9/site-packages/torch/autograd/__init__.py:202: UserWarning: CUDA initialization: Found no NVIDIA driver on your system. Please check that you have an NVIDIA GPU and installed a driver from http://www.nvidia.com/Download/index.aspx (Triggered internally at  /pytorch/c10/cuda/CUDAFunctions.cpp:100.)\n",
      "  return Variable._execution_engine.run_backward(\n"
     ]
    }
   ],
   "source": [
    "t = 0\n",
    "delta_t = 0.1\n",
    "for i in range(100):\n",
    "    t = i * delta_t\n",
    "    system1.evolve(t, delta_t)"
   ]
  },
  {
   "cell_type": "code",
   "execution_count": 7,
   "metadata": {},
   "outputs": [
    {
     "data": {
      "image/png": "[encoded data removed]",
      "text/plain": [
       "<Figure size 921.6x345.6 with 3 Axes>"
      ]
     },
     "metadata": {
      "needs_background": "light"
     },
     "output_type": "display_data"
    }
   ],
   "source": [
    "system1.visualize2d(filename=\"test_c_k\", additional_title=\"TEST\", plot_c_k=True)"
   ]
  },
  {
   "cell_type": "code",
   "execution_count": null,
   "metadata": {},
   "outputs": [
    {
     "ename": "ValueError",
     "evalue": "too many values to unpack (expected 2)",
     "output_type": "error",
     "traceback": [
      "\u001b[0;31m---------------------------------------------------------------------------\u001b[0m",
      "\u001b[0;31mValueError\u001b[0m                                Traceback (most recent call last)",
      "\u001b[0;32m<ipython-input-7-e432e2bf1029>\u001b[0m in \u001b[0;36m<module>\u001b[0;34m\u001b[0m\n\u001b[0;32m----> 1\u001b[0;31m \u001b[0msystem1\u001b[0m\u001b[0;34m.\u001b[0m\u001b[0mvisualize2d\u001b[0m\u001b[0;34m(\u001b[0m\u001b[0mfilename\u001b[0m\u001b[0;34m=\u001b[0m\u001b[0;34m\"test1\"\u001b[0m\u001b[0;34m,\u001b[0m \u001b[0madditional_title\u001b[0m\u001b[0;34m=\u001b[0m\u001b[0;34m\"TEST\"\u001b[0m\u001b[0;34m,\u001b[0m \u001b[0mplot_c_k\u001b[0m\u001b[0;34m=\u001b[0m\u001b[0;32mFalse\u001b[0m\u001b[0;34m)\u001b[0m\u001b[0;34m\u001b[0m\u001b[0;34m\u001b[0m\u001b[0m\n\u001b[0m",
      "\u001b[0;32m~/Research/ergodic_robust_stable/ergodic_agents.py\u001b[0m in \u001b[0;36mvisualize2d\u001b[0;34m(self, filename, additional_title, plot_c_k)\u001b[0m\n\u001b[1;32m    233\u001b[0m             \u001b[0mfig\u001b[0m\u001b[0;34m,\u001b[0m \u001b[0;34m(\u001b[0m\u001b[0;34m(\u001b[0m\u001b[0max1\u001b[0m\u001b[0;34m,\u001b[0m \u001b[0max3\u001b[0m\u001b[0;34m,\u001b[0m \u001b[0max2\u001b[0m\u001b[0;34m)\u001b[0m\u001b[0;34m)\u001b[0m \u001b[0;34m=\u001b[0m \u001b[0mplt\u001b[0m\u001b[0;34m.\u001b[0m\u001b[0msubplots\u001b[0m\u001b[0;34m(\u001b[0m\u001b[0;36m1\u001b[0m\u001b[0;34m,\u001b[0m \u001b[0;36m3\u001b[0m\u001b[0;34m,\u001b[0m \u001b[0mfigsize\u001b[0m\u001b[0;34m=\u001b[0m\u001b[0;34m(\u001b[0m\u001b[0;36m6.4\u001b[0m\u001b[0;34m*\u001b[0m\u001b[0;36m2\u001b[0m\u001b[0;34m,\u001b[0m \u001b[0;36m4.8\u001b[0m\u001b[0;34m)\u001b[0m\u001b[0;34m)\u001b[0m\u001b[0;34m\u001b[0m\u001b[0;34m\u001b[0m\u001b[0m\n\u001b[1;32m    234\u001b[0m         \u001b[0;32melse\u001b[0m\u001b[0;34m:\u001b[0m\u001b[0;34m\u001b[0m\u001b[0;34m\u001b[0m\u001b[0m\n\u001b[0;32m--> 235\u001b[0;31m             \u001b[0mfig\u001b[0m\u001b[0;34m,\u001b[0m \u001b[0;34m(\u001b[0m\u001b[0;34m(\u001b[0m\u001b[0max1\u001b[0m\u001b[0;34m,\u001b[0m \u001b[0max2\u001b[0m\u001b[0;34m)\u001b[0m\u001b[0;34m)\u001b[0m \u001b[0;34m=\u001b[0m \u001b[0mplt\u001b[0m\u001b[0;34m.\u001b[0m\u001b[0msubplots\u001b[0m\u001b[0;34m(\u001b[0m\u001b[0;36m1\u001b[0m\u001b[0;34m,\u001b[0m \u001b[0;36m3\u001b[0m\u001b[0;34m,\u001b[0m \u001b[0mfigsize\u001b[0m\u001b[0;34m=\u001b[0m\u001b[0;34m(\u001b[0m\u001b[0;36m6.4\u001b[0m\u001b[0;34m*\u001b[0m\u001b[0;36m2\u001b[0m\u001b[0;34m,\u001b[0m \u001b[0;36m4.8\u001b[0m\u001b[0;34m)\u001b[0m\u001b[0;34m)\u001b[0m\u001b[0;34m\u001b[0m\u001b[0;34m\u001b[0m\u001b[0m\n\u001b[0m\u001b[1;32m    236\u001b[0m \u001b[0;34m\u001b[0m\u001b[0m\n\u001b[1;32m    237\u001b[0m         \u001b[0mfig\u001b[0m\u001b[0;34m.\u001b[0m\u001b[0msuptitle\u001b[0m\u001b[0;34m(\u001b[0m\u001b[0;34m\"Ergodic Coverage \"\u001b[0m \u001b[0;34m+\u001b[0m \u001b[0madditional_title\u001b[0m\u001b[0;34m)\u001b[0m\u001b[0;34m\u001b[0m\u001b[0;34m\u001b[0m\u001b[0m\n",
      "\u001b[0;31mValueError\u001b[0m: too many values to unpack (expected 2)"
     ]
    },
    {
     "data": {
      "image/png": "[encoded data removed]",
      "text/plain": [
       "<Figure size 921.6x345.6 with 3 Axes>"
      ]
     },
     "metadata": {
      "needs_background": "light"
     },
     "output_type": "display_data"
    }
   ],
   "source": [
    "system1.visualize2d(filename=\"test_without_c_k\", additional_title=\"TEST\", plot_c_k=False)"
   ]
  }
 ],
 "metadata": {
  "interpreter": {
   "hash": "31f2aee4e71d21fbe5cf8b01ff0e069b9275f58929596ceb00d14d90e3e16cd6"
  },
  "kernelspec": {
   "display_name": "Python 3.9.2 64-bit",
   "language": "python",
   "name": "python3"
  },
  "language_info": {
   "codemirror_mode": {
    "name": "ipython",
    "version": 3
   },
   "file_extension": ".py",
   "mimetype": "text/x-python",
   "name": "python",
   "nbconvert_exporter": "python",
   "pygments_lexer": "ipython3",
   "version": "3.9.2"
  },
  "orig_nbformat": 4
 },
 "nbformat": 4,
 "nbformat_minor": 2
}
