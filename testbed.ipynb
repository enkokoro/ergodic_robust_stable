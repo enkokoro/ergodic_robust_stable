{
 "cells": [
  {
   "cell_type": "code",
   "execution_count": 23,
   "metadata": {},
   "outputs": [],
   "source": [
    "import numpy as np\n",
    "from scipy import integrate\n",
    "import torch\n",
    "\n",
    "import matplotlib\n",
    "import matplotlib.pyplot as plt"
   ]
  },
  {
   "cell_type": "code",
   "execution_count": 24,
   "metadata": {},
   "outputs": [
    {
     "name": "stdout",
     "output_type": "stream",
     "text": [
      "0.36791950647965144\n"
     ]
    },
    {
     "data": {
      "image/png": "[encoded data removed]",
      "text/plain": [
       "<Figure size 432x288 with 1 Axes>"
      ]
     },
     "metadata": {
      "needs_background": "light"
     },
     "output_type": "display_data"
    }
   ],
   "source": [
    "from probability_distribution import mu_gaussians, mu_display2D\n",
    "U_shape = (1,1)\n",
    "p1 = mu_gaussians([(0.2, 0.01), (0.75, 0.02), (np.array([0.2, 0.75]), 0.02)], U_shape)\n",
    "print(p1(np.array([0.2,0.3])))\n",
    "mu_display2D(p1, U_shape)\n"
   ]
  },
  {
   "cell_type": "code",
   "execution_count": 25,
   "metadata": {},
   "outputs": [
    {
     "name": "stdout",
     "output_type": "stream",
     "text": [
      "Fourier Functions (mu, U_shape= (1, 1) , K= 10 )...\n",
      "Computing constants (new_k, h_k, lambda_k)...\n",
      "Computing torch fourier functions (f_k, df_k)...\n",
      "Computing casadi fourier function (casadi_f_k)...\n",
      "Aggregating all constants and functions into one dict...\n",
      "Done.\n"
     ]
    }
   ],
   "source": [
    "from fourier_functions import Fourier_Functions, Fourier_Functions_Visualize2D\n",
    "import pickle \n",
    "mu = p1\n",
    "K = 10\n",
    "ff = Fourier_Functions(mu, U_shape, K, compute_mu=False, printProgress=True)\n",
    "# for k in ff:\n",
    "#     Fourier_Functions_Visualize2D(U_shape, ff[k])\n",
    "\n",
    "with open(f'mu_k{K}.pkl', 'rb') as handle:\n",
    "    mu_k = pickle.load(handle)\n",
    "for k in ff:\n",
    "    ff[k]['mu_k'] = mu_k[k]\n",
    "\n",
    "\n"
   ]
  },
  {
   "cell_type": "code",
   "execution_count": 26,
   "metadata": {},
   "outputs": [
    {
     "name": "stdout",
     "output_type": "stream",
     "text": [
      "mu(0, 0):  0.1543442209624029\n",
      "mu(0, 1):  -0.08192132336295474\n",
      "mu(0, 2):  0.011260548433379342\n",
      "mu(0, 3):  0.06936180862837646\n",
      "mu(0, 4):  -0.1047215369239555\n",
      "mu(0, 5):  0.012921186097392064\n",
      "mu(0, 6):  -0.015636898584845516\n",
      "mu(0, 7):  -0.014488585435384192\n",
      "mu(0, 8):  0.009539032412849471\n",
      "mu(0, 9):  0.0030859196339847565\n",
      "mu(1, 0):  0.042007440083285885\n",
      "mu(1, 1):  0.032151150968839505\n",
      "mu(1, 2):  0.013669428472842832\n",
      "mu(1, 3):  -0.007692333290117026\n",
      "mu(1, 4):  -0.03172183268466088\n",
      "mu(1, 5):  -0.02465016594182818\n",
      "mu(1, 6):  -0.016602759201530176\n",
      "mu(1, 7):  -0.005253907718654771\n",
      "mu(1, 8):  0.0034524983155298063\n",
      "mu(1, 9):  0.005237365167954495\n",
      "mu(2, 0):  0.032267693514379026\n",
      "mu(2, 1):  -0.00521271716951493\n",
      "mu(2, 2):  0.004674646978975583\n",
      "mu(2, 3):  0.008686963267559245\n",
      "mu(2, 4):  -0.02259802084755251\n",
      "mu(2, 5):  -0.0034620433902130556\n",
      "mu(2, 6):  -0.005970810137897808\n",
      "mu(2, 7):  -0.003315808678324357\n",
      "mu(2, 8):  0.002181630223848787\n",
      "mu(2, 9):  0.0016073942875769567\n",
      "mu(3, 0):  0.010181407111921918\n",
      "mu(3, 1):  -0.032516755148561144\n",
      "mu(3, 2):  -0.004537918080104196\n",
      "mu(3, 3):  0.017806517166833177\n",
      "mu(3, 4):  -0.0053045491188528394\n",
      "mu(3, 5):  0.01487839697438799\n",
      "mu(3, 6):  0.005116794876965335\n",
      "mu(3, 7):  -0.00030312416418873216\n",
      "mu(3, 8):  0.00020284978633888263\n",
      "mu(3, 9):  -0.001986213341389962\n",
      "mu(4, 0):  -0.0989250843668061\n",
      "mu(4, 1):  0.043796296674587135\n",
      "mu(4, 2):  -0.008913790375712188\n",
      "mu(4, 3):  -0.04020604828185387\n",
      "mu(4, 4):  0.06763514520436711\n",
      "mu(4, 5):  -0.0037756994210315434\n",
      "mu(4, 6):  0.011997472123035445\n",
      "mu(4, 7):  0.009495946454345098\n",
      "mu(4, 8):  -0.006250912705941821\n",
      "mu(4, 9):  -0.0026813672496038814\n",
      "mu(5, 0):  -0.03260863659573125\n",
      "mu(5, 1):  -0.01863127519793351\n",
      "mu(5, 2):  -0.009378837939661473\n",
      "mu(5, 3):  0.0028839910330551903\n",
      "mu(5, 4):  0.024250201571623945\n",
      "mu(5, 5):  0.015862149530106204\n",
      "mu(5, 6):  0.011453428600698258\n",
      "mu(5, 7):  0.00392611166202892\n",
      "mu(5, 8):  -0.002580538306476713\n",
      "mu(5, 9):  -0.0035545999769892875\n",
      "mu(6, 0):  -0.028670494484811113\n",
      "mu(6, 1):  -0.003432605089800719\n",
      "mu(6, 2):  -0.005724175851494258\n",
      "mu(6, 3):  -0.0037832091305581104\n",
      "mu(6, 4):  0.02055571901564516\n",
      "mu(6, 5):  0.007247891666955901\n",
      "mu(6, 6):  0.0071338847100552985\n",
      "mu(6, 7):  0.0031402740162480712\n",
      "mu(6, 8):  -0.002065246826744256\n",
      "mu(6, 9):  -0.0020795125180771506\n",
      "mu(7, 0):  -0.012984865676213255\n",
      "mu(7, 1):  0.003704689644920704\n",
      "mu(7, 2):  -0.0015681271553758737\n",
      "mu(7, 3):  -0.004279960546937774\n",
      "mu(7, 4):  0.008998644480350228\n",
      "mu(7, 5):  0.0005618073400268539\n",
      "mu(7, 6):  0.0020382944996387925\n",
      "mu(7, 7):  0.0012956344207303116\n",
      "mu(7, 8):  -0.0008526377816931813\n",
      "mu(7, 9):  -0.0005170394913087066\n",
      "mu(8, 0):  0.006298769718553733\n",
      "mu(8, 1):  -0.0003163762139165952\n",
      "mu(8, 2):  0.001049073081807736\n",
      "mu(8, 3):  0.0013535581118057215\n",
      "mu(8, 4):  -0.004452682265285021\n",
      "mu(8, 5):  -0.0010385316657043802\n",
      "mu(8, 6):  -0.001324524946624307\n",
      "mu(8, 7):  -0.0006641353139768868\n",
      "mu(8, 8):  0.0004368891654258654\n",
      "mu(8, 9):  0.000370399117931314\n",
      "mu(9, 0):  0.004343617100258654\n",
      "mu(9, 1):  0.005752532846982756\n",
      "mu(9, 2):  0.0018863467110923646\n",
      "mu(9, 3):  -0.0019802923400059386\n",
      "mu(9, 4):  -0.003423671234443625\n",
      "mu(9, 5):  -0.003804948934398349\n",
      "mu(9, 6):  -0.002267350725758731\n",
      "mu(9, 7):  -0.0006017053678616302\n",
      "mu(9, 8):  0.0003951780735936856\n",
      "mu(9, 9):  0.0007376537319456961\n",
      "agent1 kbands:  [(0, 0), (0, 1), (0, 2), (0, 3), (0, 4), (0, 5), (0, 6), (0, 7), (0, 8), (0, 9), (1, 0), (1, 1), (1, 2), (1, 3), (1, 4), (1, 5), (1, 6), (1, 7), (1, 8), (1, 9), (2, 0), (2, 1), (2, 2), (2, 3), (2, 4), (2, 5), (2, 6), (2, 7), (2, 8), (2, 9), (3, 0), (3, 1), (3, 2), (3, 3), (3, 4), (3, 5), (3, 6), (3, 7), (3, 8), (3, 9), (4, 0), (4, 1), (4, 2), (4, 3), (4, 4), (4, 5), (4, 6), (4, 7), (4, 8), (4, 9), (5, 0), (5, 1), (5, 2), (5, 3), (5, 4), (5, 5), (5, 6), (5, 7), (5, 8), (5, 9), (6, 0), (6, 1), (6, 2), (6, 3), (6, 4), (6, 5), (6, 6), (6, 7), (6, 8), (6, 9), (7, 0), (7, 1), (7, 2), (7, 3), (7, 4), (7, 5), (7, 6), (7, 7), (7, 8), (7, 9), (8, 0), (8, 1), (8, 2), (8, 3), (8, 4), (8, 5), (8, 6), (8, 7), (8, 8), (8, 9), (9, 0), (9, 1), (9, 2), (9, 3), (9, 4), (9, 5), (9, 6), (9, 7), (9, 8), (9, 9)]\n",
      "agent1 ck:  [{(0, 0): array(1.), (0, 1): array(0.83125388), (0, 2): array(-0.43701602), (0, 3): array(-1.34499702), (0, 4): array(-1.14412281), (0, 5): array(-2.59786817e-16), (0, 6): array(1.14412281), (0, 7): array(1.34499702), (0, 8): array(0.43701602), (0, 9): array(-0.83125388), (1, 0): array(1.14412281), (1, 1): array(0.95105652), (1, 2): array(-0.5), (1, 3): array(-1.53884177), (1, 4): array(-1.30901699), (1, 5): array(-2.97228022e-16), (1, 6): array(1.30901699), (1, 7): array(1.53884177), (1, 8): array(0.5), (1, 9): array(-0.95105652), (2, 0): array(0.43701602), (2, 1): array(0.36327126), (2, 2): array(-0.19098301), (2, 3): array(-0.58778525), (2, 4): array(-0.5), (2, 5): array(-1.13531002e-16), (2, 6): array(0.5), (2, 7): array(0.58778525), (2, 8): array(0.19098301), (2, 9): array(-0.36327126), (3, 0): array(-0.43701602), (3, 1): array(-0.36327126), (3, 2): array(0.19098301), (3, 3): array(0.58778525), (3, 4): array(0.5), (3, 5): array(1.13531002e-16), (3, 6): array(-0.5), (3, 7): array(-0.58778525), (3, 8): array(-0.19098301), (3, 9): array(0.36327126), (4, 0): array(-1.14412281), (4, 1): array(-0.95105652), (4, 2): array(0.5), (4, 3): array(1.53884177), (4, 4): array(1.30901699), (4, 5): array(2.97228022e-16), (4, 6): array(-1.30901699), (4, 7): array(-1.53884177), (4, 8): array(-0.5), (4, 9): array(0.95105652), (5, 0): array(-1.41421356), (5, 1): array(-1.1755705), (5, 2): array(0.61803399), (5, 3): array(1.90211303), (5, 4): array(1.61803399), (5, 5): array(3.6739404e-16), (5, 6): array(-1.61803399), (5, 7): array(-1.90211303), (5, 8): array(-0.61803399), (5, 9): array(1.1755705), (6, 0): array(-1.14412281), (6, 1): array(-0.95105652), (6, 2): array(0.5), (6, 3): array(1.53884177), (6, 4): array(1.30901699), (6, 5): array(2.97228022e-16), (6, 6): array(-1.30901699), (6, 7): array(-1.53884177), (6, 8): array(-0.5), (6, 9): array(0.95105652), (7, 0): array(-0.43701602), (7, 1): array(-0.36327126), (7, 2): array(0.19098301), (7, 3): array(0.58778525), (7, 4): array(0.5), (7, 5): array(1.13531002e-16), (7, 6): array(-0.5), (7, 7): array(-0.58778525), (7, 8): array(-0.19098301), (7, 9): array(0.36327126), (8, 0): array(0.43701602), (8, 1): array(0.36327126), (8, 2): array(-0.19098301), (8, 3): array(-0.58778525), (8, 4): array(-0.5), (8, 5): array(-1.13531002e-16), (8, 6): array(0.5), (8, 7): array(0.58778525), (8, 8): array(0.19098301), (8, 9): array(-0.36327126), (9, 0): array(1.14412281), (9, 1): array(0.95105652), (9, 2): array(-0.5), (9, 3): array(-1.53884177), (9, 4): array(-1.30901699), (9, 5): array(-2.97228022e-16), (9, 6): array(1.30901699), (9, 7): array(1.53884177), (9, 8): array(0.5), (9, 9): array(-0.95105652)}]\n",
      "agent1 ergodicity:  [0.79782394]\n",
      "agent1 position:  [[0.2 0.3]]\n",
      "[{(0, 0): array(1.), (0, 1): array(8.65956056e-17), (0, 2): array(-1.41421356), (0, 3): array(-2.59786817e-16), (0, 4): array(1.41421356), (0, 5): array(4.32978028e-16), (0, 6): array(-1.41421356), (0, 7): array(-6.06169239e-16), (0, 8): array(1.41421356), (0, 9): array(7.79360451e-16), (1, 0): array(-0.43701602), (1, 1): array(-3.78436673e-17), (1, 2): array(0.61803399), (1, 3): array(1.13531002e-16), (1, 4): array(-0.61803399), (1, 5): array(-1.89218337e-16), (1, 6): array(0.61803399), (1, 7): array(2.64905671e-16), (1, 8): array(-0.61803399), (1, 9): array(-3.40593006e-16), (2, 0): array(-1.14412281), (2, 1): array(-9.90760073e-17), (2, 2): array(1.61803399), (2, 3): array(2.97228022e-16), (2, 4): array(-1.61803399), (2, 5): array(-4.95380036e-16), (2, 6): array(1.61803399), (2, 7): array(6.93532051e-16), (2, 8): array(-1.61803399), (2, 9): array(-8.91684065e-16), (3, 0): array(1.14412281), (3, 1): array(9.90760073e-17), (3, 2): array(-1.61803399), (3, 3): array(-2.97228022e-16), (3, 4): array(1.61803399), (3, 5): array(4.95380036e-16), (3, 6): array(-1.61803399), (3, 7): array(-6.93532051e-16), (3, 8): array(1.61803399), (3, 9): array(8.91684065e-16), (4, 0): array(0.43701602), (4, 1): array(3.78436673e-17), (4, 2): array(-0.61803399), (4, 3): array(-1.13531002e-16), (4, 4): array(0.61803399), (4, 5): array(1.89218337e-16), (4, 6): array(-0.61803399), (4, 7): array(-2.64905671e-16), (4, 8): array(0.61803399), (4, 9): array(3.40593006e-16), (5, 0): array(-1.41421356), (5, 1): array(-1.2246468e-16), (5, 2): array(2.), (5, 3): array(3.6739404e-16), (5, 4): array(-2.), (5, 5): array(-6.123234e-16), (5, 6): array(2.), (5, 7): array(8.57252759e-16), (5, 8): array(-2.), (5, 9): array(-1.10218212e-15), (6, 0): array(0.43701602), (6, 1): array(3.78436673e-17), (6, 2): array(-0.61803399), (6, 3): array(-1.13531002e-16), (6, 4): array(0.61803399), (6, 5): array(1.89218337e-16), (6, 6): array(-0.61803399), (6, 7): array(-2.64905671e-16), (6, 8): array(0.61803399), (6, 9): array(3.40593006e-16), (7, 0): array(1.14412281), (7, 1): array(9.90760073e-17), (7, 2): array(-1.61803399), (7, 3): array(-2.97228022e-16), (7, 4): array(1.61803399), (7, 5): array(4.95380036e-16), (7, 6): array(-1.61803399), (7, 7): array(-6.93532051e-16), (7, 8): array(1.61803399), (7, 9): array(8.91684065e-16), (8, 0): array(-1.14412281), (8, 1): array(-9.90760073e-17), (8, 2): array(1.61803399), (8, 3): array(2.97228022e-16), (8, 4): array(-1.61803399), (8, 5): array(-4.95380036e-16), (8, 6): array(1.61803399), (8, 7): array(6.93532051e-16), (8, 8): array(-1.61803399), (8, 9): array(-8.91684065e-16), (9, 0): array(-0.43701602), (9, 1): array(-3.78436673e-17), (9, 2): array(0.61803399), (9, 3): array(1.13531002e-16), (9, 4): array(-0.61803399), (9, 5): array(-1.89218337e-16), (9, 6): array(0.61803399), (9, 7): array(2.64905671e-16), (9, 8): array(-0.61803399), (9, 9): array(-3.40593006e-16)}]\n",
      "[0.75123649]\n",
      "[[0.6 0.5]]\n",
      "system\n",
      "system k_bands:  [(0, 0), (0, 1), (0, 2), (0, 3), (0, 4), (0, 5), (0, 6), (0, 7), (0, 8), (0, 9), (1, 0), (1, 1), (1, 2), (1, 3), (1, 4), (1, 5), (1, 6), (1, 7), (1, 8), (1, 9), (2, 0), (2, 1), (2, 2), (2, 3), (2, 4), (2, 5), (2, 6), (2, 7), (2, 8), (2, 9), (3, 0), (3, 1), (3, 2), (3, 3), (3, 4), (3, 5), (3, 6), (3, 7), (3, 8), (3, 9), (4, 0), (4, 1), (4, 2), (4, 3), (4, 4), (4, 5), (4, 6), (4, 7), (4, 8), (4, 9), (5, 0), (5, 1), (5, 2), (5, 3), (5, 4), (5, 5), (5, 6), (5, 7), (5, 8), (5, 9), (6, 0), (6, 1), (6, 2), (6, 3), (6, 4), (6, 5), (6, 6), (6, 7), (6, 8), (6, 9), (7, 0), (7, 1), (7, 2), (7, 3), (7, 4), (7, 5), (7, 6), (7, 7), (7, 8), (7, 9), (8, 0), (8, 1), (8, 2), (8, 3), (8, 4), (8, 5), (8, 6), (8, 7), (8, 8), (8, 9), (9, 0), (9, 1), (9, 2), (9, 3), (9, 4), (9, 5), (9, 6), (9, 7), (9, 8), (9, 9)]\n",
      "system c_k:  [{(0, 0): 1.0, (0, 1): 0.8312538755549068, (0, 2): -0.43701602444882093, (0, 3): -1.3449970239279148, (0, 4): -1.144122805635369, (0, 5): -2.59786816870648e-16, (0, 6): 1.1441228056353685, (0, 7): 1.3449970239279148, (0, 8): 0.43701602444882154, (0, 9): -0.8312538755549065, (1, 0): 1.1441228056353685, (1, 1): 0.9510565162951536, (1, 2): -0.4999999999999999, (1, 3): -1.5388417685876272, (1, 4): -1.309016994374948, (1, 5): -2.972280217851275e-16, (1, 6): 1.3090169943749472, (1, 7): 1.5388417685876272, (1, 8): 0.5000000000000007, (1, 9): -0.9510565162951533, (2, 0): 0.4370160244488211, (2, 1): 0.3632712640026805, (2, 2): -0.19098300562505255, (2, 3): -0.5877852522924732, (2, 4): -0.5000000000000002, (2, 5): -1.1353100191302454e-16, (2, 6): 0.5, (2, 7): 0.5877852522924734, (2, 8): 0.19098300562505283, (2, 9): -0.36327126400268034, (3, 0): -0.43701602444882093, (3, 1): -0.36327126400268034, (3, 2): 0.19098300562505252, (3, 3): 0.587785252292473, (3, 4): 0.5, (3, 5): 1.1353100191302449e-16, (3, 6): -0.49999999999999994, (3, 7): -0.5877852522924731, (3, 8): -0.19098300562505277, (3, 9): 0.3632712640026802, (4, 0): -1.1441228056353685, (4, 1): -0.9510565162951538, (4, 2): 0.49999999999999994, (4, 3): 1.538841768587627, (4, 4): 1.3090169943749481, (4, 5): 2.972280217851275e-16, (4, 6): -1.3090169943749475, (4, 7): -1.538841768587627, (4, 8): -0.5000000000000007, (4, 9): 0.9510565162951531, (5, 0): -1.4142135623730951, (5, 1): -1.1755705045849465, (5, 2): 0.6180339887498948, (5, 3): 1.9021130325903075, (5, 4): 1.6180339887498956, (5, 5): 3.6739403974420604e-16, (5, 6): -1.6180339887498951, (5, 7): -1.9021130325903077, (5, 8): -0.6180339887498956, (5, 9): 1.1755705045849458, (6, 0): -1.144122805635369, (6, 1): -0.9510565162951538, (6, 2): 0.5, (6, 3): 1.5388417685876274, (6, 4): 1.3090169943749481, (6, 5): 2.9722802178512755e-16, (6, 6): -1.3090169943749477, (6, 7): -1.5388417685876274, (6, 8): -0.5000000000000007, (6, 9): 0.9510565162951534, (7, 0): -0.4370160244488213, (7, 1): -0.36327126400268067, (7, 2): 0.1909830056250526, (7, 3): 0.5877852522924735, (7, 4): 0.5000000000000004, (7, 5): 1.1353100191302456e-16, (7, 6): -0.5000000000000003, (7, 7): -0.5877852522924736, (7, 8): -0.1909830056250529, (7, 9): 0.36327126400268045, (8, 0): 0.4370160244488208, (8, 1): 0.3632712640026803, (8, 2): -0.19098300562505247, (8, 3): -0.5877852522924728, (8, 4): -0.5, (8, 5): -1.1353100191302446e-16, (8, 6): 0.4999999999999997, (8, 7): 0.587785252292473, (8, 8): 0.19098300562505272, (8, 9): -0.3632712640026801, (9, 0): 1.1441228056353683, (9, 1): 0.9510565162951535, (9, 2): -0.49999999999999983, (9, 3): -1.5388417685876266, (9, 4): -1.3090169943749475, (9, 5): -2.972280217851275e-16, (9, 6): 1.3090169943749472, (9, 7): 1.5388417685876266, (9, 8): 0.5000000000000006, (9, 9): -0.9510565162951529}]\n",
      "system ergodicity:  [0.7978239387396592]\n"
     ]
    }
   ],
   "source": [
    "from mm_agent import MMAgent1\n",
    "from global_comm_agent_system import GlobalCommunicationSystem\n",
    "from ergodic_agents import Agent, AgentSystem\n",
    "# can only really test init rn\n",
    "n = len(U_shape)\n",
    "all_k = list(np.ndindex(*[K]*n))\n",
    "agent1 = MMAgent1(0, np.array([0.2, 0.3]), 0.2, all_k, U_shape, ff, eps=1e-5)\n",
    "for k in agent1.k_bands:\n",
    "    print(\"mu\"+str(k)+\": \", ff[k][\"mu_k\"])\n",
    "print(\"agent1 kbands: \", agent1.k_bands)\n",
    "print(\"agent1 ck: \", agent1.get_c_k_log())\n",
    "print(\"agent1 ergodicity: \", agent1.get_ergodicity_log())\n",
    "print(\"agent1 position: \", agent1.get_position_log())\n",
    "agent2 = MMAgent1(1, np.array([0.6, 0.5]), 0.2, all_k, U_shape, ff, eps=1e-5)\n",
    "print(agent2.get_c_k_log())\n",
    "print(agent2.get_ergodicity_log())\n",
    "print(agent2.get_position_log())\n",
    "print(\"system\")\n",
    "system1 = AgentSystem([agent1], mu, U_shape, ff, K)\n",
    "print(\"system k_bands: \", list(system1.all_k_bands))\n",
    "print(\"system c_k: \", system1.get_c_k_log())\n",
    "print(\"system ergodicity: \", system1.get_ergodicity_log())"
   ]
  },
  {
   "cell_type": "code",
   "execution_count": 27,
   "metadata": {},
   "outputs": [
    {
     "name": "stdout",
     "output_type": "stream",
     "text": [
      "x_prev:  None\n",
      "x_curr:  [0.21491519 0.31332431]\n",
      "x_prev:  None\n",
      "x_curr:  [0.22987939 0.32659355]\n",
      "x_prev:  None\n",
      "x_curr:  [0.2449291  0.33976572]\n",
      "x_prev:  None\n",
      "x_curr:  [0.26006697 0.35283648]\n"
     ]
    }
   ],
   "source": [
    "t = 0\n",
    "delta_t = 0.1\n",
    "for i in range(1000):\n",
    "    t = i * delta_t\n",
    "    system1.evolve(t, delta_t)\n"
   ]
  },
  {
   "cell_type": "code",
   "execution_count": null,
   "metadata": {},
   "outputs": [],
   "source": []
  },
  {
   "cell_type": "code",
   "execution_count": null,
   "metadata": {},
   "outputs": [
    {
     "name": "stdout",
     "output_type": "stream",
     "text": [
      "System vs Agent 1 c_k\n",
      "1001\n",
      "None\n",
      "1001\n",
      "[0.0, 0.0, 0.0, 0.0, 0.0]\n",
      "[0.0, 0.0, 0.0, 0.0, 0.0]\n"
     ]
    }
   ],
   "source": [
    "print(\"System vs Agent 1 c_k\")\n",
    "print(len(system1.c_k_log))\n",
    "print(agent1.system_c_k)\n",
    "print(len(agent1.c_k_log))\n",
    "k = (1,2)\n",
    "print([system1.c_k_log[i][k] - agent1.c_k_log[i][k] for i in range(5)])\n",
    "print([system1.c_k_log[-i][k] - agent1.c_k_log[-i][k] for i in range(5)])"
   ]
  },
  {
   "cell_type": "code",
   "execution_count": null,
   "metadata": {},
   "outputs": [
    {
     "data": {
      "image/png": "[encoded data removed]",
      "text/plain": [
       "<Figure size 921.6x345.6 with 2 Axes>"
      ]
     },
     "metadata": {
      "needs_background": "light"
     },
     "output_type": "display_data"
    }
   ],
   "source": [
    "system1.visualize2d(filename=\"test_without_c_k\", additional_title=\"TEST\", plot_c_k=False)"
   ]
  },
  {
   "cell_type": "code",
   "execution_count": null,
   "metadata": {},
   "outputs": [],
   "source": [
    "def fourier_coefficient2distribution(ff, k_bands, c_k=None):\n",
    "    def dist(x):\n",
    "        res = 0\n",
    "        for k in k_bands:\n",
    "            if c_k is None:\n",
    "                coeff_k = ff[k]['mu_k']\n",
    "            else:\n",
    "                coeff_k = c_k[k]\n",
    "            res += coeff_k*ff[k]['f_k'](x)\n",
    "        return res\n",
    "    return dist"
   ]
  },
  {
   "cell_type": "code",
   "execution_count": null,
   "metadata": {},
   "outputs": [
    {
     "data": {
      "image/png": "[encoded data removed]",
      "text/plain": [
       "<Figure size 432x288 with 1 Axes>"
      ]
     },
     "metadata": {
      "needs_background": "light"
     },
     "output_type": "display_data"
    }
   ],
   "source": [
    "recon_mu = fourier_coefficient2distribution(ff, all_k)\n",
    "mu_display2D(recon_mu, U_shape)"
   ]
  },
  {
   "cell_type": "code",
   "execution_count": null,
   "metadata": {},
   "outputs": [
    {
     "name": "stdout",
     "output_type": "stream",
     "text": [
      "[0.34173821 0.44096502]\n"
     ]
    },
    {
     "data": {
      "image/png": "[encoded data removed]",
      "text/plain": [
       "<Figure size 432x288 with 1 Axes>"
      ]
     },
     "metadata": {
      "needs_background": "light"
     },
     "output_type": "display_data"
    }
   ],
   "source": [
    "i = 10\n",
    "print(agent1.x_log[i])\n",
    "recon_c_k = fourier_coefficient2distribution(ff, all_k, agent1.c_k_log[i])\n",
    "mu_display2D(recon_c_k, U_shape)"
   ]
  },
  {
   "cell_type": "code",
   "execution_count": null,
   "metadata": {},
   "outputs": [
    {
     "name": "stdout",
     "output_type": "stream",
     "text": [
      "[0.47977005 0.53632228]\n"
     ]
    },
    {
     "data": {
      "image/png": "[encoded data removed]",
      "text/plain": [
       "<Figure size 432x288 with 1 Axes>"
      ]
     },
     "metadata": {
      "needs_background": "light"
     },
     "output_type": "display_data"
    }
   ],
   "source": [
    "i = -1\n",
    "print(agent1.x_log[i])\n",
    "recon_c_k = fourier_coefficient2distribution(ff, all_k, agent1.c_k_log[i])\n",
    "mu_display2D(recon_c_k, U_shape)"
   ]
  }
 ],
 "metadata": {
  "interpreter": {
   "hash": "31f2aee4e71d21fbe5cf8b01ff0e069b9275f58929596ceb00d14d90e3e16cd6"
  },
  "kernelspec": {
   "display_name": "Python 3.9.2 64-bit",
   "language": "python",
   "name": "python3"
  },
  "language_info": {
   "codemirror_mode": {
    "name": "ipython",
    "version": 3
   },
   "file_extension": ".py",
   "mimetype": "text/x-python",
   "name": "python",
   "nbconvert_exporter": "python",
   "pygments_lexer": "ipython3",
   "version": "3.9.2"
  },
  "orig_nbformat": 4
 },
 "nbformat": 4,
 "nbformat_minor": 2
}
