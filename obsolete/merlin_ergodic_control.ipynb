{
 "cells": [
  {
   "cell_type": "code",
   "execution_count": 3,
   "metadata": {
    "code_folding": [
     0
    ]
   },
   "outputs": [],
   "source": [
    "# imports\n",
    "import jax\n",
    "import jax.numpy as np\n",
    "import jax.random as jnp_random\n",
    "import numpy as onp\n",
    "from jax import grad, jacrev, jacfwd, jit, vmap#EK: , partial\n",
    "from functools import partial #EK: added in\n",
    "from jax.scipy.special import logsumexp\n",
    "from jax.lax import scan\n",
    "from jax.ops import index, index_add, index_update\n",
    "from jax.experimental import optimizers\n",
    "from jax.numpy import concatenate as cat\n",
    "import timeit\n",
    "\n",
    "import random\n",
    "import pickle as pkl\n",
    "import scipy\n",
    "\n",
    "from IPython.display import clear_output\n",
    "import matplotlib.pyplot as plt\n",
    "from matplotlib.patches import Rectangle\n",
    "import seaborn as sns\n",
    "import pandas as pd\n",
    "\n",
    "from regions.core import PixCoord\n",
    "from regions import RectanglePixelRegion\n",
    "from scipy.signal import convolve2d\n",
    "from scipy.ndimage import gaussian_filter\n",
    "import cv2"
   ]
  },
  {
   "cell_type": "code",
   "execution_count": 4,
   "metadata": {
    "code_folding": [
     0
    ]
   },
   "outputs": [],
   "source": [
    "# binary image classifier\n",
    "class Classifier(object):\n",
    "\n",
    "    def __init__(self):\n",
    "        self.fpsize = 200\n",
    "        self.lower, self.tp, self.fp = onp.load('classifier_params.npy')\n",
    "        print(self.lower, self.tp, self.fp)\n",
    "\n",
    "    @staticmethod\n",
    "    def _red_ratio(im):\n",
    "        return (2 * im[:, :, 0] + 1) / (im[:, :, 1] + im[:, :, 2] + 1)\n",
    "\n",
    "    def collect_data(self, data_file):\n",
    "        fpsize = self.fpsize\n",
    "        cap = cv2.VideoCapture(0)\n",
    "        ret, frame = cap.read()\n",
    "        frame = frame[:, :, (2,1,0)].astype(np.float32) / 255\n",
    "        plt.imshow(frame)\n",
    "        plt.grid()\n",
    "        plt.show(block=False)\n",
    "\n",
    "        x, y = [int(num) for num in input('Enter x and y: ').split()]\n",
    "\n",
    "        plt.close()\n",
    "\n",
    "        frame_padded = onp.pad(frame, ((fpsize, fpsize), (fpsize, fpsize), (0, 0)))\n",
    "        vals = self._red_ratio(frame_padded)\n",
    "        fig, (ax1, ax2, ax3) = plt.subplots(1, 3)\n",
    "        ax1.imshow(vals)\n",
    "        \n",
    "        max_red = onp.zeros((frame.shape[0] + fpsize, frame.shape[1] + fpsize))\n",
    "        target_inside = onp.zeros((frame.shape[0] + fpsize, frame.shape[1] + fpsize))\n",
    "        for r in range(0, frame.shape[0]+fpsize):\n",
    "            for c in range(0, frame.shape[1]+fpsize):\n",
    "                max_red[r, c] = onp.max(vals[r:r+fpsize, c:c+fpsize])\n",
    "                if (r - fpsize) <= y and (r > y) and (c - fpsize) <= x and (c > x):\n",
    "                    target_inside[r, c] = 1\n",
    "        \n",
    "        ax2.imshow(max_red)\n",
    "        ax3.imshow(target_inside)\n",
    "        plt.show()\n",
    "\n",
    "        onp.save(data_file, onp.stack([max_red.flatten(), target_inside.flatten()], axis=1))\n",
    "\n",
    "    def get_video(self, nframes):\n",
    "        plt.pause(10)\n",
    "        cap = cv2.VideoCapture(0)\n",
    "        video = []\n",
    "        for i in range(nframes):\n",
    "            if i % 100 == 0:\n",
    "                print(i)\n",
    "            ret, frame = cap.read()\n",
    "            frame = frame[:, :, (2,1,0)].astype(np.float32) / 255\n",
    "            video.append(frame)\n",
    "\n",
    "        cap.release()\n",
    "        return video\n",
    "\n",
    "    def get_predictions(self, t, video, bounding_boxes):\n",
    "        frame = video[t]\n",
    "        predictions = []\n",
    "        mask = onp.zeros(frame.shape, dtype=onp.int16)\n",
    "        for bb in bounding_boxes:\n",
    "            r0 = max(0, bb[0])\n",
    "            r1 = min(frame.shape[0], bb[1])\n",
    "            c0 = max(0, bb[2])\n",
    "            c1 = min(frame.shape[1], bb[3])\n",
    "            max_red = np.max(self._red_ratio(frame[r0:r1, c0:c1, :]))\n",
    "            predictions.append(self.lower < max_red)\n",
    "        return predictions\n",
    "\n",
    "    def show(self, t, video, bounding_boxes, ax):\n",
    "        frame = video[t]\n",
    "        mask = onp.zeros(frame.shape, dtype=onp.int16)\n",
    "        for bb in bounding_boxes:\n",
    "            r0 = max(0, bb[0])\n",
    "            r1 = min(frame.shape[0], bb[1])\n",
    "            c0 = max(0, bb[2])\n",
    "            c1 = min(frame.shape[1], bb[3])\n",
    "            mask[r0:r1, c0:c1, :] = 1\n",
    "        ax.imshow(\n",
    "            (np.max(self._red_ratio(frame[r0:r1, c0:c1, :])) > self.lower).reshape((1,1)), \n",
    "            extent=(0, 1, 1, 0), vmin=0, vmax=1, cmap='bwr'\n",
    "        )"
   ]
  },
  {
   "cell_type": "code",
   "execution_count": null,
   "metadata": {
    "code_folding": [
     0
    ],
    "collapsed": true
   },
   "outputs": [
    {
     "ename": "KeyboardInterrupt",
     "evalue": "Interrupted by user",
     "output_type": "error",
     "traceback": [
      "\u001b[0;31m---------------------------------------------------------------------------\u001b[0m",
      "\u001b[0;31mKeyboardInterrupt\u001b[0m                         Traceback (most recent call last)",
      "\u001b[0;32m<ipython-input-36-40fa98e244d8>\u001b[0m in \u001b[0;36m<module>\u001b[0;34m\u001b[0m\n\u001b[1;32m      1\u001b[0m \u001b[0;31m# collect data for classifier to train on\u001b[0m\u001b[0;34m\u001b[0m\u001b[0;34m\u001b[0m\u001b[0;34m\u001b[0m\u001b[0m\n\u001b[0;32m----> 2\u001b[0;31m \u001b[0minput\u001b[0m\u001b[0;34m(\u001b[0m\u001b[0;34m'press enter if you actually want to run this'\u001b[0m\u001b[0;34m)\u001b[0m\u001b[0;34m\u001b[0m\u001b[0;34m\u001b[0m\u001b[0m\n\u001b[0m\u001b[1;32m      3\u001b[0m \u001b[0mc\u001b[0m \u001b[0;34m=\u001b[0m \u001b[0mClassifier\u001b[0m\u001b[0;34m(\u001b[0m\u001b[0;34m)\u001b[0m\u001b[0;34m\u001b[0m\u001b[0;34m\u001b[0m\u001b[0m\n\u001b[1;32m      4\u001b[0m \u001b[0mplt\u001b[0m\u001b[0;34m.\u001b[0m\u001b[0mpause\u001b[0m\u001b[0;34m(\u001b[0m\u001b[0;36m5\u001b[0m\u001b[0;34m)\u001b[0m\u001b[0;34m\u001b[0m\u001b[0;34m\u001b[0m\u001b[0m\n\u001b[1;32m      5\u001b[0m \u001b[0;32mfor\u001b[0m \u001b[0mi\u001b[0m \u001b[0;32min\u001b[0m \u001b[0mrange\u001b[0m\u001b[0;34m(\u001b[0m\u001b[0;36m20\u001b[0m\u001b[0;34m)\u001b[0m\u001b[0;34m:\u001b[0m\u001b[0;34m\u001b[0m\u001b[0;34m\u001b[0m\u001b[0m\n",
      "\u001b[0;32m~/miniconda3/lib/python3.8/site-packages/ipykernel/kernelbase.py\u001b[0m in \u001b[0;36mraw_input\u001b[0;34m(self, prompt)\u001b[0m\n\u001b[1;32m    858\u001b[0m                 \u001b[0;34m\"raw_input was called, but this frontend does not support input requests.\"\u001b[0m\u001b[0;34m\u001b[0m\u001b[0;34m\u001b[0m\u001b[0m\n\u001b[1;32m    859\u001b[0m             )\n\u001b[0;32m--> 860\u001b[0;31m         return self._input_request(str(prompt),\n\u001b[0m\u001b[1;32m    861\u001b[0m             \u001b[0mself\u001b[0m\u001b[0;34m.\u001b[0m\u001b[0m_parent_ident\u001b[0m\u001b[0;34m,\u001b[0m\u001b[0;34m\u001b[0m\u001b[0;34m\u001b[0m\u001b[0m\n\u001b[1;32m    862\u001b[0m             \u001b[0mself\u001b[0m\u001b[0;34m.\u001b[0m\u001b[0m_parent_header\u001b[0m\u001b[0;34m,\u001b[0m\u001b[0;34m\u001b[0m\u001b[0;34m\u001b[0m\u001b[0m\n",
      "\u001b[0;32m~/miniconda3/lib/python3.8/site-packages/ipykernel/kernelbase.py\u001b[0m in \u001b[0;36m_input_request\u001b[0;34m(self, prompt, ident, parent, password)\u001b[0m\n\u001b[1;32m    902\u001b[0m             \u001b[0;32mexcept\u001b[0m \u001b[0mKeyboardInterrupt\u001b[0m\u001b[0;34m:\u001b[0m\u001b[0;34m\u001b[0m\u001b[0;34m\u001b[0m\u001b[0m\n\u001b[1;32m    903\u001b[0m                 \u001b[0;31m# re-raise KeyboardInterrupt, to truncate traceback\u001b[0m\u001b[0;34m\u001b[0m\u001b[0;34m\u001b[0m\u001b[0;34m\u001b[0m\u001b[0m\n\u001b[0;32m--> 904\u001b[0;31m                 \u001b[0;32mraise\u001b[0m \u001b[0mKeyboardInterrupt\u001b[0m\u001b[0;34m(\u001b[0m\u001b[0;34m\"Interrupted by user\"\u001b[0m\u001b[0;34m)\u001b[0m \u001b[0;32mfrom\u001b[0m \u001b[0;32mNone\u001b[0m\u001b[0;34m\u001b[0m\u001b[0;34m\u001b[0m\u001b[0m\n\u001b[0m\u001b[1;32m    905\u001b[0m             \u001b[0;32mexcept\u001b[0m \u001b[0mException\u001b[0m \u001b[0;32mas\u001b[0m \u001b[0me\u001b[0m\u001b[0;34m:\u001b[0m\u001b[0;34m\u001b[0m\u001b[0;34m\u001b[0m\u001b[0m\n\u001b[1;32m    906\u001b[0m                 \u001b[0mself\u001b[0m\u001b[0;34m.\u001b[0m\u001b[0mlog\u001b[0m\u001b[0;34m.\u001b[0m\u001b[0mwarning\u001b[0m\u001b[0;34m(\u001b[0m\u001b[0;34m\"Invalid Message:\"\u001b[0m\u001b[0;34m,\u001b[0m \u001b[0mexc_info\u001b[0m\u001b[0;34m=\u001b[0m\u001b[0;32mTrue\u001b[0m\u001b[0;34m)\u001b[0m\u001b[0;34m\u001b[0m\u001b[0;34m\u001b[0m\u001b[0m\n",
      "\u001b[0;31mKeyboardInterrupt\u001b[0m: Interrupted by user"
     ]
    }
   ],
   "source": [
    "# collect data for classifier to train on\n",
    "input('press enter if you actually want to run this')\n",
    "c = Classifier()\n",
    "plt.pause(5)\n",
    "for i in range(20):\n",
    "    c.collect_data(f'data/{i}.npy')"
   ]
  },
  {
   "cell_type": "code",
   "execution_count": null,
   "metadata": {
    "code_folding": [
     0
    ],
    "collapsed": true
   },
   "outputs": [
    {
     "name": "stdout",
     "output_type": "stream",
     "text": [
      "press enter if you actually want to run this\n",
      "-0.2225008\n",
      "-0.20653126\n",
      "-0.21989292\n",
      "-0.22112077\n",
      "-0.22443263\n",
      "-0.20653126\n",
      "-0.20653126\n",
      "-0.2237476\n",
      "-0.22590187\n",
      "-0.20653126\n",
      "-0.20653126\n",
      "-0.22499092\n",
      "-0.22687711\n",
      "-0.20653126\n",
      "-0.20653126\n",
      "-0.22656763\n",
      "-0.22698754\n",
      "-0.20653126\n",
      "-0.20653126\n",
      "-0.22712423\n",
      "-0.22687711\n",
      "-0.2272551\n",
      "-0.22698754\n",
      "-0.22716871\n",
      "-0.22685896\n",
      "-0.2271691\n",
      "-0.22725573\n",
      "-0.22685896\n",
      "-0.22685896\n",
      "-0.22725551\n",
      "-0.22685896\n",
      "-0.22725551\n",
      "-0.22725551\n",
      " final_simplex: (array([[1.32726616],\n",
      "       [1.32720422]]), array([-0.22725573, -0.22725551]))\n",
      "           fun: -0.22725573182106018\n",
      "       message: 'Optimization terminated successfully.'\n",
      "          nfev: 33\n",
      "           nit: 16\n",
      "        status: 0\n",
      "       success: True\n",
      "             x: array([1.32726616])\n",
      "True Positive 0.99472624\n",
      "False Positive 0.0074251695\n",
      "True Negative 0.9925748\n",
      "False Negative 0.00527375\n"
     ]
    }
   ],
   "source": [
    "# optimize the classifier using training data\n",
    "input('press enter if you actually want to run this')\n",
    "from scipy.optimize import minimize\n",
    "\n",
    "def negative_mutual_info(f, fhat):\n",
    "    p_f = np.mean(f)\n",
    "    p_fhat = np.mean(fhat)\n",
    "    if p_fhat == 0 or p_fhat == 1:\n",
    "        return 0\n",
    "\n",
    "    neg_mi = 0\n",
    "    f_and_fhat = np.mean(f * fhat)\n",
    "    if f_and_fhat != 0:\n",
    "        neg_mi -= f_and_fhat * np.log(f_and_fhat / (p_f * p_fhat))\n",
    "\n",
    "    f_and_not_fhat = np.mean(f * (1-fhat))\n",
    "    if f_and_not_fhat != 0:\n",
    "        neg_mi -= f_and_not_fhat * np.log(f_and_not_fhat / (p_f * (1-p_fhat)))\n",
    "\n",
    "    not_f_and_fhat = np.mean((1-f) * fhat)\n",
    "    if not_f_and_fhat != 0:\n",
    "        neg_mi -= not_f_and_fhat * np.log(not_f_and_fhat / ((1-p_f) * p_fhat))\n",
    "\n",
    "    not_f_and_not_fhat = np.mean((1-f) * (1-fhat))\n",
    "    if not_f_and_not_fhat != 0:\n",
    "        neg_mi -= not_f_and_not_fhat * np.log(not_f_and_not_fhat / ((1-p_f) * (1-p_fhat)))\n",
    "\n",
    "    print(neg_mi)\n",
    "    return neg_mi\n",
    "\n",
    "data_list = []\n",
    "for i in range(20):\n",
    "    data_list.append(np.load(f'data/{i}.npy'))\n",
    "\n",
    "data = np.concatenate(data_list, axis=0)\n",
    "x = data[:, 0]\n",
    "f = data[:, 1]\n",
    "\n",
    "fhat_func = lambda x, lower: ((lower < x)).astype(np.int32)\n",
    "cost = lambda lower: negative_mutual_info(f, fhat_func(x, lower))\n",
    "\n",
    "lower_start = np.mean(x[f == 1]) - .1\n",
    "res = minimize(cost, lower_start, method='Nelder-Mead')\n",
    "print(res)\n",
    "\n",
    "lower = res.x\n",
    "tp = np.sum(fhat_func(x, lower) * f) / np.sum(f)\n",
    "fp = np.sum(fhat_func(x, lower) * (1-f)) / np.sum(1-f)\n",
    "tn = np.sum((1-fhat_func(x, lower)) * (1-f)) / np.sum(1-f)\n",
    "fn = np.sum((1-fhat_func(x, lower)) * f) / np.sum(f)\n",
    "print('True Positive', tp)\n",
    "print('False Positive', fp)\n",
    "print('True Negative', tn)\n",
    "print('False Negative', fn)\n",
    "\n",
    "np.save('classifier_params.npy', np.array([res.x[0], tp, fp]))"
   ]
  },
  {
   "cell_type": "code",
   "execution_count": 36,
   "metadata": {
    "code_folding": [
     0
    ]
   },
   "outputs": [],
   "source": [
    "# setting up the environment and initial state\n",
    "# sensor = Classifier()\n",
    "# T = sensor.tp\n",
    "# F = sensor.fp\n",
    "T = .2\n",
    "F = .05\n",
    "image_size = onp.array((480, 640))\n",
    "rect_dims = onp.array([200/640, 200/480])\n",
    "# rect_dims = onp.array([.5, .5])\n",
    "size = 30\n",
    "\n",
    "def mi(distribution, rect_dims):\n",
    "    size = distribution.shape[0]\n",
    "    reg = RectanglePixelRegion(center=PixCoord(15, 15), width=rect_dims[1]*size, height=rect_dims[0]*size)\n",
    "    mask = reg.to_mask().data\n",
    "    \n",
    "    import matplotlib\n",
    "    matplotlib.rcParams['mathtext.fontset'] = 'custom'\n",
    "    matplotlib.rcParams['mathtext.rm'] = 'Bitstream Vera Sans'\n",
    "    matplotlib.rcParams['mathtext.it'] = 'Bitstream Vera Sans:italic'\n",
    "    matplotlib.rcParams['mathtext.bf'] = 'Bitstream Vera Sans:bold'\n",
    "    matplotlib.rcParams['mathtext.fontset'] = 'cm'\n",
    "    matplotlib.rcParams['font.family'] = 'STIXGeneral'\n",
    "    fig, (ax1, ax2, ax3, ax4) = plt.subplots(1, 4, figsize=(7, 7/3))\n",
    "    fig.subplots_adjust(right=.95, wspace=.02)\n",
    "    cbar_ax = fig.add_axes([.96, 0.25, .02, 0.5])\n",
    "    \n",
    "    im1 = ax1.imshow(reg.to_mask().to_image((size, size)), cmap='gray')\n",
    "    ax1.axis('off')\n",
    "#     plt.colorbar(pad=0.01, shrink=.9)\n",
    "    mu = convolve2d(distribution, mask, mode='same').flatten() # EK: could not find correlate2d\n",
    "    # EK: mu = correlate2d(distribution, mask, mode='same').flatten()\n",
    "    mu = np.clip(mu, 1e-9, 1 - 1e-9)\n",
    "    \n",
    "    ax2.imshow(distribution, cmap='gray')\n",
    "#     plt.colorbar(pad=0.01, shrink=.9)\n",
    "    ax2.axis('off')\n",
    "    \n",
    "    ax3.imshow(mu.reshape((size, size)), cmap='gray')\n",
    "#     plt.colorbar(pad=0.01, shrink=.9)\n",
    "    ax3.axis('off')\n",
    "    pos = T*mu + F*(1-mu)\n",
    "    mi = (\n",
    "        -T*mu*onp.log(pos / T) - \n",
    "        (1-T)*mu*onp.log((1-pos) / (1-T)) - \n",
    "        F*(1-mu)*onp.log(pos / F) -\n",
    "        (1-F)*(1-mu)*onp.log((1-pos)/(1-F))\n",
    "    )\n",
    "    \n",
    "    ax4.imshow(mi.reshape((size, size)), cmap='gray')\n",
    "#     plt.colorbar(pad=0.01, shrink=.9)\n",
    "    ax4.axis('off')\n",
    "\n",
    "    \n",
    "    cbar = fig.colorbar(im1, cax=cbar_ax)\n",
    "    cbar.set_ticks([0,1])\n",
    "    cbar.set_ticklabels(['Low', 'High'])\n",
    "#     fig.tight_layout()\n",
    "    ax1.set_title('(a) $\\mathbf{S}$')\n",
    "    ax2.set_title('(b) $p_Y$')\n",
    "    ax3.set_title('(c) $\\mu$')\n",
    "    ax4.set_title('(d) $I_x$')\n",
    "    fig.savefig('mi_calc.pdf')\n",
    "    plt.show()\n",
    "    \n",
    "    return mi.reshape((size, size))\n",
    "\n",
    "alpha = .5\n",
    "def alpha_mi(distribution, rect_dims):\n",
    "    size = distribution.shape[0]\n",
    "    reg = RectanglePixelRegion(center=PixCoord(25, 25), width=rect_dims[1]*size, height=rect_dims[0]*size)\n",
    "    mask = reg.to_mask().data\n",
    "#     plt.imshow(reg.to_mask().to_image((size, size)), cmap='gray')\n",
    "#     plt.axis('off')\n",
    "#     plt.colorbar(pad=0.01, shrink=.9)\n",
    "#     plt.show()\n",
    "    mu = convolve2d(distribution, mask, mode='same').flatten() # EK: could not find correlate2d\n",
    "    # EK: mu = correlate2d(distribution, mask, mode='same').flatten()\n",
    "    mu = np.clip(mu, 1e-9, 1 - 1e-9)\n",
    "    \n",
    "#     plt.imshow(distribution, cmap='gray')\n",
    "#     plt.colorbar(pad=0.01, shrink=.9)\n",
    "#     plt.axis('off')\n",
    "#     plt.show()\n",
    "    \n",
    "#     plt.imshow(mu.reshape((size, size)), cmap='gray')\n",
    "#     plt.colorbar(pad=0.01, shrink=.9)\n",
    "#     plt.axis('off')\n",
    "#     plt.show()\n",
    "#     munz = mu\n",
    "#     mi = onp.zeros(mu.shape[0])\n",
    "    pos = T*mu + F*(1-mu)\n",
    "    mi = (1 / (alpha - 1)) * (\n",
    "        pos*np.log(\n",
    "            mu*(T/pos)**alpha + \n",
    "            (1-mu)*(F/pos)**alpha\n",
    "        ) + \n",
    "        (1 - pos)*np.log(\n",
    "            mu*((1-T)/(1-pos))**alpha + \n",
    "            (1-mu)*((1-F)/(1-pos))**alpha\n",
    "        )\n",
    "    )\n",
    "    \n",
    "#     plt.imshow(mi.reshape((size, size)), cmap='gray')\n",
    "#     plt.colorbar(pad=0.01, shrink=.9)\n",
    "#     plt.axis('off')\n",
    "#     plt.show()\n",
    "    return mi.reshape((size, size))\n",
    "\n",
    "def f(x, u): # dynamics\n",
    "    xnew = x + np.tanh(u)\n",
    "    return xnew, x\n",
    "\n",
    "def get_hk(k): # normalizing factor for basis function\n",
    "    _hk = (2. * k + onp.sin(2 * k))/(4. * k)\n",
    "    # EK: _hk[onp.isnan(_hk)] = 1.\n",
    "    _hk = _hk.at[onp.isnan(_hk)].set(1.) # EK: this was complaining that jax arrays are immutable\n",
    "    return onp.sqrt(onp.prod(_hk))\n",
    "\n",
    "def fk(x, k): # basis function\n",
    "    return np.prod(np.cos(x*k))\n",
    "\n",
    "\n",
    "k1, k2 = np.meshgrid(*[np.arange(0, 15, step=1)]*2)\n",
    "k = np.stack([k1.ravel(), k2.ravel()]).T\n",
    "k = np.pi*k\n",
    "\n",
    "lamk = (1.+np.linalg.norm(k/np.pi,axis=1)**2)**(-4./2.)\n",
    "# lamk = np.exp(-0.8 * np.linalg.norm(k, axis=1))\n",
    "# lamk = np.ones((len(k), 1))\n",
    "hk = []\n",
    "for ki in k:\n",
    "    hk.append(get_hk(ki))\n",
    "hk = np.array(hk)\n",
    "\n",
    "fk_vmap = lambda _x, _k: vmap(fk, in_axes=(0,None))(_x, _k)\n",
    "def get_ck(tr, k):\n",
    "    ck = np.mean(vmap(partial(fk_vmap, tr))(k), axis=1)\n",
    "    ck = ck / hk\n",
    "    return ck\n",
    "\n",
    "# EK: uncommented function\n",
    "@jit\n",
    "def fourier_ergodic_loss_no_history(u, x0, phik, k):\n",
    "    xf, tr = scan(f, x0, u)\n",
    "    ck = get_ck(tr, k)\n",
    "    return np.sum(lamk*np.square(phik - ck)) \\\n",
    "            + 1e-3 * np.mean(u**2) + 100 * np.mean((tr - np.array([0.5,0.5]))**8)\n",
    "\n",
    "def fourier_ergodic_loss(u, x0, phik, k, history):\n",
    "    xf, tr = scan(f, x0, u)\n",
    "    tr = cat([tr, history], axis=0)\n",
    "    ck = get_ck(tr, k)\n",
    "    return np.sum(lamk*np.square(phik - ck)) \\\n",
    "            + 1e-3 * np.mean(u**2) + 100 * np.mean((2*(tr - np.array([0.5,0.5])))**30)\n",
    "\n",
    "dl = jit(grad(fourier_ergodic_loss))"
   ]
  },
  {
   "cell_type": "code",
   "execution_count": 10,
   "metadata": {
    "code_folding": [
     0
    ]
   },
   "outputs": [
    {
     "data": {
      "image/png": "[encoded data removed]",
      "text/plain": [
       "<Figure size 504x168 with 5 Axes>"
      ]
     },
     "metadata": {
      "needs_background": "light"
     },
     "output_type": "display_data"
    },
    {
     "data": {
      "image/png": "[encoded data removed]",
      "text/plain": [
       "<Figure size 432x288 with 2 Axes>"
      ]
     },
     "metadata": {
      "needs_background": "light"
     },
     "output_type": "display_data"
    },
    {
     "data": {
      "image/png": "[encoded data removed]",
      "text/plain": [
       "<Figure size 432x288 with 2 Axes>"
      ]
     },
     "metadata": {
      "needs_background": "light"
     },
     "output_type": "display_data"
    },
    {
     "data": {
      "image/png": "[encoded data removed]",
      "text/plain": [
       "<Figure size 432x288 with 2 Axes>"
      ]
     },
     "metadata": {
      "needs_background": "light"
     },
     "output_type": "display_data"
    }
   ],
   "source": [
    "# test plots for different utility distributions\n",
    "x1g, x2g = onp.meshgrid(\n",
    "    np.linspace(0, 1, size),\n",
    "    np.linspace(0, 1, size),\n",
    "    indexing='ij'\n",
    ")\n",
    "x1 = x1g.flatten()\n",
    "x2 = x2g.flatten()\n",
    "xvec = onp.stack([x1, x2], axis=1)\n",
    "\n",
    "p_dist = onp.exp(-(np.square(x1 - .5) + onp.square(x2 - .5)) / .1**2).reshape((size, size))\n",
    "# p_dist = onp.ones((size, size)) #4 * onp.exp(-(np.square(x1 - .5) + onp.square(x2 - .5)) / .8**2).reshape((size, size))\n",
    "# p_dist = p_dist / onp.sum(p_dist)\n",
    "# p_dist = onp.zeros((size, size))\n",
    "# p_dist.flat[(x1 > .1) & (x2 > .1) & (x1 < .9) & (x2 < .9)] = 1\n",
    "# p_dist = onp.ones((size, size))\n",
    "# p_dist.flat[31*15] = 1\n",
    "p_dist = p_dist / onp.sum(p_dist)\n",
    "\n",
    "mi_dist = mi(p_dist.reshape((size, size)), rect_dims)\n",
    "mi_dist = mi_dist / np.sum(mi_dist)\n",
    "\n",
    "uniform_dist = onp.ones(p_dist.shape)\n",
    "uniform_dist = uniform_dist / onp.sum(uniform_dist)\n",
    "\n",
    "plt.contourf(x1g, x2g, p_dist)\n",
    "plt.colorbar()\n",
    "plt.show()\n",
    "plt.contourf(x1g, x2g, mi_dist)\n",
    "plt.colorbar()\n",
    "plt.show()\n",
    "plt.contourf(x1g, x2g, uniform_dist)\n",
    "plt.colorbar()\n",
    "plt.show()"
   ]
  },
  {
   "cell_type": "code",
   "execution_count": 11,
   "metadata": {
    "code_folding": [
     0
    ],
    "scrolled": true
   },
   "outputs": [
    {
     "data": {
      "image/png": "[encoded data removed]",
      "text/plain": [
       "<Figure size 432x288 with 2 Axes>"
      ]
     },
     "metadata": {
      "needs_background": "light"
     },
     "output_type": "display_data"
    }
   ],
   "source": [
    "# test if using enough fourier bases for a reasonable reconstruction\n",
    "phik = np.dot(vmap(fk_vmap, in_axes=(None, 0))(xvec, k), mi_dist.flatten())\n",
    "phik = phik/phik[0]\n",
    "phik = phik/hk\n",
    "phik_recon = np.dot(phik, vmap(fk_vmap, in_axes=(None, 0))(xvec, k)).reshape((size, size))\n",
    "plt.contourf(x1g, x2g, phik_recon)\n",
    "plt.colorbar()\n",
    "plt.show()"
   ]
  },
  {
   "cell_type": "code",
   "execution_count": 12,
   "metadata": {},
   "outputs": [],
   "source": [
    "# run this to release video capture if needed\n",
    "import cv2\n",
    "cap = cv2.VideoCapture(0)\n",
    "cap.release()"
   ]
  },
  {
   "cell_type": "code",
   "execution_count": 14,
   "metadata": {
    "code_folding": [],
    "collapsed": true
   },
   "outputs": [
    {
     "ename": "NameError",
     "evalue": "name 'sensor' is not defined",
     "output_type": "error",
     "traceback": [
      "\u001b[0;31m---------------------------------------------------------------------------\u001b[0m",
      "\u001b[0;31mNameError\u001b[0m                                 Traceback (most recent call last)",
      "\u001b[0;32m<ipython-input-14-2efb66c75b5a>\u001b[0m in \u001b[0;36m<module>\u001b[0;34m\u001b[0m\n\u001b[1;32m      2\u001b[0m \u001b[0mnframes\u001b[0m \u001b[0;34m=\u001b[0m \u001b[0;36m1500\u001b[0m\u001b[0;34m\u001b[0m\u001b[0;34m\u001b[0m\u001b[0m\n\u001b[1;32m      3\u001b[0m \u001b[0minput\u001b[0m\u001b[0;34m(\u001b[0m\u001b[0;34m'press enter if you want to get rid of previous video and record a new one'\u001b[0m\u001b[0;34m)\u001b[0m\u001b[0;34m\u001b[0m\u001b[0;34m\u001b[0m\u001b[0m\n\u001b[0;32m----> 4\u001b[0;31m \u001b[0mvideo\u001b[0m \u001b[0;34m=\u001b[0m \u001b[0msensor\u001b[0m\u001b[0;34m.\u001b[0m\u001b[0mget_video\u001b[0m\u001b[0;34m(\u001b[0m\u001b[0mnframes\u001b[0m\u001b[0;34m)\u001b[0m\u001b[0;34m\u001b[0m\u001b[0;34m\u001b[0m\u001b[0m\n\u001b[0m",
      "\u001b[0;31mNameError\u001b[0m: name 'sensor' is not defined"
     ]
    }
   ],
   "source": [
    "# capture a video to run this on\n",
    "nframes = 1500\n",
    "input('press enter if you want to get rid of previous video and record a new one')\n",
    "video = sensor.get_video(nframes)"
   ]
  },
  {
   "cell_type": "code",
   "execution_count": null,
   "metadata": {},
   "outputs": [
    {
     "name": "stdout",
     "output_type": "stream",
     "text": [
      "Press enter if you want to save the video\n"
     ]
    }
   ],
   "source": [
    "input('Press enter if you want to save the video')\n",
    "for i in range(nframes):\n",
    "    np.save(f'video10/{i}.npy', video[i])"
   ]
  },
  {
   "cell_type": "code",
   "execution_count": null,
   "metadata": {
    "collapsed": true
   },
   "outputs": [
    {
     "ename": "KeyboardInterrupt",
     "evalue": "Interrupted by user",
     "output_type": "error",
     "traceback": [
      "\u001b[0;31m---------------------------------------------------------------------------\u001b[0m",
      "\u001b[0;31mKeyboardInterrupt\u001b[0m                         Traceback (most recent call last)",
      "\u001b[0;32m<ipython-input-33-20abc4fa38cb>\u001b[0m in \u001b[0;36m<module>\u001b[0;34m\u001b[0m\n\u001b[0;32m----> 1\u001b[0;31m \u001b[0minput\u001b[0m\u001b[0;34m(\u001b[0m\u001b[0;34m'Press enter to load the video'\u001b[0m\u001b[0;34m)\u001b[0m\u001b[0;34m\u001b[0m\u001b[0;34m\u001b[0m\u001b[0m\n\u001b[0m\u001b[1;32m      2\u001b[0m \u001b[0mvideo\u001b[0m \u001b[0;34m=\u001b[0m \u001b[0;34m[\u001b[0m\u001b[0;34m]\u001b[0m\u001b[0;34m\u001b[0m\u001b[0;34m\u001b[0m\u001b[0m\n\u001b[1;32m      3\u001b[0m \u001b[0;32mfor\u001b[0m \u001b[0mi\u001b[0m \u001b[0;32min\u001b[0m \u001b[0mrange\u001b[0m\u001b[0;34m(\u001b[0m\u001b[0mnframes\u001b[0m\u001b[0;34m)\u001b[0m\u001b[0;34m:\u001b[0m\u001b[0;34m\u001b[0m\u001b[0;34m\u001b[0m\u001b[0m\n\u001b[1;32m      4\u001b[0m     \u001b[0mvideo\u001b[0m\u001b[0;34m.\u001b[0m\u001b[0mappend\u001b[0m\u001b[0;34m(\u001b[0m\u001b[0mnp\u001b[0m\u001b[0;34m.\u001b[0m\u001b[0mload\u001b[0m\u001b[0;34m(\u001b[0m\u001b[0;34mf'video2/{i}.npy'\u001b[0m\u001b[0;34m)\u001b[0m\u001b[0;34m)\u001b[0m\u001b[0;34m\u001b[0m\u001b[0;34m\u001b[0m\u001b[0m\n",
      "\u001b[0;32m~/miniconda3/lib/python3.8/site-packages/ipykernel/kernelbase.py\u001b[0m in \u001b[0;36mraw_input\u001b[0;34m(self, prompt)\u001b[0m\n\u001b[1;32m    858\u001b[0m                 \u001b[0;34m\"raw_input was called, but this frontend does not support input requests.\"\u001b[0m\u001b[0;34m\u001b[0m\u001b[0;34m\u001b[0m\u001b[0m\n\u001b[1;32m    859\u001b[0m             )\n\u001b[0;32m--> 860\u001b[0;31m         return self._input_request(str(prompt),\n\u001b[0m\u001b[1;32m    861\u001b[0m             \u001b[0mself\u001b[0m\u001b[0;34m.\u001b[0m\u001b[0m_parent_ident\u001b[0m\u001b[0;34m,\u001b[0m\u001b[0;34m\u001b[0m\u001b[0;34m\u001b[0m\u001b[0m\n\u001b[1;32m    862\u001b[0m             \u001b[0mself\u001b[0m\u001b[0;34m.\u001b[0m\u001b[0m_parent_header\u001b[0m\u001b[0;34m,\u001b[0m\u001b[0;34m\u001b[0m\u001b[0;34m\u001b[0m\u001b[0m\n",
      "\u001b[0;32m~/miniconda3/lib/python3.8/site-packages/ipykernel/kernelbase.py\u001b[0m in \u001b[0;36m_input_request\u001b[0;34m(self, prompt, ident, parent, password)\u001b[0m\n\u001b[1;32m    902\u001b[0m             \u001b[0;32mexcept\u001b[0m \u001b[0mKeyboardInterrupt\u001b[0m\u001b[0;34m:\u001b[0m\u001b[0;34m\u001b[0m\u001b[0;34m\u001b[0m\u001b[0m\n\u001b[1;32m    903\u001b[0m                 \u001b[0;31m# re-raise KeyboardInterrupt, to truncate traceback\u001b[0m\u001b[0;34m\u001b[0m\u001b[0;34m\u001b[0m\u001b[0;34m\u001b[0m\u001b[0m\n\u001b[0;32m--> 904\u001b[0;31m                 \u001b[0;32mraise\u001b[0m \u001b[0mKeyboardInterrupt\u001b[0m\u001b[0;34m(\u001b[0m\u001b[0;34m\"Interrupted by user\"\u001b[0m\u001b[0;34m)\u001b[0m \u001b[0;32mfrom\u001b[0m \u001b[0;32mNone\u001b[0m\u001b[0;34m\u001b[0m\u001b[0;34m\u001b[0m\u001b[0m\n\u001b[0m\u001b[1;32m    905\u001b[0m             \u001b[0;32mexcept\u001b[0m \u001b[0mException\u001b[0m \u001b[0;32mas\u001b[0m \u001b[0me\u001b[0m\u001b[0;34m:\u001b[0m\u001b[0;34m\u001b[0m\u001b[0;34m\u001b[0m\u001b[0m\n\u001b[1;32m    906\u001b[0m                 \u001b[0mself\u001b[0m\u001b[0;34m.\u001b[0m\u001b[0mlog\u001b[0m\u001b[0;34m.\u001b[0m\u001b[0mwarning\u001b[0m\u001b[0;34m(\u001b[0m\u001b[0;34m\"Invalid Message:\"\u001b[0m\u001b[0;34m,\u001b[0m \u001b[0mexc_info\u001b[0m\u001b[0;34m=\u001b[0m\u001b[0;32mTrue\u001b[0m\u001b[0;34m)\u001b[0m\u001b[0;34m\u001b[0m\u001b[0;34m\u001b[0m\u001b[0m\n",
      "\u001b[0;31mKeyboardInterrupt\u001b[0m: Interrupted by user"
     ]
    }
   ],
   "source": [
    "input('Press enter to load the video')\n",
    "video = []\n",
    "for i in range(nframes):\n",
    "    video.append(np.load(f'video2/{i}.npy'))"
   ]
  },
  {
   "cell_type": "code",
   "execution_count": 16,
   "metadata": {
    "code_folding": [
     0
    ],
    "collapsed": true
   },
   "outputs": [
    {
     "data": {
      "image/png": "[encoded data removed]",
      "text/plain": [
       "<Figure size 504x168 with 5 Axes>"
      ]
     },
     "metadata": {
      "needs_background": "light"
     },
     "output_type": "display_data"
    },
    {
     "data": {
      "image/png": "[encoded data removed]",
      "text/plain": [
       "<Figure size 936x432 with 2 Axes>"
      ]
     },
     "metadata": {
      "needs_background": "light"
     },
     "output_type": "display_data"
    },
    {
     "name": "stdout",
     "output_type": "stream",
     "text": [
      "False\n",
      "rmse: 3.845275205094367e-05 entropy: 1.8404123693471774e-05 0 1499\n"
     ]
    }
   ],
   "source": [
    "# run ergodic coverage\n",
    "nframes = 1500 # EK: added bc it was previously undefined unless ya run previous cells\n",
    "log = []\n",
    "history = []\n",
    "\n",
    "sigma_ekf = .012\n",
    "\n",
    "from scipy.stats import norm\n",
    "gaus_sd = .4\n",
    "\n",
    "mses_cam_alpha = []\n",
    "entropies_cam_alpha = []\n",
    "\n",
    "onp.random.seed(0)\n",
    "# target_is = onp.array([0])\n",
    "target_is = onp.random.choice(onp.arange(x1.shape[0]), p=p_dist.flatten(), size=30)\n",
    "for sim in [0]:#range(target_is.shape[0]):\n",
    "#     video = []\n",
    "#     for i in range(nframes):\n",
    "#         video.append(np.load(f'video{sim+1}/{i}.npy'))\n",
    "        \n",
    "    target_i = target_is[sim]\n",
    "    print(target_i)\n",
    "    dist_cur = p_dist.flatten()\n",
    "    x0 = np.array([0.2, 0.8])\n",
    "    u  = np.zeros((50,2))\n",
    "\n",
    "    opt_init, opt_update, get_params = optimizers.adam(1e-3)\n",
    "    opt_state = opt_init(u)\n",
    "\n",
    "    squared_dist = (x1[target_i] - x1)**2 + (x2[target_i] - x2)**2 \n",
    "    \n",
    "#     gnd_truth_dist = np.ones(size**2)\n",
    "#     gnd_truth_dist = gnd_truth_dist / np.sum(gnd_truth_dist)\n",
    "    \n",
    "    mses_run = []\n",
    "    entropies_run = []\n",
    "    mse = onp.sum(dist_cur * squared_dist)\n",
    "    mses_run.append(mse)\n",
    "    entropy = -onp.sum(dist_cur[dist_cur!=0] * onp.log(dist_cur[dist_cur!=0]))\n",
    "    entropies_run.append(entropy)\n",
    "    for i in range(nframes):\n",
    "        # apply gaussian movement noise for the target\n",
    "#         dist_cur = gaussian_filter(dist_cur.reshape((size, size)), sigma=sigma_ekf*size).flatten()\n",
    "#         dist_cur = dist_cur / onp.sum(dist_cur)\n",
    "        \n",
    "#         gnd_truth_dist = gaussian_filter(gnd_truth_dist.reshape((size, size)), sigma=sigma_ekf*size).flatten()\n",
    "#         gnd_truth_dist = gnd_truth_dist / onp.sum(gnd_truth_dist)\n",
    "\n",
    "        mi_dist = mi(dist_cur.reshape((size, size)), rect_dims)\n",
    "        if np.max(mi_dist) < 1e-9:\n",
    "            mi_dist_normed = np.ones((size, size)) / size**2\n",
    "        else:\n",
    "            mi_dist_normed = mi_dist / np.sum(mi_dist)\n",
    "        phik = np.dot(vmap(fk_vmap, in_axes=(None, 0))(xvec, k), mi_dist_normed.flatten())\n",
    "        phik = phik/phik[0]\n",
    "        phik = phik/hk\n",
    "\n",
    "        history.append(x0.copy())\n",
    "        for j in range(5):\n",
    "            g = dl(u, x0, phik, k, np.stack(history[-100:]))\n",
    "            u = u - 1e-3 * g\n",
    "    \n",
    "        x0, _ = f(x0, u[0])\n",
    "#         px_x1 = int(x0[1] * image_size[0])\n",
    "#         px_x2 = int(x0[0] * image_size[1])\n",
    "        \n",
    "#         bounding_box = [px_x1 - 100, px_x1 + 100, px_x2 - 100, px_x2 + 100]\n",
    "\n",
    "        inside_fp = (\n",
    "            (x1 > (x0[0] - rect_dims[0] / 2)) & (x1 < (x0[0] + rect_dims[0] / 2)) &\n",
    "            (x2 > (x0[1] - rect_dims[1] / 2)) & (x2 < (x0[1] + rect_dims[1] / 2))\n",
    "        )\n",
    "        # simulate observations\n",
    "        if (\n",
    "            (inside_fp[target_i] and onp.random.random() < T) or\n",
    "            (not inside_fp[target_i] and onp.random.random() < F)\n",
    "        ):\n",
    "            # see the target\n",
    "#             dist_cur[inside_fp] *= T * norm.pdf(np.sqrt((x1[inside_fp] - x0[0])**2 + (x2[inside_fp] - x0[1])**2), scale=gaus_sd)\n",
    "            dist_cur[inside_fp] *= T\n",
    "            dist_cur[~inside_fp] *= F\n",
    "        else:\n",
    "            dist_cur[inside_fp] *= (1 - T)\n",
    "            dist_cur[~inside_fp] *= (1 - F)\n",
    "\n",
    "#         true_image_index = onp.unravel_index(onp.argmax(sensor._red_ratio(video[i])), video[i].shape[0:2])\n",
    "#         true_loc = true_image_index / onp.array([480, 640])\n",
    "#         dists = onp.sqrt(onp.square(x1 - true_loc[0]) + onp.square(x2 - true_loc[1]))\n",
    "#         gnd_truth_dist = (gnd_truth_dist * .1) + (gnd_truth_dist * .9 * norm.pdf(dists, scale=.05))\n",
    "#         x1_est = x2[onp.argmax(gnd_truth_dist)]\n",
    "#         x2_est = x1[onp.argmax(gnd_truth_dist)]\n",
    "#         squared_dist = onp.square(x1_est - x1) + onp.square(x2_est - x2)\n",
    "            \n",
    "#         # get observations from the classifier\n",
    "#         if sensor.get_predictions(i, video, [bounding_box])[0]:\n",
    "#             # see the target\n",
    "#             dist_cur[inside_fp] *= T #* norm.pdf(np.sqrt((x1[inside_fp] - x0[0])**2 + (x2[inside_fp] - x0[1])**2), scale=gaus_sd)\n",
    "#             dist_cur[~inside_fp] *= F\n",
    "#         else:\n",
    "#             # don't see the target\n",
    "#             dist_cur[inside_fp] *= (1 - T)\n",
    "#             dist_cur[~inside_fp] *= (1 - F)\n",
    "\n",
    "        dist_cur = dist_cur / onp.sum(dist_cur)\n",
    "\n",
    "        mse = onp.sum(dist_cur * squared_dist)\n",
    "        mses_run.append(mse)\n",
    "        entropy = -onp.sum(dist_cur[dist_cur!=0] * onp.log(dist_cur[dist_cur!=0]))\n",
    "        entropies_run.append(entropy)\n",
    "        \n",
    "        u = index_update(u, index[:-1,:], u[1:,:])\n",
    "        u = index_update(u, index[-1,:], 0.)\n",
    "        if i % 1 == 0:\n",
    "            log.append(fourier_ergodic_loss(u, x0, phik, k, np.stack(history[-10:])).copy())\n",
    "            xf, tr = scan(f, x0, u)\n",
    "\n",
    "#             fig, (ax1, ax2, ax3) = plt.subplots(1, 3, figsize=(13, 6))\n",
    "            fig, (ax1, ax2) = plt.subplots(1, 2, figsize=(13, 6))\n",
    "            im1 = ax1.contourf(x1g, x2g, mi_dist.reshape((size, size)), cmap='gray')#, extent=(0,1,0,1))\n",
    "#             fig.colorbar(im1, ax=ax1)\n",
    "#             ax1.add_patch(\n",
    "#                 Rectangle(\n",
    "#                     [x0[0] - rect_dims[0]/2, x0[1] - rect_dims[1]/2], \n",
    "#                     rect_dims[0], rect_dims[1], \n",
    "#                     color='mediumseagreen', fill=False, lw=4\n",
    "#                 )\n",
    "#             )\n",
    "            ax1.add_patch(\n",
    "                Rectangle(\n",
    "                    [x0[0] - rect_dims[0]/2, x0[1] - rect_dims[1]/2], \n",
    "                    rect_dims[0], rect_dims[1], \n",
    "                    color='mediumseagreen', fill=False, lw=4\n",
    "                )\n",
    "            )\n",
    "            \n",
    "            ax1.scatter(tr[:,0],tr[:,1], c='dodgerblue')\n",
    "            ax1.scatter(x0[0], x0[1], c='darkorange')\n",
    "#             ax1.scatter(x1_est, x2_est, c='red', marker='x', s=100)\n",
    "            ax1.scatter(x1[target_i], x2[target_i], c='red', marker='x', s=100)\n",
    "            im2 = ax2.contourf(x1g, x2g, dist_cur.reshape((size, size)), cmap='gray')\n",
    "#             fig.colorbar(im2, ax=ax2)\n",
    "            \n",
    "#             ax2.scatter(x1[target_i], x2[target_i], c='red', marker='x')\n",
    "            \n",
    "#             sensor.show(i, video, [bounding_box], ax3)\n",
    "#             ax2.imshow(video[i], extent=(0, 1, 1, 0))\n",
    "#             high_prob = dist_cur > (.1 * onp.max(dist_cur))\n",
    "#             ax2.contour(\n",
    "#                 x1g, x2g, dist_cur.reshape((size, size)), \n",
    "#                 levels=5, colors='red', linewidths=3, alpha=.3\n",
    "#             )\n",
    "            ax2.add_patch(\n",
    "                Rectangle(\n",
    "                    [x0[0] - rect_dims[0]/2, x0[1] - rect_dims[1]/2], \n",
    "                    rect_dims[0], rect_dims[1], \n",
    "                    color='mediumseagreen', fill=False, lw=4\n",
    "                )\n",
    "            )\n",
    "            ax2.scatter(tr[:,0],tr[:,1], c='dodgerblue')\n",
    "            ax2.scatter(x0[0], x0[1], c='darkorange')\n",
    "#             ax2.scatter(x1_est, x2_est, c='red', marker='x', s=100)\n",
    "            ax2.scatter(x1[target_i], x2[target_i], c='red', marker='x', s=100)\n",
    "\n",
    "            ax1.set_xlim(0, 1)\n",
    "            ax1.set_ylim(1, 0)\n",
    "            ax2.set_xlim(0, 1)\n",
    "            ax2.set_ylim(1, 0)\n",
    "            ax1.axis('off')\n",
    "#             ax1.axis('equal')\n",
    "            ax2.axis('off')\n",
    "#             ax2.axis('equal')\n",
    "#             ax2.axis('equal')\n",
    "#             ax3.axis('off')\n",
    "#             ax3.axis('equal')\n",
    "#             ax2.axis('equal')\n",
    "    #         plt.ylim(0,1)\n",
    "    #         plt.xlim(0,1)\n",
    "#             ax1.axis('equal')\n",
    "#             ax2.axis('equal')\n",
    "    #         ax3.axis('equal')\n",
    "\n",
    "            fig.savefig(f'frames_demo/{i:04d}.pdf')\n",
    "            plt.pause(.001)\n",
    "            plt.show()\n",
    "            \n",
    "            print(inside_fp[target_i])\n",
    "            print(f'rmse: {np.sqrt(mse)} entropy: {entropy}', sim, i)\n",
    "            clear_output(wait=True)\n",
    "    mses_cam_alpha.append(mses_run)\n",
    "    entropies_cam_alpha.append(entropies_run) "
   ]
  },
  {
   "cell_type": "code",
   "execution_count": null,
   "metadata": {},
   "outputs": [
    {
     "name": "stdout",
     "output_type": "stream",
     "text": [
      "press enter if you want to override the old data\n"
     ]
    }
   ],
   "source": [
    "input('press enter if you want to override the old data')\n",
    "np.save('mses_cam_mi.npy', np.array(mses_cam_mi))\n",
    "np.save('entropies_cam_mi.npy', np.array(entropies_cam_mi))"
   ]
  },
  {
   "cell_type": "code",
   "execution_count": null,
   "metadata": {},
   "outputs": [
    {
     "name": "stdout",
     "output_type": "stream",
     "text": [
      "press enter if you want to override the old data\n"
     ]
    }
   ],
   "source": [
    "input('press enter if you want to override the old data')\n",
    "np.save('mses_cam_p.npy', np.array(mses_cam_p))\n",
    "np.save('entropies_cam_p.npy', np.array(entropies_cam_p))"
   ]
  },
  {
   "cell_type": "code",
   "execution_count": null,
   "metadata": {},
   "outputs": [
    {
     "name": "stdout",
     "output_type": "stream",
     "text": [
      "press enter if you want to override the old data\n"
     ]
    }
   ],
   "source": [
    "input('press enter if you want to override the old data')\n",
    "np.save('mses_cam_bias.npy', np.array(mses_cam_bias))\n",
    "np.save('entropies_cam_bias.npy', np.array(entropies_cam_bias))"
   ]
  },
  {
   "cell_type": "code",
   "execution_count": null,
   "metadata": {},
   "outputs": [
    {
     "name": "stdout",
     "output_type": "stream",
     "text": [
      "press enter if you want to override the old data\n"
     ]
    }
   ],
   "source": [
    "input('press enter if you want to override the old data')\n",
    "np.save('mses_cam_alpha.npy', np.array(mses_cam_alpha))\n",
    "np.save('entropies_cam_alpha.npy', np.array(entropies_cam_alpha))"
   ]
  },
  {
   "cell_type": "code",
   "execution_count": null,
   "metadata": {},
   "outputs": [
    {
     "name": "stdout",
     "output_type": "stream",
     "text": [
      "press enter if you want to override the old data\n"
     ]
    }
   ],
   "source": [
    "input('press enter if you want to override the old data')\n",
    "np.save('mses_alpha.npy', np.array(mses_alpha))\n",
    "np.save('entropies_alpha.npy', np.array(entropies_alpha))"
   ]
  },
  {
   "cell_type": "code",
   "execution_count": null,
   "metadata": {},
   "outputs": [
    {
     "name": "stdout",
     "output_type": "stream",
     "text": [
      "press enter if you want to override the old data\n"
     ]
    }
   ],
   "source": [
    "input('press enter if you want to override the old data')\n",
    "np.save('mses_biased.npy', np.array(mses_biased))\n",
    "np.save('entropies_biased.npy', np.array(entropies_biased))"
   ]
  },
  {
   "cell_type": "code",
   "execution_count": null,
   "metadata": {},
   "outputs": [
    {
     "name": "stdout",
     "output_type": "stream",
     "text": [
      "press enter if you want to override the old data\n"
     ]
    }
   ],
   "source": [
    "input('press enter if you want to override the old data')\n",
    "np.save('mses_mi.npy', np.array(mses_mi))\n",
    "np.save('entropies_mi.npy', np.array(entropies_mi))"
   ]
  },
  {
   "cell_type": "code",
   "execution_count": null,
   "metadata": {},
   "outputs": [
    {
     "name": "stdout",
     "output_type": "stream",
     "text": [
      "press enter if you want to override the old data\n"
     ]
    }
   ],
   "source": [
    "input('press enter if you want to override the old data')\n",
    "np.save('mses_p.npy', np.array(mses_p))\n",
    "np.save('entropies_p.npy', np.array(entropies_p))"
   ]
  },
  {
   "cell_type": "code",
   "execution_count": 18,
   "metadata": {},
   "outputs": [],
   "source": [
    "input('press enter if you want to load the data')\n",
    "mses_mi = np.load('mses_mi.npy')\n",
    "entropies_mi = np.load('entropies_mi.npy')"
   ]
  },
  {
   "cell_type": "code",
   "execution_count": 19,
   "metadata": {},
   "outputs": [],
   "source": [
    "input('press enter if you want to load the data')\n",
    "mses_alpha = np.load('mses_alpha.npy')\n",
    "entropies_alpha = np.load('entropies_alpha.npy')"
   ]
  },
  {
   "cell_type": "code",
   "execution_count": 20,
   "metadata": {},
   "outputs": [],
   "source": [
    "input('press enter if you want to load the data')\n",
    "mses_biased = np.load('mses_biased.npy')\n",
    "entropies_biased = np.load('entropies_biased.npy')"
   ]
  },
  {
   "cell_type": "code",
   "execution_count": 21,
   "metadata": {},
   "outputs": [],
   "source": [
    "input('press enter if you want to load the data')\n",
    "mses_p = np.load('mses_p.npy')\n",
    "entropies_p = np.load('entropies_p.npy')"
   ]
  },
  {
   "cell_type": "code",
   "execution_count": 22,
   "metadata": {},
   "outputs": [],
   "source": [
    "input('press enter if you want to load the data')\n",
    "mses_cam_p = np.load('mses_cam_p.npy')\n",
    "entropies_cam_p = np.load('entropies_cam_p.npy')\n",
    "mses_cam_mi = np.load('mses_cam_mi.npy')\n",
    "entropies_cam_mi = np.load('entropies_cam_mi.npy')\n",
    "mses_cam_alpha = np.load('mses_cam_alpha.npy')\n",
    "entropies_cam_alpha = np.load('entropies_cam_alpha.npy')\n",
    "mses_cam_bias = np.load('mses_cam_bias.npy')\n",
    "entropies_cam_bias = np.load('entropies_cam_bias.npy')"
   ]
  },
  {
   "cell_type": "code",
   "execution_count": 23,
   "metadata": {
    "code_folding": []
   },
   "outputs": [
    {
     "data": {
      "image/png": "[encoded data removed]",
      "text/plain": [
       "<Figure size 288x288 with 1 Axes>"
      ]
     },
     "metadata": {
      "needs_background": "light"
     },
     "output_type": "display_data"
    },
    {
     "data": {
      "image/png": "[encoded data removed]",
      "text/plain": [
       "<Figure size 288x288 with 1 Axes>"
      ]
     },
     "metadata": {
      "needs_background": "light"
     },
     "output_type": "display_data"
    }
   ],
   "source": [
    "# simulation plots\n",
    "from scipy.stats import sem\n",
    "ts = np.arange(mses_p.shape[1])\n",
    "\n",
    "colors = ['#3CB371', '#FF8C00', '#FF3A3A', '#1E90FF']\n",
    "\n",
    "mean_mse_p = onp.mean(np.sqrt(mses_p), axis=0)\n",
    "sem_mse_p = sem(np.sqrt(mses_p), axis=0)\n",
    "mean_mse_bias = onp.mean(np.sqrt(mses_biased), axis=0)\n",
    "sem_mse_bias = sem(np.sqrt(mses_biased), axis=0)\n",
    "mean_mse_mi = onp.mean(np.sqrt(mses_mi), axis=0)\n",
    "sem_mse_mi = sem(np.sqrt(mses_mi), axis=0)\n",
    "mean_mse_alpha = onp.mean(np.sqrt(mses_alpha), axis=0)\n",
    "sem_mse_alpha = sem(np.sqrt(mses_alpha), axis=0)\n",
    "# mean_mse_uni = onp.mean(mses_uni, axis=0)\n",
    "# sem_mse_uni = sem(mses_uni, axis=0)\n",
    "\n",
    "plt.figure(figsize=(4, 4))\n",
    "plt.fill_between(ts, mean_mse_p - 2*sem_mse_p, mean_mse_p + 2*sem_mse_p, alpha=.3, color=colors[0])\n",
    "plt.fill_between(ts, mean_mse_bias - 2*sem_mse_bias, mean_mse_bias + 2*sem_mse_bias, alpha=.3, color=colors[1])\n",
    "plt.fill_between(ts, mean_mse_mi - 2*sem_mse_mi, mean_mse_mi + 2*sem_mse_mi, alpha=.3, color=colors[2])\n",
    "plt.fill_between(ts, mean_mse_alpha - 2*sem_mse_alpha, mean_mse_alpha + 2*sem_mse_alpha, alpha=.3, color=colors[3])\n",
    "# plt.fill_between(ts, mean_mse_uni - 2*sem_mse_uni, mean_mse_uni + 2*sem_mse_uni, alpha=.5)\n",
    "plt.plot(ts, mean_mse_p, label='Naive Unbiased', color=colors[0])\n",
    "plt.plot(ts, mean_mse_bias, label='Naive Biased (handcrafted)', color=colors[1])\n",
    "plt.plot(ts, mean_mse_mi, label='Covering MI', color=colors[2])\n",
    "plt.plot(ts, mean_mse_alpha, label='Covering alpha-MI', color=colors[3])\n",
    "# plt.plot(ts, mean_mse_uni, label='Uniform')\n",
    "plt.legend()\n",
    "plt.xlabel('Number of Observations')\n",
    "plt.ylabel('RMSE')\n",
    "# plt.title('MSE vs. Time')\n",
    "plt.savefig('rmse.pdf')\n",
    "plt.show()\n",
    "\n",
    "mean_ent_p = onp.mean(entropies_p, axis=0)\n",
    "sem_ent_p = sem(entropies_p, axis=0)\n",
    "mean_ent_bias = onp.mean(entropies_biased, axis=0)\n",
    "sem_ent_bias = sem(entropies_biased, axis=0)\n",
    "mean_ent_mi = onp.mean(entropies_mi, axis=0)\n",
    "sem_ent_mi = sem(entropies_mi, axis=0)\n",
    "mean_ent_alpha = onp.mean(entropies_alpha, axis=0)\n",
    "sem_ent_alpha = sem(entropies_alpha, axis=0)\n",
    "\n",
    "plt.figure(figsize=(4, 4))\n",
    "plt.fill_between(ts, mean_ent_p - 2*sem_ent_p, mean_ent_p + 2*sem_ent_p, alpha=.3, color=colors[0])\n",
    "plt.fill_between(ts, mean_ent_bias - 2*sem_ent_bias, mean_ent_bias + 2*sem_ent_bias, alpha=.3, color=colors[1])\n",
    "plt.fill_between(ts, mean_ent_mi - 2*sem_ent_mi, mean_ent_mi + 2*sem_ent_mi, alpha=.3, color=colors[2])\n",
    "plt.fill_between(ts, mean_ent_alpha - 2*sem_ent_alpha, mean_ent_alpha + 2*sem_ent_alpha, alpha=.3, color=colors[3])\n",
    "# plt.fill_between(ts, mean_ent_uni - 2*sem_ent_uni, mean_ent_uni + 2*sem_ent_uni, alpha=.5)\n",
    "plt.plot(ts, mean_ent_p, label='Naive Unbiased', color=colors[0])\n",
    "plt.plot(ts, mean_ent_bias, label='Naive Biased (handcrafted)', color=colors[1])\n",
    "plt.plot(ts, mean_ent_mi, label='Covering MI', color=colors[2])\n",
    "plt.plot(ts, mean_ent_alpha, label='Covering alpha-MI', color=colors[3])\n",
    "# plt.plot(ts, mean_ent_uni, label='Uniform')\n",
    "plt.legend()\n",
    "plt.xlabel('Number of Observations')\n",
    "plt.ylabel('Entropy')\n",
    "plt.savefig('entropy.pdf')\n",
    "# plt.title('Entropy vs. Time')\n",
    "plt.show()"
   ]
  },
  {
   "cell_type": "code",
   "execution_count": 24,
   "metadata": {
    "code_folding": [],
    "scrolled": false
   },
   "outputs": [
    {
     "name": "stderr",
     "output_type": "stream",
     "text": [
      "/home/enko/.local/lib/python3.9/site-packages/seaborn/_decorators.py:36: FutureWarning: Pass the following variables as keyword args: x, y. From version 0.12, the only valid positional argument will be `data`, and passing other arguments without an explicit keyword will result in an error or misinterpretation.\n",
      "  warnings.warn(\n"
     ]
    },
    {
     "data": {
      "image/png": "[encoded data removed]",
      "text/plain": [
       "<Figure size 288x288 with 1 Axes>"
      ]
     },
     "metadata": {
      "needs_background": "light"
     },
     "output_type": "display_data"
    },
    {
     "name": "stderr",
     "output_type": "stream",
     "text": [
      "/home/enko/.local/lib/python3.9/site-packages/seaborn/_decorators.py:36: FutureWarning: Pass the following variables as keyword args: x, y. From version 0.12, the only valid positional argument will be `data`, and passing other arguments without an explicit keyword will result in an error or misinterpretation.\n",
      "  warnings.warn(\n"
     ]
    },
    {
     "data": {
      "image/png": "[encoded data removed]",
      "text/plain": [
       "<Figure size 288x288 with 1 Axes>"
      ]
     },
     "metadata": {
      "needs_background": "light"
     },
     "output_type": "display_data"
    }
   ],
   "source": [
    "# camera plots\n",
    "from scipy.stats import sem\n",
    "import seaborn as sns\n",
    "ts = onp.arange(mses_cam_p.shape[1])\n",
    "\n",
    "palette = sns.color_palette(colors)\n",
    "\n",
    "# bandwidth = 200\n",
    "# nt = int(np.ceil(-np.log(.01) * bandwidth))\n",
    "# dt = np.arange(-nt, nt+1)\n",
    "# weights = np.exp(-np.abs(dt) / bandwidth)\n",
    "# weights = weights / np.sum(weights)\n",
    "# cumweight = onp.cumsum(weights)\n",
    "    \n",
    "# def smooth(original):\n",
    "#     smoothed = correlate(original, weights[None, :], mode='same')\n",
    "#     smoothed[:, 0:nt] = smoothed[:, 0:nt] / cumweight[None, nt:2*nt]\n",
    "#     smoothed[:, -nt:] = smoothed[:, -nt:] / onp.flip(cumweight[None, nt:2*nt])\n",
    "#     return smoothed\n",
    "\n",
    "# for i in range(mses_cam_p.shape[0]):\n",
    "#     plt.plot(ts, np.sqrt(mses_cam_p[i, :]), c='r')\n",
    "\n",
    "# smooth_mses_cam_p = smooth(mses_cam_p)\n",
    "# for i in range(mses_cam_p.shape[0]):\n",
    "#     plt.plot(ts, np.sqrt(smooth_mses_cam_p[i, :]), c='b')\n",
    "# plt.show()\n",
    "\n",
    "# def smooth(original):\n",
    "#     smoothed = correlate(original, weights, mode='same')\n",
    "#     smoothed[0:nt] = smoothed[0:nt] / cumweight[nt:2*nt]\n",
    "#     smoothed[-nt:] = smoothed[-nt:] / onp.flip(cumweight[nt:2*nt])\n",
    "#     return smoothed\n",
    "\n",
    "# mean_mse_p = onp.mean(smooth(np.sqrt(mses_cam_p)), axis=0)\n",
    "# sem_mse_p = sem(smooth(np.sqrt(mses_cam_p)), axis=0)\n",
    "# mean_mse_bias = onp.mean(smooth(np.sqrt(mses_cam_bias)), axis=0)\n",
    "# sem_mse_bias = sem(smooth(np.sqrt(mses_cam_bias)), axis=0)\n",
    "# mean_mse_mi = onp.mean(smooth(np.sqrt(mses_cam_mi)), axis=0)\n",
    "# sem_mse_mi = sem(smooth(np.sqrt(mses_cam_mi)), axis=0)\n",
    "# mean_mse_alpha = onp.mean(smooth(np.sqrt(mses_cam_alpha)), axis=0)\n",
    "# sem_mse_alpha = sem(smooth(np.sqrt(mses_cam_alpha)), axis=0)\n",
    "# # mean_mse_uni = onp.mean(mses_uni, axis=0)\n",
    "# # sem_mse_uni = sem(mses_uni, axis=0)\n",
    "\n",
    "# plt.figure(figsize=(5, 5))\n",
    "# plt.fill_between(ts, mean_mse_p - 2*sem_mse_p, mean_mse_p + 2*sem_mse_p, alpha=.2, color=colors[0])\n",
    "# plt.fill_between(ts, mean_mse_bias - 2*sem_mse_bias, mean_mse_bias + 2*sem_mse_bias, alpha=.2, color=colors[1])\n",
    "# plt.fill_between(ts, mean_mse_mi - 2*sem_mse_mi, mean_mse_mi + 2*sem_mse_mi, alpha=.2, color=colors[2])\n",
    "# plt.fill_between(ts, mean_mse_alpha - 2*sem_mse_alpha, mean_mse_alpha + 2*sem_mse_alpha, alpha=.2, color=colors[3])\n",
    "# # plt.fill_between(ts, mean_mse_uni - 2*sem_mse_uni, mean_mse_uni + 2*sem_mse_uni, alpha=.5)\n",
    "# plt.plot(ts, mean_mse_p, label='Naive Unbiased', color=colors[0])\n",
    "# plt.plot(ts, mean_mse_bias, label='Naive Biased (handcrafted)', color=colors[1])\n",
    "# plt.plot(ts, mean_mse_mi, label='Covering MI', color=colors[2])\n",
    "# plt.plot(ts, mean_mse_alpha, label='Covering alpha-MI', color=colors[3])\n",
    "# # plt.plot(ts, mean_mse_uni, label='Uniform')\n",
    "# plt.legend()\n",
    "# plt.xlabel('Number of Observations')\n",
    "# plt.ylabel('RMSE')\n",
    "# # plt.title('MSE vs. Time')\n",
    "# plt.savefig('rmse_cam.pdf')\n",
    "# plt.show()\n",
    "\n",
    "# ts = 200\n",
    "# plt.figure(figsize=(10, 10))\n",
    "# n = mses_cam_p[:, 0:ts].flatten().shape[0]\n",
    "# labels = ['Naive Unbiased']*n + ['Naive Biased (handcrafted)']*n + ['Covering MI']*n + ['Covering alpha-MI']*n\n",
    "# values = np.concatenate([\n",
    "#     np.sqrt(mses_cam_p[:, 0:ts]).flatten(),\n",
    "#     np.sqrt(mses_cam_bias[:, 0:ts]).flatten(),\n",
    "#     np.sqrt(mses_cam_mi[:, 0:ts]).flatten(),\n",
    "#     np.sqrt(mses_cam_alpha[:, 0:ts]).flatten()\n",
    "# ])\n",
    "# sns.barplot(labels, values, capsize=.2, ci=95, palette=palette)\n",
    "# plt.ylabel('RMSE (before time 200)')\n",
    "# plt.show()\n",
    "\n",
    "ts = 300\n",
    "plt.figure(figsize=(4, 4))\n",
    "n = mses_cam_p[:, ts:].flatten().shape[0]\n",
    "labels = (\n",
    "    ['Naive\\nUnbiased']*n + ['Naive\\nBiased\\n(handcrafted)']*n + \n",
    "    ['Covering\\nMI']*n + ['Covering\\nalpha-MI']*n\n",
    ")\n",
    "values = np.concatenate([\n",
    "    np.sqrt(mses_cam_p[:, ts:]).flatten(),\n",
    "    np.sqrt(mses_cam_bias[:, ts:]).flatten(),\n",
    "    np.sqrt(mses_cam_mi[:, ts:]).flatten(),\n",
    "    np.sqrt(mses_cam_alpha[:, ts:]).flatten()\n",
    "])\n",
    "sns.barplot(labels, values, capsize=.2, ci=95, palette=palette)\n",
    "plt.ylabel('RMSE')\n",
    "plt.savefig('rmse_after200.pdf')\n",
    "plt.show()\n",
    "\n",
    "# mean_ent_p = onp.mean(smooth(entropies_cam_p), axis=0)\n",
    "# sem_ent_p = sem(smooth(entropies_cam_p), axis=0)\n",
    "# mean_ent_bias = onp.mean(smooth(entropies_cam_bias), axis=0)\n",
    "# sem_ent_bias = sem(smooth(entropies_cam_bias), axis=0)\n",
    "# mean_ent_mi = onp.mean(smooth(entropies_cam_mi), axis=0)\n",
    "# sem_ent_mi = sem(smooth(entropies_cam_mi), axis=0)\n",
    "# mean_ent_alpha = onp.mean(smooth(entropies_cam_alpha), axis=0)\n",
    "# sem_ent_alpha = sem(smooth(entropies_cam_alpha), axis=0)\n",
    "\n",
    "# plt.figure(figsize=(5, 5))\n",
    "# plt.fill_between(ts, mean_ent_p - 2*sem_ent_p, mean_ent_p + 2*sem_ent_p, alpha=.2, color=colors[0])\n",
    "# plt.fill_between(ts, mean_ent_bias - 2*sem_ent_bias, mean_ent_bias + 2*sem_ent_bias, alpha=.2, color=colors[1])\n",
    "# plt.fill_between(ts, mean_ent_mi - 2*sem_ent_mi, mean_ent_mi + 2*sem_ent_mi, alpha=.2, color=colors[2])\n",
    "# plt.fill_between(ts, mean_ent_alpha - 2*sem_ent_alpha, mean_ent_alpha + 2*sem_ent_alpha, alpha=.2, color=colors[3])\n",
    "# # plt.fill_between(ts, mean_ent_uni - 2*sem_ent_uni, mean_ent_uni + 2*sem_ent_uni, alpha=.5)\n",
    "# plt.plot(ts, mean_ent_p, label='Naive Unbiased', color=colors[0])\n",
    "# plt.plot(ts, mean_ent_bias, label='Naive Biased (handcrafted)', color=colors[1])\n",
    "# plt.plot(ts, mean_ent_mi, label='Covering MI', color=colors[2])\n",
    "# plt.plot(ts, mean_ent_alpha, label='Covering alpha-MI', color=colors[3])\n",
    "# # plt.plot(ts, mean_ent_uni, label='Uniform')\n",
    "# plt.legend()\n",
    "# plt.xlabel('Number of Observations')\n",
    "# plt.ylabel('Entropy')\n",
    "# # plt.title('Entropy vs. Time')\n",
    "# plt.savefig('entropy_cam.pdf')\n",
    "# plt.show()\n",
    "\n",
    "plt.figure(figsize=(4, 4))\n",
    "values = np.concatenate([\n",
    "    np.sqrt(entropies_cam_p[:, ts:]).flatten(),\n",
    "    np.sqrt(entropies_cam_bias[:, ts:]).flatten(),\n",
    "    np.sqrt(entropies_cam_mi[:, ts:]).flatten(),\n",
    "    np.sqrt(entropies_cam_alpha[:, ts:]).flatten()\n",
    "])\n",
    "sns.barplot(labels, values, capsize=.2, ci=95, palette=palette)\n",
    "# plt.legend()\n",
    "# plt.xticks(rotation=10, ha='right')\n",
    "plt.ylabel('Entropy')\n",
    "plt.savefig('entropy_after200.pdf')\n",
    "plt.show()"
   ]
  },
  {
   "cell_type": "code",
   "execution_count": null,
   "metadata": {},
   "outputs": [
    {
     "name": "stdout",
     "output_type": "stream",
     "text": [
      "0.0\n",
      "0.03135912\n",
      "0.40455848\n",
      "0.33716166\n"
     ]
    }
   ],
   "source": [
    "print(np.mean((np.sqrt(mses_cam_p[:, ts:]) - np.sqrt(mses_cam_p[:, ts:]))) / np.mean(np.sqrt(mses_cam_p[:, ts:])))\n",
    "print(np.mean((np.sqrt(mses_cam_p[:, ts:]) - np.sqrt(mses_cam_bias[:, ts:]))) / np.mean(np.sqrt(mses_cam_p[:, ts:])))\n",
    "print(np.mean((np.sqrt(mses_cam_p[:, ts:]) - np.sqrt(mses_cam_mi[:, ts:]))) / np.mean(np.sqrt(mses_cam_p[:, ts:])))\n",
    "print(np.mean((np.sqrt(mses_cam_p[:, ts:]) - np.sqrt(mses_cam_alpha[:, ts:]))) / np.mean(np.sqrt(mses_cam_p[:, ts:])))"
   ]
  },
  {
   "cell_type": "code",
   "execution_count": 25,
   "metadata": {},
   "outputs": [
    {
     "name": "stdout",
     "output_type": "stream",
     "text": [
      "0.12856422 0.13027802 0.12685043\n"
     ]
    }
   ],
   "source": [
    "mean = np.mean(np.sqrt(mses_cam_alpha))\n",
    "se = sem(np.sqrt(mses_cam_alpha).flatten())\n",
    "print(mean, mean+2*se, mean-2*se)"
   ]
  },
  {
   "cell_type": "code",
   "execution_count": 42,
   "metadata": {},
   "outputs": [
    {
     "data": {
      "image/png": "[encoded data removed]",
      "text/plain": [
       "<Figure size 432x288 with 1 Axes>"
      ]
     },
     "metadata": {
      "needs_background": "light"
     },
     "output_type": "display_data"
    }
   ],
   "source": [
    "log = []\n",
    "history = np.array([x0])\n",
    "for i in range(1500):\n",
    "    g = dl(get_params(opt_state), x0, phik, k, history) # EK: fourier_ergodic_loss needs history parameter\n",
    "    opt_state = opt_update(i, g, opt_state)\n",
    "    \n",
    "    if (i) % 100 == 0:\n",
    "        u = get_params(opt_state)\n",
    "        log.append(fourier_ergodic_loss(u, x0, phik, k, history).copy()) # EK: fourier_ergodic_loss needs history parameter\n",
    "        clear_output(wait=True)\n",
    "        xf, tr = scan(f, x0, u) #########3not sure how to resolve\n",
    "        # history = cat([tr, history])\n",
    "        \n",
    "        clear_output(wait=True)\n",
    "        plt.contourf(x1g, x2g, phik_recon)\n",
    "        plt.scatter(tr[:,0],tr[:,1], c='m')\n",
    "#         plt.ylim(0,1)\n",
    "#         plt.xlim(0,1)\n",
    "        plt.pause(0.001)\n",
    "        i+=1\n",
    "        plt.show()"
   ]
  },
  {
   "cell_type": "code",
   "execution_count": null,
   "metadata": {
    "scrolled": true
   },
   "outputs": [],
   "source": [
    "for t in range(tr.shape[0]):\n",
    "    fig, ax = plt.subplots()\n",
    "    ax.contourf(x1g, x2g, phik_recon)\n",
    "    ax.plot(tr[:t+1,0],tr[:t+1,1], c='m')\n",
    "    footprint = Circle(tr[t,:2], r, fill=False)\n",
    "    ax.add_patch(footprint)\n",
    "    ax.set_xlim(0, 1)\n",
    "    ax.set_ylim(0, 1)\n",
    "    fig.savefig(f'frames/{t:04d}.jpg')\n",
    "    plt.show()"
   ]
  },
  {
   "cell_type": "code",
   "execution_count": null,
   "metadata": {},
   "outputs": [],
   "source": [
    "# ck reconstruction\n",
    "ck = get_ck(tr, k)\n",
    "ck_recon = np.dot(ck, vmap(fk_vmap, in_axes=(None, 0))(xy, k)).reshape((size, size))\n",
    "plt.contourf(x1g, x2g, ck_recon)\n",
    "plt.scatter(tr[:,0],tr[:,1], c='m', alpha=.5)\n",
    "plt.colorbar()"
   ]
  },
  {
   "cell_type": "code",
   "execution_count": null,
   "metadata": {},
   "outputs": [],
   "source": [
    "def simulate_errors(distribution, x1, x2, traj, r, T, nsim=500):\n",
    "    entropies = onp.zeros((nsim, traj.shape[0]))\n",
    "    mses = onp.zeros((nsim, traj.shape[0]))\n",
    "    for i in range(nsim):\n",
    "        print(i)\n",
    "        dist_cur = distribution.flatten()\n",
    "        target_i = onp.random.choice(onp.arange(x1.shape[0]), p=distribution.flatten())\n",
    "        for t in range(traj.shape[0]):\n",
    "            inside_fp = ((traj[t, 0] - x1)**2 + (traj[t, 1] - x2)**2) < r**2\n",
    "            if inside_fp[target_i] and (onp.random.random() < T):\n",
    "                # see the target\n",
    "                dist_cur[~inside_fp] = 0\n",
    "            else:\n",
    "                # don't see the target\n",
    "                dist_cur[inside_fp] = dist_cur[inside_fp] * (1 - T)\n",
    "            dist_cur = dist_cur / onp.sum(dist_cur)\n",
    "            mses[i, t] = onp.sum(((x1 - x1[target_i])**2 + (x2 - x2[target_i])**2) * dist_cur)\n",
    "            entropies[i, t] = -onp.sum(dist_cur[dist_cur>1e-9] * onp.log(dist_cur[dist_cur>1e-9]))\n",
    "    return mses, entropies"
   ]
  },
  {
   "cell_type": "code",
   "execution_count": null,
   "metadata": {
    "scrolled": true
   },
   "outputs": [],
   "source": [
    "mses_uni, entropies_uni = simulate_errors(p_dist, x1, x2, tr, r, T)"
   ]
  },
  {
   "cell_type": "code",
   "execution_count": null,
   "metadata": {},
   "outputs": [],
   "source": [
    "from scipy.stats import sem\n",
    "ts = np.arange(tr.shape[0]) + 1\n",
    "\n",
    "mean_mse = onp.mean(mses, axis=0)\n",
    "sem_mse = sem(mses, axis=0)\n",
    "mean_mse_mi = onp.mean(mses_mi, axis=0)\n",
    "sem_mse_mi = sem(mses_mi, axis=0)\n",
    "mean_mse_uni = onp.mean(mses_uni, axis=0)\n",
    "sem_mse_uni = sem(mses_uni, axis=0)\n",
    "\n",
    "plt.fill_between(ts, mean_mse - 2*sem_mse, mean_mse + 2*sem_mse, alpha=.5)\n",
    "plt.fill_between(ts, mean_mse_mi - 2*sem_mse_mi, mean_mse_mi + 2*sem_mse_mi, alpha=.5)\n",
    "plt.fill_between(ts, mean_mse_uni - 2*sem_mse_uni, mean_mse_uni + 2*sem_mse_uni, alpha=.5)\n",
    "plt.plot(ts, mean_mse, label='p(x)')\n",
    "plt.plot(ts, mean_mse_mi, label='I(x)')\n",
    "plt.plot(ts, mean_mse_uni, label='Uniform')\n",
    "plt.legend()\n",
    "plt.title('MSE vs. Time')\n",
    "plt.show()\n",
    "\n",
    "mean_ent = onp.mean(entropies, axis=0)\n",
    "sem_ent = sem(entropies, axis=0)\n",
    "mean_ent_mi = onp.mean(entropies_mi, axis=0)\n",
    "sem_ent_mi = sem(entropies_mi, axis=0)\n",
    "mean_ent_uni = onp.mean(entropies_uni, axis=0)\n",
    "sem_ent_uni = sem(entropies_uni, axis=0)\n",
    "\n",
    "plt.fill_between(ts, mean_ent - 2*sem_ent, mean_ent + 2*sem_ent, alpha=.5)\n",
    "plt.fill_between(ts, mean_ent_mi - 2*sem_ent_mi, mean_ent_mi + 2*sem_ent_mi, alpha=.5)\n",
    "plt.fill_between(ts, mean_ent_uni - 2*sem_ent_uni, mean_ent_uni + 2*sem_ent_uni, alpha=.5)\n",
    "plt.plot(ts, mean_ent, label='p(x)')\n",
    "plt.plot(ts, mean_ent_mi, label='I(x)')\n",
    "plt.plot(ts, mean_ent_uni, label='Uniform')\n",
    "plt.legend()\n",
    "plt.title('Entropy vs. Time')\n",
    "plt.show()"
   ]
  }
 ],
 "metadata": {
  "kernelspec": {
   "display_name": "Python 3",
   "language": "python",
   "name": "python3"
  },
  "language_info": {
   "codemirror_mode": {
    "name": "ipython",
    "version": 3
   },
   "file_extension": ".py",
   "mimetype": "text/x-python",
   "name": "python",
   "nbconvert_exporter": "python",
   "pygments_lexer": "ipython3",
   "version": "3.9.2"
  }
 },
 "nbformat": 4,
 "nbformat_minor": 4
}
