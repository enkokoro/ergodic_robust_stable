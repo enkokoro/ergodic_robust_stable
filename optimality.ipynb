{
 "cells": [
  {
   "cell_type": "markdown",
   "metadata": {},
   "source": [
    "# Outline\n",
    "0. Discrete space setup\n",
    "1. Discrete Ergodic Coverage\n",
    "2. Maximizing Information Gathering"
   ]
  },
  {
   "cell_type": "code",
   "execution_count": 24,
   "metadata": {},
   "outputs": [],
   "source": [
    "distribution_name = \"one_peak\"\n",
    "time_steps = 100\n",
    "K = 5\n",
    "system1_name = \"mm_1\"\n",
    "system2_name = \"ig_1\"\n",
    "compute_mu = False\n",
    "grid_length = 10"
   ]
  },
  {
   "cell_type": "code",
   "execution_count": 25,
   "metadata": {},
   "outputs": [],
   "source": [
    "import numpy as np\n",
    "U_shape = (1,1)\n",
    "all_k = list(np.ndindex(*[K]*len(U_shape)))"
   ]
  },
  {
   "cell_type": "markdown",
   "metadata": {},
   "source": [
    "# 0. Discrete Space Setup"
   ]
  },
  {
   "cell_type": "markdown",
   "metadata": {},
   "source": [
    "## 0.a. Define probability distribution $\\mu$"
   ]
  },
  {
   "cell_type": "code",
   "execution_count": 26,
   "metadata": {},
   "outputs": [],
   "source": [
    "# defining probability distribution mu\n",
    "from probability_distribution import *\n",
    "\n",
    "mu = mu_gaussians([(np.array([0.2, 0.75]), 0.1)], U_shape)\n",
    "mu = mu_normalize(mu, U_shape)\n",
    "\n",
    "# calculating fourier coefficients of probability distribution mu\n",
    "from fourier_functions import *\n",
    "import pickle\n",
    "\n",
    "ff = Fourier_Functions(mu, U_shape, K, compute_mu=compute_mu)\n",
    "if compute_mu:\n",
    "    mu_k = {}\n",
    "    for k in ff:\n",
    "        mu_k[k] = ff[k]['mu_k']\n",
    "\n",
    "    with open(f'mu/{distribution_name}_{K}.pkl', 'wb') as handle:\n",
    "        pickle.dump(mu_k, handle, protocol=pickle.HIGHEST_PROTOCOL)\n",
    "else:\n",
    "    with open(f'mu/{distribution_name}_{K}.pkl', 'rb') as handle:\n",
    "        mu_k = pickle.load(handle)\n",
    "    for k in ff:\n",
    "        ff[k]['mu_k'] = mu_k[k]\n",
    "\n",
    "original_mu = mu \n"
   ]
  },
  {
   "cell_type": "markdown",
   "metadata": {},
   "source": [
    "## 1. Generate Vanilla Ergodic Trajectory $x$"
   ]
  },
  {
   "cell_type": "code",
   "execution_count": 27,
   "metadata": {},
   "outputs": [],
   "source": [
    "from ergodic_agents import *\n",
    "from mm_agent import *\n",
    "\n",
    "agent1 = MMAgent1(0, np.array([0.2, 0.3]), 0.5, all_k, U_shape, ff, eps=1e-5)\n",
    "system1 = AgentSystem([agent1], mu, U_shape, ff, K)"
   ]
  },
  {
   "cell_type": "code",
   "execution_count": 28,
   "metadata": {},
   "outputs": [],
   "source": [
    "t = 0\n",
    "delta_t = 0.1\n",
    "for i in range(time_steps):\n",
    "    t = i * delta_t\n",
    "    system1.evolve(t, delta_t)\n"
   ]
  },
  {
   "cell_type": "code",
   "execution_count": null,
   "metadata": {},
   "outputs": [],
   "source": [
    "filename1 = f\"optimality/system={system1_name}_mu={distribution_name}_K={K}_T={time_steps}\"\n",
    "description = f\"{system1_name} on {distribution_name}\"\n",
    "\n",
    "system1.visualize_trajectory(filename1, description)\n",
    "system1.visualize_ergodicity(filename1)"
   ]
  },
  {
   "cell_type": "markdown",
   "metadata": {},
   "source": [
    "## 2. Maximize Information Gathering"
   ]
  },
  {
   "cell_type": "code",
   "execution_count": null,
   "metadata": {},
   "outputs": [],
   "source": [
    "dx = 0.001\n",
    "_mu_casadi = mu_gaussians_casadi([(np.array([0.2, 0.75]), 0.1)], U_shape)\n",
    "total = mu_total(mu, U_shape)\n",
    "mu_casadi = lambda x: _mu_casadi(x)/total"
   ]
  },
  {
   "cell_type": "code",
   "execution_count": null,
   "metadata": {},
   "outputs": [
    {
     "data": {
      "text/plain": [
       "DM(0.201897)"
      ]
     },
     "execution_count": 8,
     "metadata": {},
     "output_type": "execute_result"
    }
   ],
   "source": [
    "mu_casadi(np.array([0.2, 0.35]))"
   ]
  },
  {
   "cell_type": "code",
   "execution_count": null,
   "metadata": {},
   "outputs": [],
   "source": [
    "from casadi_agent_info_gathering import *\n",
    "agent2 = CasadiAgentInfoGathering(0, np.array([0.2, 0.3]), 0.5, all_k, U_shape, ff, eps=1e-5)\n",
    "agent2.mu = mu_casadi #lambda x: casadi.norm_2(x) # need to do gaussian but for casadi\n",
    "agent2.dx = dx\n",
    "system2 = AgentSystem([agent2], mu_casadi, U_shape, ff, K)"
   ]
  },
  {
   "cell_type": "code",
   "execution_count": null,
   "metadata": {},
   "outputs": [
    {
     "name": "stdout",
     "output_type": "stream",
     "text": [
      "\n",
      "******************************************************************************\n",
      "This program contains Ipopt, a library for large-scale nonlinear optimization.\n",
      " Ipopt is released as open source code under the Eclipse Public License (EPL).\n",
      "         For more information visit http://projects.coin-or.org/Ipopt\n",
      "******************************************************************************\n",
      "\n",
      "      solver  :   t_proc      (avg)   t_wall      (avg)    n_eval\n",
      "       nlp_f  |   4.23 s ( 10.31ms)   4.21 s ( 10.27ms)       410\n",
      "       nlp_g  |  50.93ms (124.21us)  50.57ms (123.34us)       410\n",
      "  nlp_grad_f  |   7.95 s ( 24.09ms)   7.91 s ( 23.97ms)       330\n",
      "  nlp_hess_l  | 708.93 s (  2.16 s) 705.67 s (  2.15 s)       328\n",
      "   nlp_jac_g  | 605.22ms (  1.83ms) 603.25ms (  1.83ms)       330\n",
      "       total  | 735.04 s (735.04 s) 731.66 s (731.66 s)         1\n",
      "[[ 5.55587563e-08  4.66472447e-08  3.82493786e-08  3.02292360e-08\n",
      "   2.22584623e-08  1.33957547e-08 -2.75131780e-10 -5.04866149e-08\n",
      "  -2.26963635e-02  1.77239961e-02  1.42194532e-01  4.14713498e-02\n",
      "  -9.78642786e-02 -4.23205080e-02  5.69819610e-02 -1.43199317e-01\n",
      "  -2.07707147e-02 -9.48715856e-02  5.14414790e-02 -4.53008291e-02\n",
      "  -5.51183782e-02 -5.02154329e-02  5.93463621e-02  1.12295500e-01\n",
      "   1.44062736e-01 -4.21398758e-02 -1.45618312e-01 -1.16222846e-01\n",
      "   7.18569026e-02  1.47803471e-01 -4.23558717e-02 -4.26017247e-02\n",
      "  -4.29827533e-02 -6.51833776e-02 -7.65304576e-02  2.96597281e-02\n",
      "   6.84198564e-02  5.68967715e-02  4.23886283e-02  4.21222228e-02\n",
      "   4.20547623e-02  4.20508524e-02  4.20790446e-02  1.13663240e-02\n",
      "  -4.26973255e-02  5.28058471e-02  1.70247336e-02 -5.95729386e-02\n",
      "  -5.27285849e-02 -4.22949676e-02 -4.23167802e-02 -9.52816755e-02\n",
      "  -5.84906056e-02 -7.31410478e-02  2.72623942e-02 -4.70069935e-02\n",
      "   1.15428112e-01 -5.17867671e-02  4.39839933e-02  5.21324990e-02\n",
      "   4.39784658e-02  5.44297102e-02  4.20504135e-02  4.17040888e-02\n",
      "   5.85560303e-02  6.55863125e-02  3.50842795e-03  4.35281764e-02\n",
      "   4.39120272e-02  4.37406056e-02 -1.41354016e-01 -1.21796305e-02\n",
      "   4.21058023e-02  4.17521923e-02  4.17432062e-02  4.57609331e-02\n",
      "  -2.92031849e-02  4.49160439e-02  5.67244568e-02 -1.45179905e-01\n",
      "  -4.32327325e-02  1.42809339e-01 -1.96661568e-02  4.67400264e-02\n",
      "  -6.04648779e-02 -5.09195868e-02 -4.84362009e-02  6.60468198e-02\n",
      "  -4.61225634e-02 -4.49805265e-02  1.01024589e-01 -5.16297892e-02\n",
      "  -1.15850446e-01 -6.27749478e-02 -4.16024470e-02 -4.55003252e-02\n",
      "  -5.67628558e-02 -4.30506373e-02 -1.52135889e-01  5.58628011e-02]\n",
      " [ 4.99999935e-01  4.99999927e-01  4.99999913e-01  4.99999891e-01\n",
      "   4.99999851e-01  4.99999768e-01  4.99999560e-01  4.99998725e-01\n",
      "   1.86524929e-01  8.55778869e-02 -5.94240481e-02 -5.28822389e-02\n",
      "   1.03824281e-02  5.29604064e-02  3.89717171e-02  5.83544893e-02\n",
      "  -8.25244481e-02  6.76555130e-03  4.51034355e-02  4.91535330e-02\n",
      "  -4.20521830e-02  5.13175273e-02  3.90251299e-02 -1.95264298e-02\n",
      "  -5.83851191e-02  4.64867668e-02  5.84713260e-02  2.03507381e-02\n",
      "   2.57708565e-02 -5.86858578e-02  4.54736974e-02  4.52112817e-02\n",
      "   4.50550348e-02 -3.12100257e-02 -2.42538578e-02  6.99120226e-02\n",
      "   3.04630738e-02  3.90574220e-02 -4.52132881e-02 -4.51435666e-02\n",
      "  -4.50568515e-02 -4.50674952e-02 -4.52112827e-02  8.49737857e-02\n",
      "   4.53192054e-02  4.02944574e-02  7.96320401e-02 -3.41644320e-02\n",
      "  -4.02041544e-02  4.59726455e-02  4.64540311e-02  2.60092344e-03\n",
      "  -3.93940274e-02 -2.92294612e-02  7.43378500e-02  4.69988068e-02\n",
      "   8.83165047e-02 -4.88456815e-02 -4.67801537e-02  4.58639916e-02\n",
      "  -4.71535311e-02  4.22244232e-02 -4.77760366e-02 -4.71661558e-02\n",
      "   3.53186371e-02  2.92441720e-02 -2.01211649e-01 -4.46792418e-02\n",
      "  -4.48032406e-02 -4.58635098e-02  4.94221139e-02 -8.52112605e-02\n",
      "  -4.61710105e-02 -4.74982098e-02 -4.90560499e-02 -4.79399253e-02\n",
      "   1.36379938e-01 -4.92559622e-02  4.43435604e-02  5.25195922e-02\n",
      "   4.63758049e-02 -5.03704839e-02  1.24027486e-01 -4.86757364e-02\n",
      "   1.60068305e-01  4.82655570e-02  4.87629119e-02 -1.62898557e-01\n",
      "   4.50748157e-02  4.55308347e-02  9.46229748e-02  5.41529596e-02\n",
      "   2.83215856e-02 -3.44522189e-02  5.08741121e-02  4.98285091e-02\n",
      "  -4.23254789e-02  5.14807249e-02 -4.39190514e-02 -3.91981226e-02]]\n"
     ]
    }
   ],
   "source": [
    "t = 0\n",
    "delta_t = 0.1\n",
    "for i in range(time_steps):\n",
    "    t = i * delta_t\n",
    "    system2.evolve(t, delta_t)"
   ]
  },
  {
   "cell_type": "code",
   "execution_count": null,
   "metadata": {},
   "outputs": [],
   "source": [
    "filename2 = f\"optimality/system={system2_name}_mu={distribution_name}_dx={dx}_T={time_steps}\"\n",
    "description = f\"{system2_name} on {distribution_name}\"\n",
    "\n",
    "system2.visualize_trajectory(filename2, description)\n",
    "# system2.visualize2d(filename=filename2, additional_title=description, plot_c_k=False)\n",
    "system2.visualize_ergodicity(filename2)"
   ]
  },
  {
   "cell_type": "markdown",
   "metadata": {},
   "source": [
    "## 3. Comparison"
   ]
  },
  {
   "cell_type": "code",
   "execution_count": null,
   "metadata": {},
   "outputs": [],
   "source": [
    "results = {}\n",
    "\n",
    "results['ergodic_trajectory'] = {}\n",
    "results['ergodic_trajectory']['trajectory'] = np.array(agent1.x_log)\n",
    "results['ergodic_trajectory']['ergodicity'] = agent1.e_log\n",
    "results['ergodic_trajectory']['info gathered'] = [info_gathering_metric_noncasadi(mu, agent1.x_log, T+1, 1/dx) for T in range(time_steps)]\n",
    "\n",
    "results['info_gather_trajectory'] = {}\n",
    "results['info_gather_trajectory']['trajectory'] = np.array(agent2.x_log)\n",
    "results['info_gather_trajectory']['ergodicity'] = np.array(agent2.e_log)\n",
    "results['info_gather_trajectory']['info gathered'] = np.array([info_gathering_metric(mu_casadi, agent2.x_log, T+1, 1/dx) for T in range(time_steps)]).reshape(-1,)\n"
   ]
  },
  {
   "cell_type": "code",
   "execution_count": null,
   "metadata": {},
   "outputs": [],
   "source": [
    "filename = f\"optimality/system={system1_name}_{system2_name}_mu={distribution_name}_K={K}_dx={dx}_T={time_steps}\"\n",
    "\n",
    "with open(f'{filename}_results.pkl', 'wb') as handle:\n",
    "    pickle.dump(results, handle, protocol=pickle.HIGHEST_PROTOCOL)\n",
    "\n",
    "def plot_trajectory_values(results, filename, trajectory_name):\n",
    "    plt.figure()\n",
    "    plt.plot(results[trajectory_name]['ergodicity'][1:], results[trajectory_name]['info gathered'], 'o')\n",
    "    plt.xlabel(\"Ergodicity\")\n",
    "    plt.ylabel(\"Information Gathered\")\n",
    "    plt.savefig(f\"{filename}_ergodicity_vs_info_gathered.pdf\")\n",
    "plot_trajectory_values(results, filename1, 'ergodic_trajectory')\n",
    "plot_trajectory_values(results, filename2, 'info_gather_trajectory')\n",
    "\n",
    "trajectories = [results['ergodic_trajectory']['trajectory'], results['info_gather_trajectory']['trajectory']]\n",
    "visualize_trajectory(f\"{filename}_ergodicity_vs_info_gathered\", \n",
    "                     f\"Ergodic vs Info Gathering Trajectory\", \n",
    "                     U_shape, trajectories, mu)\n"
   ]
  },
  {
   "cell_type": "code",
   "execution_count": null,
   "metadata": {},
   "outputs": [],
   "source": [
    "for trajectory in ['ergodic_trajectory', 'info_gather_trajectory']:\n",
    "    print(\"Trajectory: \", trajectory)\n",
    "    print(\"Final ergodicity: \", results[trajectory]['ergodicity'][-1])\n",
    "    print(\"Final Info Gather: \", results[trajectory]['info gathered'][-1])"
   ]
  }
 ],
 "metadata": {
  "interpreter": {
   "hash": "31f2aee4e71d21fbe5cf8b01ff0e069b9275f58929596ceb00d14d90e3e16cd6"
  },
  "kernelspec": {
   "display_name": "Python 3",
   "language": "python",
   "name": "python3"
  },
  "language_info": {
   "codemirror_mode": {
    "name": "ipython",
    "version": 3
   },
   "file_extension": ".py",
   "mimetype": "text/x-python",
   "name": "python",
   "nbconvert_exporter": "python",
   "pygments_lexer": "ipython3",
   "version": "3.9.12"
  }
 },
 "nbformat": 4,
 "nbformat_minor": 2
}
