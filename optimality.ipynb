{
 "cells": [
  {
   "cell_type": "markdown",
   "metadata": {},
   "source": [
    "# Outline\n",
    "0. Discrete space setup\n",
    "1. Discrete Ergodic Coverage\n",
    "2. Maximizing Information Gathering"
   ]
  },
  {
   "cell_type": "code",
   "execution_count": 22,
   "metadata": {},
   "outputs": [],
   "source": [
    "distribution_name = \"close_peaks\"\n",
    "time_steps = 100\n",
    "K = 5\n",
    "system1_name = \"casadi\"\n",
    "system2_name = \"ig\"\n",
    "compute_mu = False\n",
    "grid_length = 10\n",
    "\n",
    "dx = 0.2"
   ]
  },
  {
   "cell_type": "code",
   "execution_count": 16,
   "metadata": {},
   "outputs": [],
   "source": [
    "import numpy as np\n",
    "U_shape = (1,1)\n",
    "all_k = list(np.ndindex(*[K]*len(U_shape)))"
   ]
  },
  {
   "cell_type": "markdown",
   "metadata": {},
   "source": [
    "# 0. Discrete Space Setup"
   ]
  },
  {
   "cell_type": "markdown",
   "metadata": {},
   "source": [
    "## 0.a. Define probability distribution $\\mu$"
   ]
  },
  {
   "cell_type": "code",
   "execution_count": 3,
   "metadata": {},
   "outputs": [],
   "source": [
    "# defining probability distribution mu\n",
    "from probability_distribution import *\n",
    "mu_unnorm = mu_gaussians([(np.array([0.25, 0.75]), 0.025), (np.array([0.5, 0.5]), 0.025)], U_shape)\n",
    "# mu_unnorm = mu_gaussians([(np.array([0.25, 0.75]), 0.025), (np.array([0.5, 0.5]), 0.025)], U_shape)\n",
    "# mu_unnorm = mu_gaussians([(np.array([0.25, 0.75]), 0.01), (np.array([0.6, 0.3]), 0.05)], U_shape)\n",
    "# mu_unnorm = mu_gaussians([(np.array([0.25, 0.75]), 0.05), (np.array([0.6, 0.3]), 0.1)], U_shape)\n",
    "total = mu_total(mu_unnorm, U_shape)\n",
    "# mu = mu_gaussians([(np.array([0.2, 0.75]), 0.1)], U_shape)\n",
    "mu = lambda x: mu_unnorm(x)/total # mu_normalize(mu_unnorm, U_shape)\n",
    "\n",
    "# calculating fourier coefficients of probability distribution mu\n",
    "from fourier_functions import *\n",
    "import pickle\n",
    "\n",
    "ff = Fourier_Functions(mu, U_shape, K, compute_mu=compute_mu)\n",
    "if compute_mu:\n",
    "    mu_k = {}\n",
    "    for k in ff:\n",
    "        mu_k[k] = ff[k]['mu_k']\n",
    "\n",
    "    with open(f'mu/{distribution_name}_{K}.pkl', 'wb') as handle:\n",
    "        pickle.dump(mu_k, handle, protocol=pickle.HIGHEST_PROTOCOL)\n",
    "else:\n",
    "    with open(f'mu/{distribution_name}_{K}.pkl', 'rb') as handle:\n",
    "        mu_k = pickle.load(handle)\n",
    "    for k in ff:\n",
    "        ff[k]['mu_k'] = mu_k[k]\n",
    "\n",
    "original_mu = mu \n",
    "mu = fourier_coefficient2distribution(ff, all_k, c_k=None)\n"
   ]
  },
  {
   "cell_type": "markdown",
   "metadata": {},
   "source": [
    "## 1. Generate Vanilla Ergodic Trajectory $x$"
   ]
  },
  {
   "cell_type": "code",
   "execution_count": 4,
   "metadata": {},
   "outputs": [],
   "source": [
    "from ergodic_agents import *\n",
    "from mm_agent import *\n",
    "from casadi_agent import *\n",
    "\n",
    "agent1 = CasadiAgent(0, np.array([0.2, 0.3]), 0.5, all_k, U_shape, ff, eps=1e-5)\n",
    "system1 = AgentSystem([agent1], mu, U_shape, ff, K)"
   ]
  },
  {
   "cell_type": "code",
   "execution_count": 5,
   "metadata": {},
   "outputs": [
    {
     "name": "stdout",
     "output_type": "stream",
     "text": [
      "(2, 100)\n",
      "(2, 100)\n",
      "\n",
      "******************************************************************************\n",
      "This program contains Ipopt, a library for large-scale nonlinear optimization.\n",
      " Ipopt is released as open source code under the Eclipse Public License (EPL).\n",
      "         For more information visit http://projects.coin-or.org/Ipopt\n",
      "******************************************************************************\n",
      "\n",
      "      solver  :   t_proc      (avg)   t_wall      (avg)    n_eval\n",
      "       nlp_f  |  86.38ms (  2.79ms)  86.04ms (  2.78ms)        31\n",
      "       nlp_g  |   2.10ms ( 67.74us)   2.08ms ( 67.20us)        31\n",
      "  nlp_grad_f  | 154.45ms (  4.83ms) 153.90ms (  4.81ms)        32\n",
      "  nlp_hess_l  |  67.41 s (  2.25 s)  67.21 s (  2.24 s)        30\n",
      "   nlp_jac_g  |  26.83ms (838.56us)  26.78ms (836.79us)        32\n",
      "       total  |  68.45 s ( 68.45 s)  68.26 s ( 68.26 s)         1\n"
     ]
    }
   ],
   "source": [
    "t = 0\n",
    "delta_t = 0.1\n",
    "for i in range(time_steps):\n",
    "    t = i * delta_t\n",
    "    system1.evolve(t, delta_t)\n"
   ]
  },
  {
   "cell_type": "code",
   "execution_count": 6,
   "metadata": {},
   "outputs": [],
   "source": [
    "filename1 = f\"optimality/system={system1_name}_mu={distribution_name}_K={K}_T={time_steps}\"\n",
    "description = f\"{system1_name} on {distribution_name}\"\n",
    "\n",
    "system1.visualize_trajectory(filename1, description)\n",
    "system1.visualize_ergodicity(filename1)"
   ]
  },
  {
   "cell_type": "markdown",
   "metadata": {},
   "source": [
    "## 2. Maximize Information Gathering"
   ]
  },
  {
   "cell_type": "code",
   "execution_count": 17,
   "metadata": {},
   "outputs": [],
   "source": [
    "_mu_casadi = mu_gaussians_casadi([(np.array([0.25, 0.75]), 0.025), (np.array([0.5, 0.5]), 0.025)], U_shape)\n",
    "# _mu_casadi = mu_gaussians_casadi([(np.array([0.25, 0.75]), 0.01), (np.array([0.6, 0.3]), 0.05)], U_shape)\n",
    "# _mu_casadi = mu_gaussians_casadi([(np.array([0.2, 0.75]), 0.1)], U_shape)\n",
    "mu_casadi = lambda x: _mu_casadi(x)/total"
   ]
  },
  {
   "cell_type": "code",
   "execution_count": 23,
   "metadata": {},
   "outputs": [],
   "source": [
    "from casadi_agent_info_gathering import *\n",
    "agent2 = CasadiAgentInfoGathering(0, np.array([0.2, 0.3]), 0.5, all_k, U_shape, ff, eps=1e-5)\n",
    "agent2.mu = mu_casadi #lambda x: casadi.norm_2(x) # need to do gaussian but for casadi\n",
    "agent2.dx = dx\n",
    "system2 = AgentSystem([agent2], mu_casadi, U_shape, ff, K)"
   ]
  },
  {
   "cell_type": "code",
   "execution_count": 24,
   "metadata": {},
   "outputs": [
    {
     "name": "stdout",
     "output_type": "stream",
     "text": [
      "(2,)\n"
     ]
    }
   ],
   "source": [
    "print(agent2.x_log[0].shape)"
   ]
  },
  {
   "cell_type": "code",
   "execution_count": 25,
   "metadata": {},
   "outputs": [
    {
     "name": "stdout",
     "output_type": "stream",
     "text": [
      "      solver  :   t_proc      (avg)   t_wall      (avg)    n_eval\n",
      "       nlp_f  | 601.98ms (  8.36ms) 602.39ms (  8.37ms)        72\n",
      "       nlp_g  |   9.53ms (132.39us)   9.48ms (131.65us)        72\n",
      "  nlp_grad_f  |   1.40 s ( 19.14ms)   1.40 s ( 19.15ms)        73\n",
      "  nlp_hess_l  | 133.03 s (  1.87 s) 133.03 s (  1.87 s)        71\n",
      "   nlp_jac_g  |  97.96ms (  1.34ms)  98.29ms (  1.35ms)        73\n",
      "       total  | 137.31 s (137.31 s) 137.31 s (137.31 s)         1\n"
     ]
    }
   ],
   "source": [
    "t = 0\n",
    "delta_t = 0.1\n",
    "for i in range(time_steps):\n",
    "    t = i * delta_t\n",
    "    system2.evolve(t, delta_t)"
   ]
  },
  {
   "cell_type": "code",
   "execution_count": 26,
   "metadata": {},
   "outputs": [],
   "source": [
    "filename2 = f\"optimality/system={system2_name}_mu={distribution_name}_dx={dx}_T={time_steps}\"\n",
    "description = f\"{system2_name} on {distribution_name}\"\n",
    "\n",
    "system2.visualize_trajectory(filename2, description)\n",
    "# system2.visualize2d(filename=filename2, additional_title=description, plot_c_k=False)\n",
    "system2.visualize_ergodicity(filename2)"
   ]
  },
  {
   "cell_type": "markdown",
   "metadata": {},
   "source": [
    "## 3. Comparison"
   ]
  },
  {
   "cell_type": "code",
   "execution_count": 17,
   "metadata": {},
   "outputs": [],
   "source": [
    "results = {}\n",
    "\n",
    "results['ergodic_trajectory'] = {}\n",
    "results['ergodic_trajectory']['trajectory'] = np.array(agent1.x_log)\n",
    "results['ergodic_trajectory']['ergodicity'] = agent1.e_log\n",
    "results['ergodic_trajectory']['info gathered'] = [info_gathering_metric_noncasadi(mu, agent1.x_log, T+1, 1/dx) for T in range(time_steps)]\n",
    "\n",
    "results['info_gather_trajectory'] = {}\n",
    "results['info_gather_trajectory']['trajectory'] = np.array(agent2.x_log)\n",
    "results['info_gather_trajectory']['ergodicity'] = np.array(agent2.e_log)\n",
    "results['info_gather_trajectory']['info gathered'] = np.array([info_gathering_metric(mu_casadi, agent2.x_log, T+1, 1/dx, T+1) for T in range(time_steps)]).reshape(-1,)\n"
   ]
  },
  {
   "cell_type": "code",
   "execution_count": 18,
   "metadata": {},
   "outputs": [],
   "source": [
    "filename = f\"optimality/system={system1_name}_{system2_name}_mu={distribution_name}_K={K}_dx={dx}_T={time_steps}\"\n",
    "\n",
    "with open(f'{filename}_results.pkl', 'wb') as handle:\n",
    "    pickle.dump(results, handle, protocol=pickle.HIGHEST_PROTOCOL)\n",
    "\n",
    "def plot_trajectory_values(results, filename, trajectory_name):\n",
    "    plt.figure()\n",
    "    plt.plot(results[trajectory_name]['ergodicity'][1:], results[trajectory_name]['info gathered'], 'o')\n",
    "    plt.xlabel(\"Ergodicity\")\n",
    "    plt.xscale(\"log\")\n",
    "    plt.gca().invert_xaxis()\n",
    "    plt.ylabel(\"Information Gathered\")\n",
    "    plt.savefig(f\"{filename}_ergodicity_vs_info_gathered.pdf\")\n",
    "plot_trajectory_values(results, filename1, 'ergodic_trajectory')\n",
    "plot_trajectory_values(results, filename2, 'info_gather_trajectory')\n",
    "\n",
    "trajectories = [results['ergodic_trajectory']['trajectory'], results['info_gather_trajectory']['trajectory']]\n",
    "visualize_trajectory(f\"{filename}_ergodicity_vs_info_gathered\", \n",
    "                     f\"Ergodic vs Info Gathering Trajectory\", \n",
    "                     U_shape, trajectories, mu)\n"
   ]
  },
  {
   "cell_type": "code",
   "execution_count": 19,
   "metadata": {},
   "outputs": [
    {
     "name": "stdout",
     "output_type": "stream",
     "text": [
      "Trajectory:  ergodic_trajectory\n",
      "Final ergodicity:  1.939733715033913e-08\n",
      "Final Info Gather:  3.6086141608097564\n",
      "Trajectory:  info_gather_trajectory\n",
      "Final ergodicity:  0.024780407724141654\n",
      "Final Info Gather:  -8.171378168402923\n"
     ]
    }
   ],
   "source": [
    "for trajectory in ['ergodic_trajectory', 'info_gather_trajectory']:\n",
    "    print(\"Trajectory: \", trajectory)\n",
    "    print(\"Final ergodicity: \", results[trajectory]['ergodicity'][-1])\n",
    "    print(\"Final Info Gather: \", results[trajectory]['info gathered'][-1])"
   ]
  },
  {
   "cell_type": "code",
   "execution_count": null,
   "metadata": {},
   "outputs": [],
   "source": []
  }
 ],
 "metadata": {
  "interpreter": {
   "hash": "31f2aee4e71d21fbe5cf8b01ff0e069b9275f58929596ceb00d14d90e3e16cd6"
  },
  "kernelspec": {
   "display_name": "Python 3",
   "language": "python",
   "name": "python3"
  },
  "language_info": {
   "codemirror_mode": {
    "name": "ipython",
    "version": 3
   },
   "file_extension": ".py",
   "mimetype": "text/x-python",
   "name": "python",
   "nbconvert_exporter": "python",
   "pygments_lexer": "ipython3",
   "version": "3.9.12"
  }
 },
 "nbformat": 4,
 "nbformat_minor": 2
}
