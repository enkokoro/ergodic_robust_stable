{
 "cells": [
  {
   "cell_type": "markdown",
   "metadata": {},
   "source": [
    "# Outline\n",
    "0. Discrete space setup\n",
    "1. Discrete Ergodic Coverage\n",
    "2. Maximizing Information Gathering"
   ]
  },
  {
   "cell_type": "code",
   "execution_count": 1,
   "metadata": {},
   "outputs": [],
   "source": [
    "distribution_name = \"one_peak\"\n",
    "time_steps = 100\n",
    "K = 5\n",
    "system1_name = \"mm_1\"\n",
    "system2_name = \"ig_1\"\n",
    "compute_mu = False\n",
    "grid_length = 10"
   ]
  },
  {
   "cell_type": "code",
   "execution_count": 2,
   "metadata": {},
   "outputs": [],
   "source": [
    "import numpy as np\n",
    "U_shape = (1,1)\n",
    "all_k = list(np.ndindex(*[K]*len(U_shape)))"
   ]
  },
  {
   "cell_type": "markdown",
   "metadata": {},
   "source": [
    "# 0. Discrete Space Setup"
   ]
  },
  {
   "cell_type": "markdown",
   "metadata": {},
   "source": [
    "## 0.a. Define probability distribution $\\mu$"
   ]
  },
  {
   "cell_type": "code",
   "execution_count": 3,
   "metadata": {},
   "outputs": [],
   "source": [
    "# defining probability distribution mu\n",
    "from probability_distribution import *\n",
    "\n",
    "mu = mu_gaussians([(np.array([0.2, 0.75]), 0.1)], U_shape)\n",
    "mu = mu_normalize(mu, U_shape)\n",
    "\n",
    "# calculating fourier coefficients of probability distribution mu\n",
    "from fourier_functions import *\n",
    "import pickle\n",
    "\n",
    "ff = Fourier_Functions(mu, U_shape, K, compute_mu=compute_mu)\n",
    "if compute_mu:\n",
    "    mu_k = {}\n",
    "    for k in ff:\n",
    "        mu_k[k] = ff[k]['mu_k']\n",
    "\n",
    "    with open(f'mu/{distribution_name}_{K}.pkl', 'wb') as handle:\n",
    "        pickle.dump(mu_k, handle, protocol=pickle.HIGHEST_PROTOCOL)\n",
    "else:\n",
    "    with open(f'mu/{distribution_name}_{K}.pkl', 'rb') as handle:\n",
    "        mu_k = pickle.load(handle)\n",
    "    for k in ff:\n",
    "        ff[k]['mu_k'] = mu_k[k]\n",
    "\n",
    "original_mu = mu \n",
    "mu = fourier_coefficient2distribution(ff, all_k, c_k=None)\n",
    "# dx = 1/grid_length\n",
    "# mu_grid = np.array([[mu(np.array([c*dx, r*dx])+dx/2) for c in range(grid_length)] for r in range(grid_length)])\n",
    "# def r2_to_idx(x):\n",
    "#     return int(x[0]/dx), int(x[1]/dx)\n",
    "# def grid_to_pdf(grid):\n",
    "#     def discrete(x):\n",
    "#         c,r = r2_to_idx(x)\n",
    "#         return grid[r,c]\n",
    "#     return discrete \n",
    "# mu = grid_to_pdf(mu_grid)\n",
    "\n",
    "# if compute_mu:\n",
    "#     mu_display2D(original_mu, U_shape, title=f\"mu/{distribution_name}_original\")\n",
    "#     mu_display2D(mu, U_shape, title=f\"mu/{distribution_name}_grid\")\n"
   ]
  },
  {
   "cell_type": "markdown",
   "metadata": {},
   "source": [
    "## 1. Generate Vanilla Ergodic Trajectory $x$"
   ]
  },
  {
   "cell_type": "code",
   "execution_count": null,
   "metadata": {},
   "outputs": [],
   "source": [
    "from ergodic_agents import *\n",
    "from mm_agent import *\n",
    "\n",
    "agent1 = MMAgent1(0, np.array([0.2, 0.3]), 0.5, all_k, U_shape, ff, eps=1e-5)\n",
    "system1 = AgentSystem([agent1], mu, U_shape, ff, K)"
   ]
  },
  {
   "cell_type": "code",
   "execution_count": null,
   "metadata": {},
   "outputs": [],
   "source": [
    "t = 0\n",
    "delta_t = 0.1\n",
    "for i in range(time_steps):\n",
    "    t = i * delta_t\n",
    "    system1.evolve(t, delta_t)\n"
   ]
  },
  {
   "cell_type": "code",
   "execution_count": null,
   "metadata": {},
   "outputs": [],
   "source": [
    "filename1 = f\"robustness/system={system1_name}_mu={distribution_name}_K={K}_T={time_steps}\"\n",
    "description = f\"{system1_name} on {distribution_name}\"\n",
    "\n",
    "system1.visualize_trajectory(filename1, description)\n",
    "# system1.visualize2d(filename=filename1, additional_title=description, plot_c_k=False)\n",
    "system1.visualize_ergodicity(filename1)"
   ]
  },
  {
   "cell_type": "markdown",
   "metadata": {},
   "source": [
    "## 2. Maximize Information Gathering"
   ]
  },
  {
   "cell_type": "code",
   "execution_count": null,
   "metadata": {},
   "outputs": [],
   "source": [
    "dx = 0.1"
   ]
  },
  {
   "cell_type": "code",
   "execution_count": null,
   "metadata": {},
   "outputs": [],
   "source": [
    "from casadi_agent_info_gathering import *\n",
    "agent2 = CasadiAgentInfoGathering(0, np.array([0.2, 0.3]), 0.5, all_k, U_shape, ff, eps=1e-5)\n",
    "agent2.mu = mu\n",
    "agent2.dx = dx\n",
    "system2 = AgentSystem([agent2], mu, U_shape, ff, K)"
   ]
  },
  {
   "cell_type": "code",
   "execution_count": null,
   "metadata": {},
   "outputs": [],
   "source": [
    "t = 0\n",
    "delta_t = 0.1\n",
    "for i in range(time_steps):\n",
    "    t = i * delta_t\n",
    "    system2.evolve(t, delta_t)"
   ]
  },
  {
   "cell_type": "code",
   "execution_count": null,
   "metadata": {},
   "outputs": [],
   "source": [
    "filename2 = f\"robustness/system={system2_name}_mu={distribution_name}_K={K}_T={time_steps}\"\n",
    "description = f\"{system2_name} on {distribution_name}\"\n",
    "\n",
    "system2.visualize_trajectory(filename2, description)\n",
    "# system2.visualize2d(filename=filename2, additional_title=description, plot_c_k=False)\n",
    "system2.visualize_ergodicity(filename2)"
   ]
  },
  {
   "cell_type": "markdown",
   "metadata": {},
   "source": [
    "## 3. Comparison"
   ]
  },
  {
   "cell_type": "code",
   "execution_count": null,
   "metadata": {},
   "outputs": [],
   "source": [
    "results = {}\n",
    "\n",
    "results['ergodic_trajectory'] = {}\n",
    "results['ergodic_trajectory']['trajectory'] = agent1.x_log\n",
    "results['ergodic_trajectory']['ergodicity'] = agent1.e_log\n",
    "results['ergodic_trajectory']['info gathered'] = [info_gathering_metric(mu, agent1.x_log, T, 1/dx) for T in range(time_steps+1)]\n",
    "\n",
    "results['info_gather_trajectory'] = {}\n",
    "results['info_gather_trajectory']['trajectory'] = agent2.x_log\n",
    "results['info_gather_trajectory']['ergodicity'] = agent2.e_log\n",
    "results['info_gather_trajectory']['info gathered'] = [info_gathering_metric(mu, agent2.x_log, T, 1/dx) for T in range(time_steps+1)]\n"
   ]
  }
 ],
 "metadata": {
  "interpreter": {
   "hash": "31f2aee4e71d21fbe5cf8b01ff0e069b9275f58929596ceb00d14d90e3e16cd6"
  },
  "kernelspec": {
   "display_name": "Python 3",
   "language": "python",
   "name": "python3"
  },
  "language_info": {
   "codemirror_mode": {
    "name": "ipython",
    "version": 3
   },
   "file_extension": ".py",
   "mimetype": "text/x-python",
   "name": "python",
   "nbconvert_exporter": "python",
   "pygments_lexer": "ipython3",
   "version": "3.9.12"
  }
 },
 "nbformat": 4,
 "nbformat_minor": 2
}
