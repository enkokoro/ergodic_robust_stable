{
 "cells": [
  {
   "cell_type": "code",
   "execution_count": 4,
   "metadata": {},
   "outputs": [],
   "source": [
    "from scipy import integrate\n",
    "import numpy as np\n",
    "\n",
    "from probability_distribution import mu_gaussians, mu_normalize, mu_display2D, uniform\n",
    "# mu_total, _ = integrate.nquad(lambda *x: mu(np.array(x)), int_bounds)"
   ]
  },
  {
   "cell_type": "code",
   "execution_count": 75,
   "metadata": {},
   "outputs": [],
   "source": [
    "def circle_mu(mu, r, int_bounds, integration):\n",
    "    def circle(x):\n",
    "        def probability_in_circle(y):\n",
    "            if np.linalg.norm(x-y) <= r:\n",
    "                return mu(y)\n",
    "            else:\n",
    "                return 0\n",
    "        prob_in_circle, _ = integration(lambda *z: probability_in_circle(np.array(z)), int_bounds)#, opts={'epsabs':1e-4, 'epsrel':1e-4})\n",
    "        return prob_in_circle\n",
    "    return circle\n",
    "\n",
    "def communication_probability(mu, r, bounds, integration):\n",
    "    int_bounds = [[0, bounds[i]] for i in range(len(bounds))]\n",
    "    circle_m = circle_mu(mu, r, int_bounds, integration)\n",
    "    comm_prob, _ = integration(lambda *x: mu(np.array(x))*circle_m(np.array(x)), int_bounds)#, opts={'epsabs':1e-4, 'epsrel':1e-4})\n",
    "    return comm_prob\n",
    "\n",
    "def display_communication_probability(name, mu, r, bounds, integration):\n",
    "    print(\"Displaying: \", name, \" communication range: \", r)\n",
    "    comm_prob = communication_probability(mu, r, bounds, integration)\n",
    "    print(\"Communication probability: \", comm_prob)"
   ]
  },
  {
   "cell_type": "code",
   "execution_count": 84,
   "metadata": {},
   "outputs": [
    {
     "name": "stdout",
     "output_type": "stream",
     "text": [
      "(0.24999999999999983, None)\n"
     ]
    }
   ],
   "source": [
    "def dot_prod_integrate(func, int_bounds, size=50):\n",
    "    xs = []\n",
    "    for i in range(len(int_bounds)):\n",
    "        # xs.append(np.linspace(int_bounds[i][0], int_bounds[i][1], size+1)) # includes endpoint\n",
    "        xs.append(np.linspace(int_bounds[i][0], int_bounds[i][1], size, endpoint=False)+1/(2*size))\n",
    "    xsg = np.meshgrid(*xs, indexing='ij')\n",
    "    xsgf = [xg.flatten() for xg in xsg]\n",
    "    xvec = np.stack(xsgf, axis=1)\n",
    "    gridarea = (1/size)**len(int_bounds)\n",
    "    f = []\n",
    "    # for i in range((size+1)**len(int_bounds)): # includes endpoint\n",
    "    for i in range((size)**len(int_bounds)):\n",
    "        f.append(func(*tuple(xvec[i,:])))\n",
    "    return sum(f)*gridarea, None\n",
    "        \n",
    "print(dot_prod_integrate(lambda *x: x[0]*x[1], [[0,1],[0,1]]))"
   ]
  },
  {
   "cell_type": "code",
   "execution_count": 85,
   "metadata": {},
   "outputs": [
    {
     "name": "stdout",
     "output_type": "stream",
     "text": [
      "Displaying:  uniform  communication range:  0.1\n"
     ]
    }
   ],
   "source": [
    "U_shape = np.array([1,1])\n",
    "unif = mu_normalize(uniform(U_shape), U_shape)\n",
    "one_gaussian = mu_normalize(mu_gaussians([(0.2, 0.01)], U_shape), U_shape)\n",
    "two_big_one_small = mu_normalize(mu_gaussians([(0.2, 0.01), (0.75, 0.02), (np.array([0.2, 0.75]), 0.02)], U_shape), U_shape)\n",
    "distributions = {\n",
    "    'uniform': unif,\n",
    "    'one_gaussian': one_gaussian,\n",
    "    'two_big_one_small': two_big_one_small\n",
    "}\n",
    "# integration = integrate.nquad\n",
    "integration = dot_prod_integrate\n",
    "\n",
    "for key in distributions:\n",
    "    dist = distributions[key]\n",
    "    mu_display2D(dist, U_shape)\n",
    "    for r in [0.1, 0.25, 0.5, 0.75, 1]:\n",
    "        display_communication_probability(key, dist, r, U_shape, integration)"
   ]
  },
  {
   "cell_type": "code",
   "execution_count": null,
   "metadata": {},
   "outputs": [],
   "source": [
    "for key in distributions:\n",
    "    dist = distributions[key]\n",
    "    mu_display2D(dist, U_shape)\n",
    "    for r in [0.1, 0.25, 0.5, 0.75, 1]:\n",
    "        display_communication_probability(key, dist, r, U_shape, integration)"
   ]
  }
 ],
 "metadata": {
  "interpreter": {
   "hash": "31f2aee4e71d21fbe5cf8b01ff0e069b9275f58929596ceb00d14d90e3e16cd6"
  },
  "kernelspec": {
   "display_name": "Python 3.9.2 64-bit",
   "language": "python",
   "name": "python3"
  },
  "language_info": {
   "codemirror_mode": {
    "name": "ipython",
    "version": 3
   },
   "file_extension": ".py",
   "mimetype": "text/x-python",
   "name": "python",
   "nbconvert_exporter": "python",
   "pygments_lexer": "ipython3",
   "version": "3.9.2"
  },
  "orig_nbformat": 4
 },
 "nbformat": 4,
 "nbformat_minor": 2
}
